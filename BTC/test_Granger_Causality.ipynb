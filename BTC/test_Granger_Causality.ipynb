{
 "cells": [
  {
   "cell_type": "code",
   "execution_count": 11,
   "id": "0c641b6c",
   "metadata": {},
   "outputs": [
    {
     "data": {
      "text/html": [
       "        <script type=\"text/javascript\">\n",
       "        window.PlotlyConfig = {MathJaxConfig: 'local'};\n",
       "        if (window.MathJax && window.MathJax.Hub && window.MathJax.Hub.Config) {window.MathJax.Hub.Config({SVG: {font: \"STIX-Web\"}});}\n",
       "        if (typeof require !== 'undefined') {\n",
       "        require.undef(\"plotly\");\n",
       "        requirejs.config({\n",
       "            paths: {\n",
       "                'plotly': ['https://cdn.plot.ly/plotly-2.14.0.min']\n",
       "            }\n",
       "        });\n",
       "        require(['plotly'], function(Plotly) {\n",
       "            window._Plotly = Plotly;\n",
       "        });\n",
       "        }\n",
       "        </script>\n",
       "        "
      ]
     },
     "metadata": {},
     "output_type": "display_data"
    },
    {
     "data": {
      "text/html": [
       "        <script type=\"text/javascript\">\n",
       "        window.PlotlyConfig = {MathJaxConfig: 'local'};\n",
       "        if (window.MathJax && window.MathJax.Hub && window.MathJax.Hub.Config) {window.MathJax.Hub.Config({SVG: {font: \"STIX-Web\"}});}\n",
       "        if (typeof require !== 'undefined') {\n",
       "        require.undef(\"plotly\");\n",
       "        requirejs.config({\n",
       "            paths: {\n",
       "                'plotly': ['https://cdn.plot.ly/plotly-2.14.0.min']\n",
       "            }\n",
       "        });\n",
       "        require(['plotly'], function(Plotly) {\n",
       "            window._Plotly = Plotly;\n",
       "        });\n",
       "        }\n",
       "        </script>\n",
       "        "
      ]
     },
     "metadata": {},
     "output_type": "display_data"
    },
    {
     "data": {
      "text/html": [
       "<div>\n",
       "<style scoped>\n",
       "    .dataframe tbody tr th:only-of-type {\n",
       "        vertical-align: middle;\n",
       "    }\n",
       "\n",
       "    .dataframe tbody tr th {\n",
       "        vertical-align: top;\n",
       "    }\n",
       "\n",
       "    .dataframe thead th {\n",
       "        text-align: right;\n",
       "    }\n",
       "</style>\n",
       "<table border=\"1\" class=\"dataframe\">\n",
       "  <thead>\n",
       "    <tr style=\"text-align: right;\">\n",
       "      <th></th>\n",
       "      <th>price</th>\n",
       "      <th>market_cap</th>\n",
       "      <th>total_volume</th>\n",
       "    </tr>\n",
       "    <tr>\n",
       "      <th>snapped_at</th>\n",
       "      <th></th>\n",
       "      <th></th>\n",
       "      <th></th>\n",
       "    </tr>\n",
       "  </thead>\n",
       "  <tbody>\n",
       "    <tr>\n",
       "      <th>2013-04-28 00:00:00+00:00</th>\n",
       "      <td>135.30</td>\n",
       "      <td>1.500518e+09</td>\n",
       "      <td>0.0</td>\n",
       "    </tr>\n",
       "    <tr>\n",
       "      <th>2013-04-29 00:00:00+00:00</th>\n",
       "      <td>141.96</td>\n",
       "      <td>1.575032e+09</td>\n",
       "      <td>0.0</td>\n",
       "    </tr>\n",
       "    <tr>\n",
       "      <th>2013-04-30 00:00:00+00:00</th>\n",
       "      <td>135.30</td>\n",
       "      <td>1.501657e+09</td>\n",
       "      <td>0.0</td>\n",
       "    </tr>\n",
       "    <tr>\n",
       "      <th>2013-05-01 00:00:00+00:00</th>\n",
       "      <td>117.00</td>\n",
       "      <td>1.298952e+09</td>\n",
       "      <td>0.0</td>\n",
       "    </tr>\n",
       "    <tr>\n",
       "      <th>2013-05-02 00:00:00+00:00</th>\n",
       "      <td>103.43</td>\n",
       "      <td>1.148668e+09</td>\n",
       "      <td>0.0</td>\n",
       "    </tr>\n",
       "  </tbody>\n",
       "</table>\n",
       "</div>"
      ],
      "text/plain": [
       "                            price    market_cap  total_volume\n",
       "snapped_at                                                   \n",
       "2013-04-28 00:00:00+00:00  135.30  1.500518e+09           0.0\n",
       "2013-04-29 00:00:00+00:00  141.96  1.575032e+09           0.0\n",
       "2013-04-30 00:00:00+00:00  135.30  1.501657e+09           0.0\n",
       "2013-05-01 00:00:00+00:00  117.00  1.298952e+09           0.0\n",
       "2013-05-02 00:00:00+00:00  103.43  1.148668e+09           0.0"
      ]
     },
     "execution_count": 11,
     "metadata": {},
     "output_type": "execute_result"
    }
   ],
   "source": [
    "import numpy as np\n",
    "import pandas as pd\n",
    "import cufflinks as cf\n",
    "from plotly import __version__\n",
    "from plotly.offline import download_plotlyjs, init_notebook_mode, plot, iplot \n",
    "import plotly.express as px\n",
    "from datetime import datetime,date\n",
    "\n",
    "%matplotlib inline\n",
    "init_notebook_mode(connected=True)\n",
    "cf.set_config_file(sharing='private',theme='pearl',offline=True)\n",
    "#print(\"Cufflinks Version : {}\".format(cf.__version__))\n",
    "\n",
    "df = pd.read_csv('./data/btc-usd-max.csv',index_col=0,parse_dates=True )\n",
    "df = df.resample('D').first()\n",
    "df['price'].fillna(method='ffill', inplace=True)\n",
    "# to get the log price\n",
    "# df['price'] = np.log(df['price'])\n",
    "df.head()"
   ]
  },
  {
   "cell_type": "code",
   "execution_count": 12,
   "id": "443dd9e8",
   "metadata": {},
   "outputs": [
    {
     "data": {
      "image/png": "[encoded data removed]",
      "text/plain": [
       "<Figure size 1152x360 with 1 Axes>"
      ]
     },
     "metadata": {
      "needs_background": "light"
     },
     "output_type": "display_data"
    }
   ],
   "source": [
    "df[['price','total_volume']].plot(figsize=(16,5));"
   ]
  },
  {
   "cell_type": "code",
   "execution_count": 4,
   "id": "1e0a7fdf",
   "metadata": {},
   "outputs": [],
   "source": [
    "from statsmodels.tsa.stattools import adfuller,kpss,coint,bds,q_stat,grangercausalitytests,levinson_durbin"
   ]
  },
  {
   "cell_type": "code",
   "execution_count": 7,
   "id": "a461bcc8",
   "metadata": {},
   "outputs": [],
   "source": [
    "df2 = df"
   ]
  },
  {
   "cell_type": "code",
   "execution_count": 10,
   "id": "e575058f",
   "metadata": {},
   "outputs": [
    {
     "name": "stdout",
     "output_type": "stream",
     "text": [
      "\n",
      "Granger Causality\n",
      "number of lags (no zero) 1\n",
      "ssr based F test:         F=1.8876  , p=0.1696  , df_denom=3427, df_num=1\n",
      "ssr based chi2 test:   chi2=1.8893  , p=0.1693  , df=1\n",
      "likelihood ratio test: chi2=1.8887  , p=0.1693  , df=1\n",
      "parameter F test:         F=1.8876  , p=0.1696  , df_denom=3427, df_num=1\n",
      "\n",
      "Granger Causality\n",
      "number of lags (no zero) 2\n",
      "ssr based F test:         F=1.0794  , p=0.3399  , df_denom=3424, df_num=2\n",
      "ssr based chi2 test:   chi2=2.1621  , p=0.3392  , df=2\n",
      "likelihood ratio test: chi2=2.1614  , p=0.3394  , df=2\n",
      "parameter F test:         F=1.0794  , p=0.3399  , df_denom=3424, df_num=2\n",
      "\n",
      "Granger Causality\n",
      "number of lags (no zero) 3\n",
      "ssr based F test:         F=1.4940  , p=0.2141  , df_denom=3421, df_num=3\n",
      "ssr based chi2 test:   chi2=4.4912  , p=0.2131  , df=3\n",
      "likelihood ratio test: chi2=4.4883  , p=0.2133  , df=3\n",
      "parameter F test:         F=1.4940  , p=0.2141  , df_denom=3421, df_num=3\n",
      "\n",
      "Granger Causality\n",
      "number of lags (no zero) 4\n",
      "ssr based F test:         F=1.2112  , p=0.3038  , df_denom=3418, df_num=4\n",
      "ssr based chi2 test:   chi2=4.8576  , p=0.3022  , df=4\n",
      "likelihood ratio test: chi2=4.8541  , p=0.3026  , df=4\n",
      "parameter F test:         F=1.2112  , p=0.3038  , df_denom=3418, df_num=4\n",
      "\n",
      "Granger Causality\n",
      "number of lags (no zero) 5\n",
      "ssr based F test:         F=1.3212  , p=0.2519  , df_denom=3415, df_num=5\n",
      "ssr based chi2 test:   chi2=6.6275  , p=0.2499  , df=5\n",
      "likelihood ratio test: chi2=6.6211  , p=0.2504  , df=5\n",
      "parameter F test:         F=1.3212  , p=0.2519  , df_denom=3415, df_num=5\n",
      "\n",
      "Granger Causality\n",
      "number of lags (no zero) 6\n",
      "ssr based F test:         F=2.5383  , p=0.0187  , df_denom=3412, df_num=6\n",
      "ssr based chi2 test:   chi2=15.2878 , p=0.0181  , df=6\n",
      "likelihood ratio test: chi2=15.2537 , p=0.0184  , df=6\n",
      "parameter F test:         F=2.5383  , p=0.0187  , df_denom=3412, df_num=6\n",
      "\n",
      "Granger Causality\n",
      "number of lags (no zero) 7\n",
      "ssr based F test:         F=2.2294  , p=0.0292  , df_denom=3409, df_num=7\n",
      "ssr based chi2 test:   chi2=15.6744 , p=0.0283  , df=7\n",
      "likelihood ratio test: chi2=15.6386 , p=0.0286  , df=7\n",
      "parameter F test:         F=2.2294  , p=0.0292  , df_denom=3409, df_num=7\n",
      "\n",
      "Granger Causality\n",
      "number of lags (no zero) 8\n",
      "ssr based F test:         F=3.0903  , p=0.0018  , df_denom=3406, df_num=8\n",
      "ssr based chi2 test:   chi2=24.8455 , p=0.0017  , df=8\n",
      "likelihood ratio test: chi2=24.7557 , p=0.0017  , df=8\n",
      "parameter F test:         F=3.0903  , p=0.0018  , df_denom=3406, df_num=8\n",
      "\n",
      "Granger Causality\n",
      "number of lags (no zero) 9\n",
      "ssr based F test:         F=2.8738  , p=0.0022  , df_denom=3403, df_num=9\n",
      "ssr based chi2 test:   chi2=26.0088 , p=0.0020  , df=9\n",
      "likelihood ratio test: chi2=25.9105 , p=0.0021  , df=9\n",
      "parameter F test:         F=2.8738  , p=0.0022  , df_denom=3403, df_num=9\n",
      "\n",
      "Granger Causality\n",
      "number of lags (no zero) 10\n",
      "ssr based F test:         F=4.4499  , p=0.0000  , df_denom=3400, df_num=10\n",
      "ssr based chi2 test:   chi2=44.7735 , p=0.0000  , df=10\n",
      "likelihood ratio test: chi2=44.4830 , p=0.0000  , df=10\n",
      "parameter F test:         F=4.4499  , p=0.0000  , df_denom=3400, df_num=10\n",
      "\n",
      "Granger Causality\n",
      "number of lags (no zero) 11\n",
      "ssr based F test:         F=4.8355  , p=0.0000  , df_denom=3397, df_num=11\n",
      "ssr based chi2 test:   chi2=53.5506 , p=0.0000  , df=11\n",
      "likelihood ratio test: chi2=53.1357 , p=0.0000  , df=11\n",
      "parameter F test:         F=4.8355  , p=0.0000  , df_denom=3397, df_num=11\n",
      "\n",
      "Granger Causality\n",
      "number of lags (no zero) 12\n",
      "ssr based F test:         F=4.5284  , p=0.0000  , df_denom=3394, df_num=12\n",
      "ssr based chi2 test:   chi2=54.7409 , p=0.0000  , df=12\n",
      "likelihood ratio test: chi2=54.3073 , p=0.0000  , df=12\n",
      "parameter F test:         F=4.5284  , p=0.0000  , df_denom=3394, df_num=12\n",
      "\n",
      "Granger Causality\n",
      "number of lags (no zero) 13\n",
      "ssr based F test:         F=3.9903  , p=0.0000  , df_denom=3391, df_num=13\n",
      "ssr based chi2 test:   chi2=52.2865 , p=0.0000  , df=13\n",
      "likelihood ratio test: chi2=51.8906 , p=0.0000  , df=13\n",
      "parameter F test:         F=3.9903  , p=0.0000  , df_denom=3391, df_num=13\n",
      "\n",
      "Granger Causality\n",
      "number of lags (no zero) 14\n",
      "ssr based F test:         F=4.1426  , p=0.0000  , df_denom=3388, df_num=14\n",
      "ssr based chi2 test:   chi2=58.4924 , p=0.0000  , df=14\n",
      "likelihood ratio test: chi2=57.9974 , p=0.0000  , df=14\n",
      "parameter F test:         F=4.1426  , p=0.0000  , df_denom=3388, df_num=14\n",
      "\n",
      "Granger Causality\n",
      "number of lags (no zero) 15\n",
      "ssr based F test:         F=3.9142  , p=0.0000  , df_denom=3385, df_num=15\n",
      "ssr based chi2 test:   chi2=59.2514 , p=0.0000  , df=15\n",
      "likelihood ratio test: chi2=58.7434 , p=0.0000  , df=15\n",
      "parameter F test:         F=3.9142  , p=0.0000  , df_denom=3385, df_num=15\n"
     ]
    }
   ],
   "source": [
    "df2.dropna(inplace=True)\n",
    "grangercausalitytests(df2[['price','total_volume']],maxlag=15);"
   ]
  },
  {
   "cell_type": "code",
   "execution_count": 28,
   "id": "aabf7470",
   "metadata": {},
   "outputs": [
    {
     "data": {
      "application/vnd.plotly.v1+json": {
       "config": {
        "linkText": "Export to plot.ly",
        "plotlyServerURL": "https://plot.ly",
        "showLink": true
       },
       "data": [
        {
         "line": {
          "color": "rgba(255, 153, 51, 1.0)",
          "dash": "solid",
          "shape": "linear",
          "width": 1.3
         },
         "mode": "lines",
         "name": "price",
         "text": "",
         "type": "scatter",
         "x": [
          "2021-09-22 00:00:00+00:00",
          "2021-09-23 00:00:00+00:00",
          "2021-09-24 00:00:00+00:00",
          "2021-09-25 00:00:00+00:00",
          "2021-09-26 00:00:00+00:00",
          "2021-09-27 00:00:00+00:00",
          "2021-09-28 00:00:00+00:00",
          "2021-09-29 00:00:00+00:00",
          "2021-09-30 00:00:00+00:00",
          "2021-10-01 00:00:00+00:00",
          "2021-10-02 00:00:00+00:00",
          "2021-10-03 00:00:00+00:00",
          "2021-10-04 00:00:00+00:00",
          "2021-10-05 00:00:00+00:00",
          "2021-10-06 00:00:00+00:00",
          "2021-10-07 00:00:00+00:00",
          "2021-10-08 00:00:00+00:00",
          "2021-10-09 00:00:00+00:00",
          "2021-10-10 00:00:00+00:00",
          "2021-10-11 00:00:00+00:00",
          "2021-10-12 00:00:00+00:00",
          "2021-10-13 00:00:00+00:00",
          "2021-10-14 00:00:00+00:00",
          "2021-10-15 00:00:00+00:00",
          "2021-10-16 00:00:00+00:00",
          "2021-10-17 00:00:00+00:00",
          "2021-10-18 00:00:00+00:00",
          "2021-10-19 00:00:00+00:00",
          "2021-10-20 00:00:00+00:00",
          "2021-10-21 00:00:00+00:00",
          "2021-10-22 00:00:00+00:00",
          "2021-10-23 00:00:00+00:00",
          "2021-10-24 00:00:00+00:00",
          "2021-10-25 00:00:00+00:00",
          "2021-10-26 00:00:00+00:00",
          "2021-10-27 00:00:00+00:00",
          "2021-10-28 00:00:00+00:00",
          "2021-10-29 00:00:00+00:00",
          "2021-10-30 00:00:00+00:00",
          "2021-10-31 00:00:00+00:00",
          "2021-11-01 00:00:00+00:00",
          "2021-11-02 00:00:00+00:00",
          "2021-11-03 00:00:00+00:00",
          "2021-11-04 00:00:00+00:00",
          "2021-11-05 00:00:00+00:00",
          "2021-11-06 00:00:00+00:00",
          "2021-11-07 00:00:00+00:00",
          "2021-11-08 00:00:00+00:00",
          "2021-11-09 00:00:00+00:00",
          "2021-11-10 00:00:00+00:00",
          "2021-11-11 00:00:00+00:00",
          "2021-11-12 00:00:00+00:00",
          "2021-11-13 00:00:00+00:00",
          "2021-11-14 00:00:00+00:00",
          "2021-11-15 00:00:00+00:00",
          "2021-11-16 00:00:00+00:00",
          "2021-11-17 00:00:00+00:00",
          "2021-11-18 00:00:00+00:00",
          "2021-11-19 00:00:00+00:00",
          "2021-11-20 00:00:00+00:00",
          "2021-11-21 00:00:00+00:00",
          "2021-11-22 00:00:00+00:00",
          "2021-11-23 00:00:00+00:00",
          "2021-11-24 00:00:00+00:00",
          "2021-11-25 00:00:00+00:00",
          "2021-11-26 00:00:00+00:00",
          "2021-11-27 00:00:00+00:00",
          "2021-11-28 00:00:00+00:00",
          "2021-11-29 00:00:00+00:00",
          "2021-11-30 00:00:00+00:00",
          "2021-12-01 00:00:00+00:00",
          "2021-12-02 00:00:00+00:00",
          "2021-12-03 00:00:00+00:00",
          "2021-12-04 00:00:00+00:00",
          "2021-12-05 00:00:00+00:00",
          "2021-12-06 00:00:00+00:00",
          "2021-12-07 00:00:00+00:00",
          "2021-12-08 00:00:00+00:00",
          "2021-12-09 00:00:00+00:00",
          "2021-12-10 00:00:00+00:00",
          "2021-12-11 00:00:00+00:00",
          "2021-12-12 00:00:00+00:00",
          "2021-12-13 00:00:00+00:00",
          "2021-12-14 00:00:00+00:00",
          "2021-12-15 00:00:00+00:00",
          "2021-12-16 00:00:00+00:00",
          "2021-12-17 00:00:00+00:00",
          "2021-12-18 00:00:00+00:00",
          "2021-12-19 00:00:00+00:00",
          "2021-12-20 00:00:00+00:00",
          "2021-12-21 00:00:00+00:00",
          "2021-12-22 00:00:00+00:00",
          "2021-12-23 00:00:00+00:00",
          "2021-12-24 00:00:00+00:00",
          "2021-12-25 00:00:00+00:00",
          "2021-12-26 00:00:00+00:00",
          "2021-12-27 00:00:00+00:00",
          "2021-12-28 00:00:00+00:00",
          "2021-12-29 00:00:00+00:00",
          "2021-12-30 00:00:00+00:00",
          "2021-12-31 00:00:00+00:00",
          "2022-01-01 00:00:00+00:00",
          "2022-01-02 00:00:00+00:00",
          "2022-01-03 00:00:00+00:00",
          "2022-01-04 00:00:00+00:00",
          "2022-01-05 00:00:00+00:00",
          "2022-01-06 00:00:00+00:00",
          "2022-01-07 00:00:00+00:00",
          "2022-01-08 00:00:00+00:00",
          "2022-01-09 00:00:00+00:00",
          "2022-01-10 00:00:00+00:00",
          "2022-01-11 00:00:00+00:00",
          "2022-01-12 00:00:00+00:00",
          "2022-01-13 00:00:00+00:00",
          "2022-01-14 00:00:00+00:00",
          "2022-01-15 00:00:00+00:00",
          "2022-01-16 00:00:00+00:00",
          "2022-01-17 00:00:00+00:00",
          "2022-01-18 00:00:00+00:00",
          "2022-01-19 00:00:00+00:00",
          "2022-01-20 00:00:00+00:00",
          "2022-01-21 00:00:00+00:00",
          "2022-01-22 00:00:00+00:00",
          "2022-01-23 00:00:00+00:00",
          "2022-01-24 00:00:00+00:00",
          "2022-01-25 00:00:00+00:00",
          "2022-01-26 00:00:00+00:00",
          "2022-01-27 00:00:00+00:00",
          "2022-01-28 00:00:00+00:00",
          "2022-01-29 00:00:00+00:00",
          "2022-01-30 00:00:00+00:00",
          "2022-01-31 00:00:00+00:00",
          "2022-02-01 00:00:00+00:00",
          "2022-02-02 00:00:00+00:00",
          "2022-02-03 00:00:00+00:00",
          "2022-02-04 00:00:00+00:00",
          "2022-02-05 00:00:00+00:00",
          "2022-02-06 00:00:00+00:00",
          "2022-02-07 00:00:00+00:00",
          "2022-02-08 00:00:00+00:00",
          "2022-02-09 00:00:00+00:00",
          "2022-02-10 00:00:00+00:00",
          "2022-02-11 00:00:00+00:00",
          "2022-02-12 00:00:00+00:00",
          "2022-02-13 00:00:00+00:00",
          "2022-02-14 00:00:00+00:00",
          "2022-02-15 00:00:00+00:00",
          "2022-02-16 00:00:00+00:00",
          "2022-02-17 00:00:00+00:00",
          "2022-02-18 00:00:00+00:00",
          "2022-02-19 00:00:00+00:00",
          "2022-02-20 00:00:00+00:00",
          "2022-02-21 00:00:00+00:00",
          "2022-02-22 00:00:00+00:00",
          "2022-02-23 00:00:00+00:00",
          "2022-02-24 00:00:00+00:00",
          "2022-02-25 00:00:00+00:00",
          "2022-02-26 00:00:00+00:00",
          "2022-02-27 00:00:00+00:00",
          "2022-02-28 00:00:00+00:00",
          "2022-03-01 00:00:00+00:00",
          "2022-03-02 00:00:00+00:00",
          "2022-03-03 00:00:00+00:00",
          "2022-03-04 00:00:00+00:00",
          "2022-03-05 00:00:00+00:00",
          "2022-03-06 00:00:00+00:00",
          "2022-03-07 00:00:00+00:00",
          "2022-03-08 00:00:00+00:00",
          "2022-03-09 00:00:00+00:00",
          "2022-03-10 00:00:00+00:00",
          "2022-03-11 00:00:00+00:00",
          "2022-03-12 00:00:00+00:00",
          "2022-03-13 00:00:00+00:00",
          "2022-03-14 00:00:00+00:00",
          "2022-03-15 00:00:00+00:00",
          "2022-03-16 00:00:00+00:00",
          "2022-03-17 00:00:00+00:00",
          "2022-03-18 00:00:00+00:00",
          "2022-03-19 00:00:00+00:00",
          "2022-03-20 00:00:00+00:00",
          "2022-03-21 00:00:00+00:00",
          "2022-03-22 00:00:00+00:00",
          "2022-03-23 00:00:00+00:00",
          "2022-03-24 00:00:00+00:00",
          "2022-03-25 00:00:00+00:00",
          "2022-03-26 00:00:00+00:00",
          "2022-03-27 00:00:00+00:00",
          "2022-03-28 00:00:00+00:00",
          "2022-03-29 00:00:00+00:00",
          "2022-03-30 00:00:00+00:00",
          "2022-03-31 00:00:00+00:00",
          "2022-04-01 00:00:00+00:00",
          "2022-04-02 00:00:00+00:00",
          "2022-04-03 00:00:00+00:00",
          "2022-04-04 00:00:00+00:00",
          "2022-04-05 00:00:00+00:00",
          "2022-04-06 00:00:00+00:00",
          "2022-04-07 00:00:00+00:00",
          "2022-04-08 00:00:00+00:00",
          "2022-04-09 00:00:00+00:00",
          "2022-04-10 00:00:00+00:00",
          "2022-04-11 00:00:00+00:00",
          "2022-04-12 00:00:00+00:00",
          "2022-04-13 00:00:00+00:00",
          "2022-04-14 00:00:00+00:00",
          "2022-04-15 00:00:00+00:00",
          "2022-04-16 00:00:00+00:00",
          "2022-04-17 00:00:00+00:00",
          "2022-04-18 00:00:00+00:00",
          "2022-04-19 00:00:00+00:00",
          "2022-04-20 00:00:00+00:00",
          "2022-04-21 00:00:00+00:00",
          "2022-04-22 00:00:00+00:00",
          "2022-04-23 00:00:00+00:00",
          "2022-04-24 00:00:00+00:00",
          "2022-04-25 00:00:00+00:00",
          "2022-04-26 00:00:00+00:00",
          "2022-04-27 00:00:00+00:00",
          "2022-04-28 00:00:00+00:00",
          "2022-04-29 00:00:00+00:00",
          "2022-04-30 00:00:00+00:00",
          "2022-05-01 00:00:00+00:00",
          "2022-05-02 00:00:00+00:00",
          "2022-05-03 00:00:00+00:00",
          "2022-05-04 00:00:00+00:00",
          "2022-05-05 00:00:00+00:00",
          "2022-05-06 00:00:00+00:00",
          "2022-05-07 00:00:00+00:00",
          "2022-05-08 00:00:00+00:00",
          "2022-05-09 00:00:00+00:00",
          "2022-05-10 00:00:00+00:00",
          "2022-05-11 00:00:00+00:00",
          "2022-05-12 00:00:00+00:00",
          "2022-05-13 00:00:00+00:00",
          "2022-05-14 00:00:00+00:00",
          "2022-05-15 00:00:00+00:00",
          "2022-05-16 00:00:00+00:00",
          "2022-05-17 00:00:00+00:00",
          "2022-05-18 00:00:00+00:00",
          "2022-05-19 00:00:00+00:00",
          "2022-05-20 00:00:00+00:00",
          "2022-05-21 00:00:00+00:00",
          "2022-05-22 00:00:00+00:00",
          "2022-05-23 00:00:00+00:00",
          "2022-05-24 00:00:00+00:00",
          "2022-05-25 00:00:00+00:00",
          "2022-05-26 00:00:00+00:00",
          "2022-05-27 00:00:00+00:00",
          "2022-05-28 00:00:00+00:00",
          "2022-05-29 00:00:00+00:00",
          "2022-05-30 00:00:00+00:00",
          "2022-05-31 00:00:00+00:00",
          "2022-06-01 00:00:00+00:00",
          "2022-06-02 00:00:00+00:00",
          "2022-06-03 00:00:00+00:00",
          "2022-06-04 00:00:00+00:00",
          "2022-06-05 00:00:00+00:00",
          "2022-06-06 00:00:00+00:00",
          "2022-06-07 00:00:00+00:00",
          "2022-06-08 00:00:00+00:00",
          "2022-06-09 00:00:00+00:00",
          "2022-06-10 00:00:00+00:00",
          "2022-06-11 00:00:00+00:00",
          "2022-06-12 00:00:00+00:00",
          "2022-06-13 00:00:00+00:00",
          "2022-06-14 00:00:00+00:00",
          "2022-06-15 00:00:00+00:00",
          "2022-06-16 00:00:00+00:00",
          "2022-06-17 00:00:00+00:00",
          "2022-06-18 00:00:00+00:00",
          "2022-06-19 00:00:00+00:00",
          "2022-06-20 00:00:00+00:00",
          "2022-06-21 00:00:00+00:00",
          "2022-06-22 00:00:00+00:00",
          "2022-06-23 00:00:00+00:00",
          "2022-06-24 00:00:00+00:00",
          "2022-06-25 00:00:00+00:00",
          "2022-06-26 00:00:00+00:00",
          "2022-06-27 00:00:00+00:00",
          "2022-06-28 00:00:00+00:00",
          "2022-06-29 00:00:00+00:00",
          "2022-06-30 00:00:00+00:00",
          "2022-07-01 00:00:00+00:00",
          "2022-07-02 00:00:00+00:00",
          "2022-07-03 00:00:00+00:00",
          "2022-07-04 00:00:00+00:00",
          "2022-07-05 00:00:00+00:00",
          "2022-07-06 00:00:00+00:00",
          "2022-07-07 00:00:00+00:00",
          "2022-07-08 00:00:00+00:00",
          "2022-07-09 00:00:00+00:00",
          "2022-07-10 00:00:00+00:00",
          "2022-07-11 00:00:00+00:00",
          "2022-07-12 00:00:00+00:00",
          "2022-07-13 00:00:00+00:00",
          "2022-07-14 00:00:00+00:00",
          "2022-07-15 00:00:00+00:00",
          "2022-07-16 00:00:00+00:00",
          "2022-07-17 00:00:00+00:00",
          "2022-07-18 00:00:00+00:00",
          "2022-07-19 00:00:00+00:00",
          "2022-07-20 00:00:00+00:00",
          "2022-07-21 00:00:00+00:00",
          "2022-07-22 00:00:00+00:00",
          "2022-07-23 00:00:00+00:00",
          "2022-07-24 00:00:00+00:00",
          "2022-07-25 00:00:00+00:00",
          "2022-07-26 00:00:00+00:00",
          "2022-07-27 00:00:00+00:00",
          "2022-07-28 00:00:00+00:00",
          "2022-07-29 00:00:00+00:00",
          "2022-07-30 00:00:00+00:00",
          "2022-07-31 00:00:00+00:00",
          "2022-08-01 00:00:00+00:00",
          "2022-08-02 00:00:00+00:00",
          "2022-08-03 00:00:00+00:00",
          "2022-08-04 00:00:00+00:00",
          "2022-08-05 00:00:00+00:00",
          "2022-08-06 00:00:00+00:00",
          "2022-08-07 00:00:00+00:00",
          "2022-08-08 00:00:00+00:00",
          "2022-08-09 00:00:00+00:00",
          "2022-08-10 00:00:00+00:00",
          "2022-08-11 00:00:00+00:00",
          "2022-08-12 00:00:00+00:00",
          "2022-08-13 00:00:00+00:00",
          "2022-08-14 00:00:00+00:00",
          "2022-08-15 00:00:00+00:00",
          "2022-08-16 00:00:00+00:00",
          "2022-08-17 00:00:00+00:00",
          "2022-08-18 00:00:00+00:00",
          "2022-08-19 00:00:00+00:00",
          "2022-08-20 00:00:00+00:00",
          "2022-08-21 00:00:00+00:00",
          "2022-08-22 00:00:00+00:00",
          "2022-08-23 00:00:00+00:00",
          "2022-08-24 00:00:00+00:00",
          "2022-08-25 00:00:00+00:00",
          "2022-08-26 00:00:00+00:00",
          "2022-08-27 00:00:00+00:00",
          "2022-08-28 00:00:00+00:00",
          "2022-08-29 00:00:00+00:00",
          "2022-08-30 00:00:00+00:00",
          "2022-08-31 00:00:00+00:00",
          "2022-09-01 00:00:00+00:00",
          "2022-09-02 00:00:00+00:00",
          "2022-09-03 00:00:00+00:00",
          "2022-09-04 00:00:00+00:00",
          "2022-09-05 00:00:00+00:00",
          "2022-09-06 00:00:00+00:00",
          "2022-09-07 00:00:00+00:00",
          "2022-09-08 00:00:00+00:00",
          "2022-09-09 00:00:00+00:00",
          "2022-09-10 00:00:00+00:00",
          "2022-09-11 00:00:00+00:00",
          "2022-09-12 00:00:00+00:00",
          "2022-09-13 00:00:00+00:00",
          "2022-09-14 00:00:00+00:00",
          "2022-09-15 00:00:00+00:00",
          "2022-09-16 00:00:00+00:00",
          "2022-09-17 00:00:00+00:00",
          "2022-09-18 00:00:00+00:00",
          "2022-09-19 00:00:00+00:00",
          "2022-09-20 00:00:00+00:00",
          "2022-09-21 00:00:00+00:00"
         ],
         "y": [
          40386.62363528928,
          43587.22305058473,
          44980.898214810935,
          42752.1681545072,
          42856.85516422452,
          43336.86123324274,
          42247.35572900636,
          41010.37519836549,
          41587.66786232295,
          43859.32614724109,
          48181.87627260008,
          47777.762019063,
          48282.97113857447,
          49260.23232113069,
          51668.99422435564,
          55415.00574202895,
          53894.59599452107,
          54010.93747374405,
          55125.46033768045,
          54711.86959664297,
          57572.51085559653,
          56335.035460511535,
          57487.9858804222,
          57452.43178503547,
          61809.02394427028,
          61165.63564211521,
          61583.77443961336,
          62017.972725178704,
          64517.64856042277,
          66237.51755029388,
          62541.08693293518,
          61029.27093182092,
          61572.14043422243,
          61173.1663907232,
          63228.21382584213,
          60604.18888794746,
          58641.00147419492,
          60767.55585206728,
          62283.19805587354,
          61837.257002978935,
          61471.86846276259,
          61121.83120106507,
          63247.20896127831,
          63130.94235171542,
          61601.74357204975,
          61247.38494217787,
          61661.35866372036,
          63153.230193019495,
          67617.0155448617,
          67145.37493537061,
          65061.05440696283,
          65005.64515956679,
          64432.04794734522,
          64660.33535267343,
          65648.97779110243,
          63933.83544259933,
          60448.56251258625,
          60603.65586738653,
          56987.32233855049,
          58459.25551667463,
          60082.91166841709,
          59139.77927952717,
          56386.85685315215,
          57748.79317378856,
          57198.18384629529,
          58897.84698299794,
          53827.79286503472,
          54533.40388242691,
          57237.66113709043,
          57848.77353712989,
          57011.28047424234,
          57169.37199381056,
          56508.26805402271,
          53785.96717237922,
          49161.99070957517,
          49268.46989053938,
          50461.57683653979,
          50647.66340635755,
          50530.4580645934,
          47885.87198941706,
          47303.56415217411,
          49242.30232407148,
          50051.078348674855,
          46696.30469946678,
          48410.564656309325,
          48936.86258244155,
          47694.53050225176,
          46328.6963654447,
          46970.057050727024,
          46807.04861642627,
          47117.008204210455,
          49145.21725849885,
          48755.89564404483,
          50900.61494951601,
          50888.72103678683,
          50663.48710213215,
          50852.860259540656,
          50774.067814743,
          47725.14804631933,
          46506.99464767938,
          47191.86838983951,
          46319.65108805251,
          47816.07767640849,
          47387.212167697246,
          46531.140860530526,
          45938.02427172366,
          43647.14750806805,
          43216.45867693359,
          41527.197042644846,
          41756.66232397826,
          41862.3609856517,
          41869.85905559219,
          42777.21102048236,
          43981.87732717414,
          42608.41001195019,
          43120.85451108056,
          43226.65026980921,
          43119.79214308028,
          42298.341116872325,
          42395.45879157343,
          41749.55143098559,
          40707.6824143097,
          36508.79978983082,
          35180.435462830384,
          36306.409440464704,
          36774.00714224005,
          36988.92851066736,
          36870.440166931,
          37276.839558174994,
          37852.57902803263,
          38232.17873217708,
          37983.151499406464,
          38555.53446121157,
          38835.69494322237,
          37000.98249864199,
          37101.351593780935,
          41673.8395543094,
          41493.690050910525,
          42475.543220951215,
          43910.92998644309,
          44184.447511676175,
          44383.88805541707,
          43628.13953235228,
          42445.38876793804,
          42254.738123237206,
          42247.83595326771,
          42634.573783663065,
          44574.32057099816,
          44063.28198279571,
          40562.98694982819,
          40073.495362369824,
          40192.75912143141,
          38514.00853622455,
          37059.97940228752,
          38337.2038554348,
          37372.2926803477,
          38363.345488570165,
          39316.16207578596,
          39090.202153609054,
          37803.59016044929,
          43225.40467743573,
          44459.59162774341,
          43980.707382090906,
          42491.97839335905,
          39200.29973557414,
          39463.14681149058,
          38442.99174588676,
          38076.49382252028,
          38732.93701302586,
          41986.03444607623,
          39468.35477300189,
          38775.17558840679,
          38903.69354800599,
          37852.52514106289,
          39669.423812004505,
          39331.84654059453,
          41165.63506140341,
          41001.70957801974,
          41837.41313797566,
          42201.939920688186,
          41283.25900104565,
          41061.81589384987,
          42401.89559748944,
          42802.15471016985,
          43936.09623454058,
          44331.77795706412,
          44510.84421762133,
          46715.1176185105,
          46994.879118357465,
          47459.261237539096,
          47063.36584996355,
          45528.40715313835,
          46270.20070585378,
          45842.14476317382,
          46434.562982661664,
          46622.63571309101,
          45635.45438126673,
          43198.77526936491,
          43515.15032279806,
          42315.70972421807,
          42796.39747810973,
          42274.907370256085,
          39603.96515928416,
          40205.67794073206,
          41205.16871904067,
          39959.457069033735,
          40586.59730938673,
          40450.37930543977,
          39739.11925622209,
          40833.5379650337,
          41498.12244669832,
          41397.220477279625,
          40528.54148675958,
          39756.848993471016,
          39561.78019075613,
          39469.04986198146,
          40488.877917622376,
          38134.21545068938,
          39237.94931747103,
          39741.76664580964,
          38650.55013809267,
          37820.61176529208,
          38537.65476669535,
          38561.56539902362,
          37758.496107734,
          39699.02404125388,
          36612.22954880304,
          36116.394294982965,
          35573.31019883488,
          34070.31219757961,
          30269.58695662948,
          31026.93386836242,
          28913.48836365432,
          29126.11597686014,
          29310.728959858257,
          30189.333177005963,
          31319.30911113,
          29923.606993639707,
          30502.19328027689,
          28772.200501112577,
          30382.40624219559,
          29256.81337441625,
          29491.5079477606,
          30351.050417138096,
          29163.167775739188,
          29655.02613175249,
          29584.949851985926,
          29346.781442431617,
          28646.65218193245,
          29088.236452817226,
          29492.50321495364,
          31740.94072516695,
          31865.749621173167,
          29833.45033020525,
          30481.013996026013,
          29714.143487149733,
          29872.3603087139,
          29917.7640524562,
          31372.5847629755,
          31265.469277693348,
          30229.236836130374,
          30101.187521431468,
          29101.2982596468,
          28374.14499732395,
          26767.269173221317,
          22525.7683503912,
          22244.848968001315,
          22529.198114649807,
          20408.690490591813,
          20473.05288079512,
          19047.41782828195,
          20516.41197977524,
          20636.75891240637,
          20700.923933039136,
          19983.566482863105,
          21100.270533511088,
          21262.71348295613,
          21525.88036221139,
          21052.80539783573,
          20751.47753079077,
          20282.54247926969,
          20108.529472889782,
          19608.397493423083,
          19407.447430262477,
          19268.227002666128,
          19310.233218521837,
          20257.01232859288,
          20188.779663973284,
          20566.68722377,
          21660.596837075183,
          21858.818749217564,
          21589.628101459668,
          20859.81407965063,
          19998.46783957584,
          19350.73735007727,
          20225.23866433186,
          20574.84059150044,
          20794.811981436706,
          21193.08334336837,
          20824.36275165164,
          22395.365383103952,
          23366.90769792785,
          23313.296731959555,
          23155.207555248304,
          22696.90275429005,
          22506.199573628983,
          22613.71920824845,
          21330.295450788173,
          21235.61231608577,
          22908.884260468687,
          23822.06759782312,
          23847.58331873861,
          23653.4595494308,
          23379.70052509082,
          23333.749243312184,
          23053.84684748268,
          22860.42098438317,
          22678.363633874185,
          23225.036201942938,
          22984.57953144855,
          23197.603469525384,
          23823.67944245361,
          23203.680696781623,
          23948.829553271637,
          23948.75170368143,
          24411.37987152261,
          24433.653747243658,
          24312.54142489156,
          24179.0146523092,
          23913.333725628458,
          23359.418837070007,
          23248.38422819264,
          20945.8339660496,
          21175.232732989512,
          21615.761693416986,
          21387.747114773963,
          21562.45153991356,
          21395.45846975991,
          21618.009019176647,
          20271.322951706014,
          20069.9533315962,
          19659.24670619362,
          20308.861447891457,
          19805.35069885804,
          20023.55444491251,
          20153.975977982507,
          19941.45137004716,
          19814.5642451146,
          19980.01322224228,
          19785.73350185514,
          18859.50008768028,
          19280.62547645678,
          19322.77774937157,
          21359.58252557909,
          21707.38731931814,
          21739.80437979554,
          22339.67050262336,
          20184.96749189655,
          20255.922978327133,
          19702.16988981172,
          19764.411712043777,
          20131.675305714027,
          19437.157867982634,
          19570.386709523507,
          18869.92880939053
         ]
        }
       ],
       "layout": {
        "legend": {
         "bgcolor": "#F5F6F9",
         "font": {
          "color": "#4D5663"
         }
        },
        "paper_bgcolor": "#F5F6F9",
        "plot_bgcolor": "#F5F6F9",
        "template": {
         "data": {
          "bar": [
           {
            "error_x": {
             "color": "#2a3f5f"
            },
            "error_y": {
             "color": "#2a3f5f"
            },
            "marker": {
             "line": {
              "color": "#E5ECF6",
              "width": 0.5
             },
             "pattern": {
              "fillmode": "overlay",
              "size": 10,
              "solidity": 0.2
             }
            },
            "type": "bar"
           }
          ],
          "barpolar": [
           {
            "marker": {
             "line": {
              "color": "#E5ECF6",
              "width": 0.5
             },
             "pattern": {
              "fillmode": "overlay",
              "size": 10,
              "solidity": 0.2
             }
            },
            "type": "barpolar"
           }
          ],
          "carpet": [
           {
            "aaxis": {
             "endlinecolor": "#2a3f5f",
             "gridcolor": "white",
             "linecolor": "white",
             "minorgridcolor": "white",
             "startlinecolor": "#2a3f5f"
            },
            "baxis": {
             "endlinecolor": "#2a3f5f",
             "gridcolor": "white",
             "linecolor": "white",
             "minorgridcolor": "white",
             "startlinecolor": "#2a3f5f"
            },
            "type": "carpet"
           }
          ],
          "choropleth": [
           {
            "colorbar": {
             "outlinewidth": 0,
             "ticks": ""
            },
            "type": "choropleth"
           }
          ],
          "contour": [
           {
            "colorbar": {
             "outlinewidth": 0,
             "ticks": ""
            },
            "colorscale": [
             [
              0,
              "#0d0887"
             ],
             [
              0.1111111111111111,
              "#46039f"
             ],
             [
              0.2222222222222222,
              "#7201a8"
             ],
             [
              0.3333333333333333,
              "#9c179e"
             ],
             [
              0.4444444444444444,
              "#bd3786"
             ],
             [
              0.5555555555555556,
              "#d8576b"
             ],
             [
              0.6666666666666666,
              "#ed7953"
             ],
             [
              0.7777777777777778,
              "#fb9f3a"
             ],
             [
              0.8888888888888888,
              "#fdca26"
             ],
             [
              1,
              "#f0f921"
             ]
            ],
            "type": "contour"
           }
          ],
          "contourcarpet": [
           {
            "colorbar": {
             "outlinewidth": 0,
             "ticks": ""
            },
            "type": "contourcarpet"
           }
          ],
          "heatmap": [
           {
            "colorbar": {
             "outlinewidth": 0,
             "ticks": ""
            },
            "colorscale": [
             [
              0,
              "#0d0887"
             ],
             [
              0.1111111111111111,
              "#46039f"
             ],
             [
              0.2222222222222222,
              "#7201a8"
             ],
             [
              0.3333333333333333,
              "#9c179e"
             ],
             [
              0.4444444444444444,
              "#bd3786"
             ],
             [
              0.5555555555555556,
              "#d8576b"
             ],
             [
              0.6666666666666666,
              "#ed7953"
             ],
             [
              0.7777777777777778,
              "#fb9f3a"
             ],
             [
              0.8888888888888888,
              "#fdca26"
             ],
             [
              1,
              "#f0f921"
             ]
            ],
            "type": "heatmap"
           }
          ],
          "heatmapgl": [
           {
            "colorbar": {
             "outlinewidth": 0,
             "ticks": ""
            },
            "colorscale": [
             [
              0,
              "#0d0887"
             ],
             [
              0.1111111111111111,
              "#46039f"
             ],
             [
              0.2222222222222222,
              "#7201a8"
             ],
             [
              0.3333333333333333,
              "#9c179e"
             ],
             [
              0.4444444444444444,
              "#bd3786"
             ],
             [
              0.5555555555555556,
              "#d8576b"
             ],
             [
              0.6666666666666666,
              "#ed7953"
             ],
             [
              0.7777777777777778,
              "#fb9f3a"
             ],
             [
              0.8888888888888888,
              "#fdca26"
             ],
             [
              1,
              "#f0f921"
             ]
            ],
            "type": "heatmapgl"
           }
          ],
          "histogram": [
           {
            "marker": {
             "pattern": {
              "fillmode": "overlay",
              "size": 10,
              "solidity": 0.2
             }
            },
            "type": "histogram"
           }
          ],
          "histogram2d": [
           {
            "colorbar": {
             "outlinewidth": 0,
             "ticks": ""
            },
            "colorscale": [
             [
              0,
              "#0d0887"
             ],
             [
              0.1111111111111111,
              "#46039f"
             ],
             [
              0.2222222222222222,
              "#7201a8"
             ],
             [
              0.3333333333333333,
              "#9c179e"
             ],
             [
              0.4444444444444444,
              "#bd3786"
             ],
             [
              0.5555555555555556,
              "#d8576b"
             ],
             [
              0.6666666666666666,
              "#ed7953"
             ],
             [
              0.7777777777777778,
              "#fb9f3a"
             ],
             [
              0.8888888888888888,
              "#fdca26"
             ],
             [
              1,
              "#f0f921"
             ]
            ],
            "type": "histogram2d"
           }
          ],
          "histogram2dcontour": [
           {
            "colorbar": {
             "outlinewidth": 0,
             "ticks": ""
            },
            "colorscale": [
             [
              0,
              "#0d0887"
             ],
             [
              0.1111111111111111,
              "#46039f"
             ],
             [
              0.2222222222222222,
              "#7201a8"
             ],
             [
              0.3333333333333333,
              "#9c179e"
             ],
             [
              0.4444444444444444,
              "#bd3786"
             ],
             [
              0.5555555555555556,
              "#d8576b"
             ],
             [
              0.6666666666666666,
              "#ed7953"
             ],
             [
              0.7777777777777778,
              "#fb9f3a"
             ],
             [
              0.8888888888888888,
              "#fdca26"
             ],
             [
              1,
              "#f0f921"
             ]
            ],
            "type": "histogram2dcontour"
           }
          ],
          "mesh3d": [
           {
            "colorbar": {
             "outlinewidth": 0,
             "ticks": ""
            },
            "type": "mesh3d"
           }
          ],
          "parcoords": [
           {
            "line": {
             "colorbar": {
              "outlinewidth": 0,
              "ticks": ""
             }
            },
            "type": "parcoords"
           }
          ],
          "pie": [
           {
            "automargin": true,
            "type": "pie"
           }
          ],
          "scatter": [
           {
            "fillpattern": {
             "fillmode": "overlay",
             "size": 10,
             "solidity": 0.2
            },
            "type": "scatter"
           }
          ],
          "scatter3d": [
           {
            "line": {
             "colorbar": {
              "outlinewidth": 0,
              "ticks": ""
             }
            },
            "marker": {
             "colorbar": {
              "outlinewidth": 0,
              "ticks": ""
             }
            },
            "type": "scatter3d"
           }
          ],
          "scattercarpet": [
           {
            "marker": {
             "colorbar": {
              "outlinewidth": 0,
              "ticks": ""
             }
            },
            "type": "scattercarpet"
           }
          ],
          "scattergeo": [
           {
            "marker": {
             "colorbar": {
              "outlinewidth": 0,
              "ticks": ""
             }
            },
            "type": "scattergeo"
           }
          ],
          "scattergl": [
           {
            "marker": {
             "colorbar": {
              "outlinewidth": 0,
              "ticks": ""
             }
            },
            "type": "scattergl"
           }
          ],
          "scattermapbox": [
           {
            "marker": {
             "colorbar": {
              "outlinewidth": 0,
              "ticks": ""
             }
            },
            "type": "scattermapbox"
           }
          ],
          "scatterpolar": [
           {
            "marker": {
             "colorbar": {
              "outlinewidth": 0,
              "ticks": ""
             }
            },
            "type": "scatterpolar"
           }
          ],
          "scatterpolargl": [
           {
            "marker": {
             "colorbar": {
              "outlinewidth": 0,
              "ticks": ""
             }
            },
            "type": "scatterpolargl"
           }
          ],
          "scatterternary": [
           {
            "marker": {
             "colorbar": {
              "outlinewidth": 0,
              "ticks": ""
             }
            },
            "type": "scatterternary"
           }
          ],
          "surface": [
           {
            "colorbar": {
             "outlinewidth": 0,
             "ticks": ""
            },
            "colorscale": [
             [
              0,
              "#0d0887"
             ],
             [
              0.1111111111111111,
              "#46039f"
             ],
             [
              0.2222222222222222,
              "#7201a8"
             ],
             [
              0.3333333333333333,
              "#9c179e"
             ],
             [
              0.4444444444444444,
              "#bd3786"
             ],
             [
              0.5555555555555556,
              "#d8576b"
             ],
             [
              0.6666666666666666,
              "#ed7953"
             ],
             [
              0.7777777777777778,
              "#fb9f3a"
             ],
             [
              0.8888888888888888,
              "#fdca26"
             ],
             [
              1,
              "#f0f921"
             ]
            ],
            "type": "surface"
           }
          ],
          "table": [
           {
            "cells": {
             "fill": {
              "color": "#EBF0F8"
             },
             "line": {
              "color": "white"
             }
            },
            "header": {
             "fill": {
              "color": "#C8D4E3"
             },
             "line": {
              "color": "white"
             }
            },
            "type": "table"
           }
          ]
         },
         "layout": {
          "annotationdefaults": {
           "arrowcolor": "#2a3f5f",
           "arrowhead": 0,
           "arrowwidth": 1
          },
          "autotypenumbers": "strict",
          "coloraxis": {
           "colorbar": {
            "outlinewidth": 0,
            "ticks": ""
           }
          },
          "colorscale": {
           "diverging": [
            [
             0,
             "#8e0152"
            ],
            [
             0.1,
             "#c51b7d"
            ],
            [
             0.2,
             "#de77ae"
            ],
            [
             0.3,
             "#f1b6da"
            ],
            [
             0.4,
             "#fde0ef"
            ],
            [
             0.5,
             "#f7f7f7"
            ],
            [
             0.6,
             "#e6f5d0"
            ],
            [
             0.7,
             "#b8e186"
            ],
            [
             0.8,
             "#7fbc41"
            ],
            [
             0.9,
             "#4d9221"
            ],
            [
             1,
             "#276419"
            ]
           ],
           "sequential": [
            [
             0,
             "#0d0887"
            ],
            [
             0.1111111111111111,
             "#46039f"
            ],
            [
             0.2222222222222222,
             "#7201a8"
            ],
            [
             0.3333333333333333,
             "#9c179e"
            ],
            [
             0.4444444444444444,
             "#bd3786"
            ],
            [
             0.5555555555555556,
             "#d8576b"
            ],
            [
             0.6666666666666666,
             "#ed7953"
            ],
            [
             0.7777777777777778,
             "#fb9f3a"
            ],
            [
             0.8888888888888888,
             "#fdca26"
            ],
            [
             1,
             "#f0f921"
            ]
           ],
           "sequentialminus": [
            [
             0,
             "#0d0887"
            ],
            [
             0.1111111111111111,
             "#46039f"
            ],
            [
             0.2222222222222222,
             "#7201a8"
            ],
            [
             0.3333333333333333,
             "#9c179e"
            ],
            [
             0.4444444444444444,
             "#bd3786"
            ],
            [
             0.5555555555555556,
             "#d8576b"
            ],
            [
             0.6666666666666666,
             "#ed7953"
            ],
            [
             0.7777777777777778,
             "#fb9f3a"
            ],
            [
             0.8888888888888888,
             "#fdca26"
            ],
            [
             1,
             "#f0f921"
            ]
           ]
          },
          "colorway": [
           "#636efa",
           "#EF553B",
           "#00cc96",
           "#ab63fa",
           "#FFA15A",
           "#19d3f3",
           "#FF6692",
           "#B6E880",
           "#FF97FF",
           "#FECB52"
          ],
          "font": {
           "color": "#2a3f5f"
          },
          "geo": {
           "bgcolor": "white",
           "lakecolor": "white",
           "landcolor": "#E5ECF6",
           "showlakes": true,
           "showland": true,
           "subunitcolor": "white"
          },
          "hoverlabel": {
           "align": "left"
          },
          "hovermode": "closest",
          "mapbox": {
           "style": "light"
          },
          "paper_bgcolor": "white",
          "plot_bgcolor": "#E5ECF6",
          "polar": {
           "angularaxis": {
            "gridcolor": "white",
            "linecolor": "white",
            "ticks": ""
           },
           "bgcolor": "#E5ECF6",
           "radialaxis": {
            "gridcolor": "white",
            "linecolor": "white",
            "ticks": ""
           }
          },
          "scene": {
           "xaxis": {
            "backgroundcolor": "#E5ECF6",
            "gridcolor": "white",
            "gridwidth": 2,
            "linecolor": "white",
            "showbackground": true,
            "ticks": "",
            "zerolinecolor": "white"
           },
           "yaxis": {
            "backgroundcolor": "#E5ECF6",
            "gridcolor": "white",
            "gridwidth": 2,
            "linecolor": "white",
            "showbackground": true,
            "ticks": "",
            "zerolinecolor": "white"
           },
           "zaxis": {
            "backgroundcolor": "#E5ECF6",
            "gridcolor": "white",
            "gridwidth": 2,
            "linecolor": "white",
            "showbackground": true,
            "ticks": "",
            "zerolinecolor": "white"
           }
          },
          "shapedefaults": {
           "line": {
            "color": "#2a3f5f"
           }
          },
          "ternary": {
           "aaxis": {
            "gridcolor": "white",
            "linecolor": "white",
            "ticks": ""
           },
           "baxis": {
            "gridcolor": "white",
            "linecolor": "white",
            "ticks": ""
           },
           "bgcolor": "#E5ECF6",
           "caxis": {
            "gridcolor": "white",
            "linecolor": "white",
            "ticks": ""
           }
          },
          "title": {
           "x": 0.05
          },
          "xaxis": {
           "automargin": true,
           "gridcolor": "white",
           "linecolor": "white",
           "ticks": "",
           "title": {
            "standoff": 15
           },
           "zerolinecolor": "white",
           "zerolinewidth": 2
          },
          "yaxis": {
           "automargin": true,
           "gridcolor": "white",
           "linecolor": "white",
           "ticks": "",
           "title": {
            "standoff": 15
           },
           "zerolinecolor": "white",
           "zerolinewidth": 2
          }
         }
        },
        "title": {
         "font": {
          "color": "#4D5663"
         }
        },
        "xaxis": {
         "gridcolor": "#E1E5ED",
         "showgrid": true,
         "tickfont": {
          "color": "#4D5663"
         },
         "title": {
          "font": {
           "color": "#4D5663"
          },
          "text": ""
         },
         "zerolinecolor": "#E1E5ED"
        },
        "yaxis": {
         "gridcolor": "#E1E5ED",
         "showgrid": true,
         "tickfont": {
          "color": "#4D5663"
         },
         "title": {
          "font": {
           "color": "#4D5663"
          },
          "text": ""
         },
         "zerolinecolor": "#E1E5ED"
        }
       }
      },
      "text/html": [
       "<div>                            <div id=\"3f8e1e66-5ed9-4cff-a31b-2388a5c23410\" class=\"plotly-graph-div\" style=\"height:525px; width:100%;\"></div>            <script type=\"text/javascript\">                require([\"plotly\"], function(Plotly) {                    window.PLOTLYENV=window.PLOTLYENV || {};\n",
       "                    window.PLOTLYENV.BASE_URL='https://plot.ly';                                    if (document.getElementById(\"3f8e1e66-5ed9-4cff-a31b-2388a5c23410\")) {                    Plotly.newPlot(                        \"3f8e1e66-5ed9-4cff-a31b-2388a5c23410\",                        [{\"line\":{\"color\":\"rgba(255, 153, 51, 1.0)\",\"dash\":\"solid\",\"shape\":\"linear\",\"width\":1.3},\"mode\":\"lines\",\"name\":\"price\",\"text\":\"\",\"x\":[\"2021-09-22 00:00:00+00:00\",\"2021-09-23 00:00:00+00:00\",\"2021-09-24 00:00:00+00:00\",\"2021-09-25 00:00:00+00:00\",\"2021-09-26 00:00:00+00:00\",\"2021-09-27 00:00:00+00:00\",\"2021-09-28 00:00:00+00:00\",\"2021-09-29 00:00:00+00:00\",\"2021-09-30 00:00:00+00:00\",\"2021-10-01 00:00:00+00:00\",\"2021-10-02 00:00:00+00:00\",\"2021-10-03 00:00:00+00:00\",\"2021-10-04 00:00:00+00:00\",\"2021-10-05 00:00:00+00:00\",\"2021-10-06 00:00:00+00:00\",\"2021-10-07 00:00:00+00:00\",\"2021-10-08 00:00:00+00:00\",\"2021-10-09 00:00:00+00:00\",\"2021-10-10 00:00:00+00:00\",\"2021-10-11 00:00:00+00:00\",\"2021-10-12 00:00:00+00:00\",\"2021-10-13 00:00:00+00:00\",\"2021-10-14 00:00:00+00:00\",\"2021-10-15 00:00:00+00:00\",\"2021-10-16 00:00:00+00:00\",\"2021-10-17 00:00:00+00:00\",\"2021-10-18 00:00:00+00:00\",\"2021-10-19 00:00:00+00:00\",\"2021-10-20 00:00:00+00:00\",\"2021-10-21 00:00:00+00:00\",\"2021-10-22 00:00:00+00:00\",\"2021-10-23 00:00:00+00:00\",\"2021-10-24 00:00:00+00:00\",\"2021-10-25 00:00:00+00:00\",\"2021-10-26 00:00:00+00:00\",\"2021-10-27 00:00:00+00:00\",\"2021-10-28 00:00:00+00:00\",\"2021-10-29 00:00:00+00:00\",\"2021-10-30 00:00:00+00:00\",\"2021-10-31 00:00:00+00:00\",\"2021-11-01 00:00:00+00:00\",\"2021-11-02 00:00:00+00:00\",\"2021-11-03 00:00:00+00:00\",\"2021-11-04 00:00:00+00:00\",\"2021-11-05 00:00:00+00:00\",\"2021-11-06 00:00:00+00:00\",\"2021-11-07 00:00:00+00:00\",\"2021-11-08 00:00:00+00:00\",\"2021-11-09 00:00:00+00:00\",\"2021-11-10 00:00:00+00:00\",\"2021-11-11 00:00:00+00:00\",\"2021-11-12 00:00:00+00:00\",\"2021-11-13 00:00:00+00:00\",\"2021-11-14 00:00:00+00:00\",\"2021-11-15 00:00:00+00:00\",\"2021-11-16 00:00:00+00:00\",\"2021-11-17 00:00:00+00:00\",\"2021-11-18 00:00:00+00:00\",\"2021-11-19 00:00:00+00:00\",\"2021-11-20 00:00:00+00:00\",\"2021-11-21 00:00:00+00:00\",\"2021-11-22 00:00:00+00:00\",\"2021-11-23 00:00:00+00:00\",\"2021-11-24 00:00:00+00:00\",\"2021-11-25 00:00:00+00:00\",\"2021-11-26 00:00:00+00:00\",\"2021-11-27 00:00:00+00:00\",\"2021-11-28 00:00:00+00:00\",\"2021-11-29 00:00:00+00:00\",\"2021-11-30 00:00:00+00:00\",\"2021-12-01 00:00:00+00:00\",\"2021-12-02 00:00:00+00:00\",\"2021-12-03 00:00:00+00:00\",\"2021-12-04 00:00:00+00:00\",\"2021-12-05 00:00:00+00:00\",\"2021-12-06 00:00:00+00:00\",\"2021-12-07 00:00:00+00:00\",\"2021-12-08 00:00:00+00:00\",\"2021-12-09 00:00:00+00:00\",\"2021-12-10 00:00:00+00:00\",\"2021-12-11 00:00:00+00:00\",\"2021-12-12 00:00:00+00:00\",\"2021-12-13 00:00:00+00:00\",\"2021-12-14 00:00:00+00:00\",\"2021-12-15 00:00:00+00:00\",\"2021-12-16 00:00:00+00:00\",\"2021-12-17 00:00:00+00:00\",\"2021-12-18 00:00:00+00:00\",\"2021-12-19 00:00:00+00:00\",\"2021-12-20 00:00:00+00:00\",\"2021-12-21 00:00:00+00:00\",\"2021-12-22 00:00:00+00:00\",\"2021-12-23 00:00:00+00:00\",\"2021-12-24 00:00:00+00:00\",\"2021-12-25 00:00:00+00:00\",\"2021-12-26 00:00:00+00:00\",\"2021-12-27 00:00:00+00:00\",\"2021-12-28 00:00:00+00:00\",\"2021-12-29 00:00:00+00:00\",\"2021-12-30 00:00:00+00:00\",\"2021-12-31 00:00:00+00:00\",\"2022-01-01 00:00:00+00:00\",\"2022-01-02 00:00:00+00:00\",\"2022-01-03 00:00:00+00:00\",\"2022-01-04 00:00:00+00:00\",\"2022-01-05 00:00:00+00:00\",\"2022-01-06 00:00:00+00:00\",\"2022-01-07 00:00:00+00:00\",\"2022-01-08 00:00:00+00:00\",\"2022-01-09 00:00:00+00:00\",\"2022-01-10 00:00:00+00:00\",\"2022-01-11 00:00:00+00:00\",\"2022-01-12 00:00:00+00:00\",\"2022-01-13 00:00:00+00:00\",\"2022-01-14 00:00:00+00:00\",\"2022-01-15 00:00:00+00:00\",\"2022-01-16 00:00:00+00:00\",\"2022-01-17 00:00:00+00:00\",\"2022-01-18 00:00:00+00:00\",\"2022-01-19 00:00:00+00:00\",\"2022-01-20 00:00:00+00:00\",\"2022-01-21 00:00:00+00:00\",\"2022-01-22 00:00:00+00:00\",\"2022-01-23 00:00:00+00:00\",\"2022-01-24 00:00:00+00:00\",\"2022-01-25 00:00:00+00:00\",\"2022-01-26 00:00:00+00:00\",\"2022-01-27 00:00:00+00:00\",\"2022-01-28 00:00:00+00:00\",\"2022-01-29 00:00:00+00:00\",\"2022-01-30 00:00:00+00:00\",\"2022-01-31 00:00:00+00:00\",\"2022-02-01 00:00:00+00:00\",\"2022-02-02 00:00:00+00:00\",\"2022-02-03 00:00:00+00:00\",\"2022-02-04 00:00:00+00:00\",\"2022-02-05 00:00:00+00:00\",\"2022-02-06 00:00:00+00:00\",\"2022-02-07 00:00:00+00:00\",\"2022-02-08 00:00:00+00:00\",\"2022-02-09 00:00:00+00:00\",\"2022-02-10 00:00:00+00:00\",\"2022-02-11 00:00:00+00:00\",\"2022-02-12 00:00:00+00:00\",\"2022-02-13 00:00:00+00:00\",\"2022-02-14 00:00:00+00:00\",\"2022-02-15 00:00:00+00:00\",\"2022-02-16 00:00:00+00:00\",\"2022-02-17 00:00:00+00:00\",\"2022-02-18 00:00:00+00:00\",\"2022-02-19 00:00:00+00:00\",\"2022-02-20 00:00:00+00:00\",\"2022-02-21 00:00:00+00:00\",\"2022-02-22 00:00:00+00:00\",\"2022-02-23 00:00:00+00:00\",\"2022-02-24 00:00:00+00:00\",\"2022-02-25 00:00:00+00:00\",\"2022-02-26 00:00:00+00:00\",\"2022-02-27 00:00:00+00:00\",\"2022-02-28 00:00:00+00:00\",\"2022-03-01 00:00:00+00:00\",\"2022-03-02 00:00:00+00:00\",\"2022-03-03 00:00:00+00:00\",\"2022-03-04 00:00:00+00:00\",\"2022-03-05 00:00:00+00:00\",\"2022-03-06 00:00:00+00:00\",\"2022-03-07 00:00:00+00:00\",\"2022-03-08 00:00:00+00:00\",\"2022-03-09 00:00:00+00:00\",\"2022-03-10 00:00:00+00:00\",\"2022-03-11 00:00:00+00:00\",\"2022-03-12 00:00:00+00:00\",\"2022-03-13 00:00:00+00:00\",\"2022-03-14 00:00:00+00:00\",\"2022-03-15 00:00:00+00:00\",\"2022-03-16 00:00:00+00:00\",\"2022-03-17 00:00:00+00:00\",\"2022-03-18 00:00:00+00:00\",\"2022-03-19 00:00:00+00:00\",\"2022-03-20 00:00:00+00:00\",\"2022-03-21 00:00:00+00:00\",\"2022-03-22 00:00:00+00:00\",\"2022-03-23 00:00:00+00:00\",\"2022-03-24 00:00:00+00:00\",\"2022-03-25 00:00:00+00:00\",\"2022-03-26 00:00:00+00:00\",\"2022-03-27 00:00:00+00:00\",\"2022-03-28 00:00:00+00:00\",\"2022-03-29 00:00:00+00:00\",\"2022-03-30 00:00:00+00:00\",\"2022-03-31 00:00:00+00:00\",\"2022-04-01 00:00:00+00:00\",\"2022-04-02 00:00:00+00:00\",\"2022-04-03 00:00:00+00:00\",\"2022-04-04 00:00:00+00:00\",\"2022-04-05 00:00:00+00:00\",\"2022-04-06 00:00:00+00:00\",\"2022-04-07 00:00:00+00:00\",\"2022-04-08 00:00:00+00:00\",\"2022-04-09 00:00:00+00:00\",\"2022-04-10 00:00:00+00:00\",\"2022-04-11 00:00:00+00:00\",\"2022-04-12 00:00:00+00:00\",\"2022-04-13 00:00:00+00:00\",\"2022-04-14 00:00:00+00:00\",\"2022-04-15 00:00:00+00:00\",\"2022-04-16 00:00:00+00:00\",\"2022-04-17 00:00:00+00:00\",\"2022-04-18 00:00:00+00:00\",\"2022-04-19 00:00:00+00:00\",\"2022-04-20 00:00:00+00:00\",\"2022-04-21 00:00:00+00:00\",\"2022-04-22 00:00:00+00:00\",\"2022-04-23 00:00:00+00:00\",\"2022-04-24 00:00:00+00:00\",\"2022-04-25 00:00:00+00:00\",\"2022-04-26 00:00:00+00:00\",\"2022-04-27 00:00:00+00:00\",\"2022-04-28 00:00:00+00:00\",\"2022-04-29 00:00:00+00:00\",\"2022-04-30 00:00:00+00:00\",\"2022-05-01 00:00:00+00:00\",\"2022-05-02 00:00:00+00:00\",\"2022-05-03 00:00:00+00:00\",\"2022-05-04 00:00:00+00:00\",\"2022-05-05 00:00:00+00:00\",\"2022-05-06 00:00:00+00:00\",\"2022-05-07 00:00:00+00:00\",\"2022-05-08 00:00:00+00:00\",\"2022-05-09 00:00:00+00:00\",\"2022-05-10 00:00:00+00:00\",\"2022-05-11 00:00:00+00:00\",\"2022-05-12 00:00:00+00:00\",\"2022-05-13 00:00:00+00:00\",\"2022-05-14 00:00:00+00:00\",\"2022-05-15 00:00:00+00:00\",\"2022-05-16 00:00:00+00:00\",\"2022-05-17 00:00:00+00:00\",\"2022-05-18 00:00:00+00:00\",\"2022-05-19 00:00:00+00:00\",\"2022-05-20 00:00:00+00:00\",\"2022-05-21 00:00:00+00:00\",\"2022-05-22 00:00:00+00:00\",\"2022-05-23 00:00:00+00:00\",\"2022-05-24 00:00:00+00:00\",\"2022-05-25 00:00:00+00:00\",\"2022-05-26 00:00:00+00:00\",\"2022-05-27 00:00:00+00:00\",\"2022-05-28 00:00:00+00:00\",\"2022-05-29 00:00:00+00:00\",\"2022-05-30 00:00:00+00:00\",\"2022-05-31 00:00:00+00:00\",\"2022-06-01 00:00:00+00:00\",\"2022-06-02 00:00:00+00:00\",\"2022-06-03 00:00:00+00:00\",\"2022-06-04 00:00:00+00:00\",\"2022-06-05 00:00:00+00:00\",\"2022-06-06 00:00:00+00:00\",\"2022-06-07 00:00:00+00:00\",\"2022-06-08 00:00:00+00:00\",\"2022-06-09 00:00:00+00:00\",\"2022-06-10 00:00:00+00:00\",\"2022-06-11 00:00:00+00:00\",\"2022-06-12 00:00:00+00:00\",\"2022-06-13 00:00:00+00:00\",\"2022-06-14 00:00:00+00:00\",\"2022-06-15 00:00:00+00:00\",\"2022-06-16 00:00:00+00:00\",\"2022-06-17 00:00:00+00:00\",\"2022-06-18 00:00:00+00:00\",\"2022-06-19 00:00:00+00:00\",\"2022-06-20 00:00:00+00:00\",\"2022-06-21 00:00:00+00:00\",\"2022-06-22 00:00:00+00:00\",\"2022-06-23 00:00:00+00:00\",\"2022-06-24 00:00:00+00:00\",\"2022-06-25 00:00:00+00:00\",\"2022-06-26 00:00:00+00:00\",\"2022-06-27 00:00:00+00:00\",\"2022-06-28 00:00:00+00:00\",\"2022-06-29 00:00:00+00:00\",\"2022-06-30 00:00:00+00:00\",\"2022-07-01 00:00:00+00:00\",\"2022-07-02 00:00:00+00:00\",\"2022-07-03 00:00:00+00:00\",\"2022-07-04 00:00:00+00:00\",\"2022-07-05 00:00:00+00:00\",\"2022-07-06 00:00:00+00:00\",\"2022-07-07 00:00:00+00:00\",\"2022-07-08 00:00:00+00:00\",\"2022-07-09 00:00:00+00:00\",\"2022-07-10 00:00:00+00:00\",\"2022-07-11 00:00:00+00:00\",\"2022-07-12 00:00:00+00:00\",\"2022-07-13 00:00:00+00:00\",\"2022-07-14 00:00:00+00:00\",\"2022-07-15 00:00:00+00:00\",\"2022-07-16 00:00:00+00:00\",\"2022-07-17 00:00:00+00:00\",\"2022-07-18 00:00:00+00:00\",\"2022-07-19 00:00:00+00:00\",\"2022-07-20 00:00:00+00:00\",\"2022-07-21 00:00:00+00:00\",\"2022-07-22 00:00:00+00:00\",\"2022-07-23 00:00:00+00:00\",\"2022-07-24 00:00:00+00:00\",\"2022-07-25 00:00:00+00:00\",\"2022-07-26 00:00:00+00:00\",\"2022-07-27 00:00:00+00:00\",\"2022-07-28 00:00:00+00:00\",\"2022-07-29 00:00:00+00:00\",\"2022-07-30 00:00:00+00:00\",\"2022-07-31 00:00:00+00:00\",\"2022-08-01 00:00:00+00:00\",\"2022-08-02 00:00:00+00:00\",\"2022-08-03 00:00:00+00:00\",\"2022-08-04 00:00:00+00:00\",\"2022-08-05 00:00:00+00:00\",\"2022-08-06 00:00:00+00:00\",\"2022-08-07 00:00:00+00:00\",\"2022-08-08 00:00:00+00:00\",\"2022-08-09 00:00:00+00:00\",\"2022-08-10 00:00:00+00:00\",\"2022-08-11 00:00:00+00:00\",\"2022-08-12 00:00:00+00:00\",\"2022-08-13 00:00:00+00:00\",\"2022-08-14 00:00:00+00:00\",\"2022-08-15 00:00:00+00:00\",\"2022-08-16 00:00:00+00:00\",\"2022-08-17 00:00:00+00:00\",\"2022-08-18 00:00:00+00:00\",\"2022-08-19 00:00:00+00:00\",\"2022-08-20 00:00:00+00:00\",\"2022-08-21 00:00:00+00:00\",\"2022-08-22 00:00:00+00:00\",\"2022-08-23 00:00:00+00:00\",\"2022-08-24 00:00:00+00:00\",\"2022-08-25 00:00:00+00:00\",\"2022-08-26 00:00:00+00:00\",\"2022-08-27 00:00:00+00:00\",\"2022-08-28 00:00:00+00:00\",\"2022-08-29 00:00:00+00:00\",\"2022-08-30 00:00:00+00:00\",\"2022-08-31 00:00:00+00:00\",\"2022-09-01 00:00:00+00:00\",\"2022-09-02 00:00:00+00:00\",\"2022-09-03 00:00:00+00:00\",\"2022-09-04 00:00:00+00:00\",\"2022-09-05 00:00:00+00:00\",\"2022-09-06 00:00:00+00:00\",\"2022-09-07 00:00:00+00:00\",\"2022-09-08 00:00:00+00:00\",\"2022-09-09 00:00:00+00:00\",\"2022-09-10 00:00:00+00:00\",\"2022-09-11 00:00:00+00:00\",\"2022-09-12 00:00:00+00:00\",\"2022-09-13 00:00:00+00:00\",\"2022-09-14 00:00:00+00:00\",\"2022-09-15 00:00:00+00:00\",\"2022-09-16 00:00:00+00:00\",\"2022-09-17 00:00:00+00:00\",\"2022-09-18 00:00:00+00:00\",\"2022-09-19 00:00:00+00:00\",\"2022-09-20 00:00:00+00:00\",\"2022-09-21 00:00:00+00:00\"],\"y\":[40386.62363528928,43587.22305058473,44980.898214810935,42752.1681545072,42856.85516422452,43336.86123324274,42247.35572900636,41010.37519836549,41587.66786232295,43859.32614724109,48181.87627260008,47777.762019063,48282.97113857447,49260.23232113069,51668.99422435564,55415.00574202895,53894.59599452107,54010.93747374405,55125.46033768045,54711.86959664297,57572.51085559653,56335.035460511535,57487.9858804222,57452.43178503547,61809.02394427028,61165.63564211521,61583.77443961336,62017.972725178704,64517.64856042277,66237.51755029388,62541.08693293518,61029.27093182092,61572.14043422243,61173.1663907232,63228.21382584213,60604.18888794746,58641.00147419492,60767.55585206728,62283.19805587354,61837.257002978935,61471.86846276259,61121.83120106507,63247.20896127831,63130.94235171542,61601.74357204975,61247.38494217787,61661.35866372036,63153.230193019495,67617.0155448617,67145.37493537061,65061.05440696283,65005.64515956679,64432.04794734522,64660.33535267343,65648.97779110243,63933.83544259933,60448.56251258625,60603.65586738653,56987.32233855049,58459.25551667463,60082.91166841709,59139.77927952717,56386.85685315215,57748.79317378856,57198.18384629529,58897.84698299794,53827.79286503472,54533.40388242691,57237.66113709043,57848.77353712989,57011.28047424234,57169.37199381056,56508.26805402271,53785.96717237922,49161.99070957517,49268.46989053938,50461.57683653979,50647.66340635755,50530.4580645934,47885.87198941706,47303.56415217411,49242.30232407148,50051.078348674855,46696.30469946678,48410.564656309325,48936.86258244155,47694.53050225176,46328.6963654447,46970.057050727024,46807.04861642627,47117.008204210455,49145.21725849885,48755.89564404483,50900.61494951601,50888.72103678683,50663.48710213215,50852.860259540656,50774.067814743,47725.14804631933,46506.99464767938,47191.86838983951,46319.65108805251,47816.07767640849,47387.212167697246,46531.140860530526,45938.02427172366,43647.14750806805,43216.45867693359,41527.197042644846,41756.66232397826,41862.3609856517,41869.85905559219,42777.21102048236,43981.87732717414,42608.41001195019,43120.85451108056,43226.65026980921,43119.79214308028,42298.341116872325,42395.45879157343,41749.55143098559,40707.6824143097,36508.79978983082,35180.435462830384,36306.409440464704,36774.00714224005,36988.92851066736,36870.440166931,37276.839558174994,37852.57902803263,38232.17873217708,37983.151499406464,38555.53446121157,38835.69494322237,37000.98249864199,37101.351593780935,41673.8395543094,41493.690050910525,42475.543220951215,43910.92998644309,44184.447511676175,44383.88805541707,43628.13953235228,42445.38876793804,42254.738123237206,42247.83595326771,42634.573783663065,44574.32057099816,44063.28198279571,40562.98694982819,40073.495362369824,40192.75912143141,38514.00853622455,37059.97940228752,38337.2038554348,37372.2926803477,38363.345488570165,39316.16207578596,39090.202153609054,37803.59016044929,43225.40467743573,44459.59162774341,43980.707382090906,42491.97839335905,39200.29973557414,39463.14681149058,38442.99174588676,38076.49382252028,38732.93701302586,41986.03444607623,39468.35477300189,38775.17558840679,38903.69354800599,37852.52514106289,39669.423812004505,39331.84654059453,41165.63506140341,41001.70957801974,41837.41313797566,42201.939920688186,41283.25900104565,41061.81589384987,42401.89559748944,42802.15471016985,43936.09623454058,44331.77795706412,44510.84421762133,46715.1176185105,46994.879118357465,47459.261237539096,47063.36584996355,45528.40715313835,46270.20070585378,45842.14476317382,46434.562982661664,46622.63571309101,45635.45438126673,43198.77526936491,43515.15032279806,42315.70972421807,42796.39747810973,42274.907370256085,39603.96515928416,40205.67794073206,41205.16871904067,39959.457069033735,40586.59730938673,40450.37930543977,39739.11925622209,40833.5379650337,41498.12244669832,41397.220477279625,40528.54148675958,39756.848993471016,39561.78019075613,39469.04986198146,40488.877917622376,38134.21545068938,39237.94931747103,39741.76664580964,38650.55013809267,37820.61176529208,38537.65476669535,38561.56539902362,37758.496107734,39699.02404125388,36612.22954880304,36116.394294982965,35573.31019883488,34070.31219757961,30269.58695662948,31026.93386836242,28913.48836365432,29126.11597686014,29310.728959858257,30189.333177005963,31319.30911113,29923.606993639707,30502.19328027689,28772.200501112577,30382.40624219559,29256.81337441625,29491.5079477606,30351.050417138096,29163.167775739188,29655.02613175249,29584.949851985926,29346.781442431617,28646.65218193245,29088.236452817226,29492.50321495364,31740.94072516695,31865.749621173167,29833.45033020525,30481.013996026013,29714.143487149733,29872.3603087139,29917.7640524562,31372.5847629755,31265.469277693348,30229.236836130374,30101.187521431468,29101.2982596468,28374.14499732395,26767.269173221317,22525.7683503912,22244.848968001315,22529.198114649807,20408.690490591813,20473.05288079512,19047.41782828195,20516.41197977524,20636.75891240637,20700.923933039136,19983.566482863105,21100.270533511088,21262.71348295613,21525.88036221139,21052.80539783573,20751.47753079077,20282.54247926969,20108.529472889782,19608.397493423083,19407.447430262477,19268.227002666128,19310.233218521837,20257.01232859288,20188.779663973284,20566.68722377,21660.596837075183,21858.818749217564,21589.628101459668,20859.81407965063,19998.46783957584,19350.73735007727,20225.23866433186,20574.84059150044,20794.811981436706,21193.08334336837,20824.36275165164,22395.365383103952,23366.90769792785,23313.296731959555,23155.207555248304,22696.90275429005,22506.199573628983,22613.71920824845,21330.295450788173,21235.61231608577,22908.884260468687,23822.06759782312,23847.58331873861,23653.4595494308,23379.70052509082,23333.749243312184,23053.84684748268,22860.42098438317,22678.363633874185,23225.036201942938,22984.57953144855,23197.603469525384,23823.67944245361,23203.680696781623,23948.829553271637,23948.75170368143,24411.37987152261,24433.653747243658,24312.54142489156,24179.0146523092,23913.333725628458,23359.418837070007,23248.38422819264,20945.8339660496,21175.232732989512,21615.761693416986,21387.747114773963,21562.45153991356,21395.45846975991,21618.009019176647,20271.322951706014,20069.9533315962,19659.24670619362,20308.861447891457,19805.35069885804,20023.55444491251,20153.975977982507,19941.45137004716,19814.5642451146,19980.01322224228,19785.73350185514,18859.50008768028,19280.62547645678,19322.77774937157,21359.58252557909,21707.38731931814,21739.80437979554,22339.67050262336,20184.96749189655,20255.922978327133,19702.16988981172,19764.411712043777,20131.675305714027,19437.157867982634,19570.386709523507,18869.92880939053],\"type\":\"scatter\"}],                        {\"legend\":{\"bgcolor\":\"#F5F6F9\",\"font\":{\"color\":\"#4D5663\"}},\"paper_bgcolor\":\"#F5F6F9\",\"plot_bgcolor\":\"#F5F6F9\",\"template\":{\"data\":{\"barpolar\":[{\"marker\":{\"line\":{\"color\":\"#E5ECF6\",\"width\":0.5},\"pattern\":{\"fillmode\":\"overlay\",\"size\":10,\"solidity\":0.2}},\"type\":\"barpolar\"}],\"bar\":[{\"error_x\":{\"color\":\"#2a3f5f\"},\"error_y\":{\"color\":\"#2a3f5f\"},\"marker\":{\"line\":{\"color\":\"#E5ECF6\",\"width\":0.5},\"pattern\":{\"fillmode\":\"overlay\",\"size\":10,\"solidity\":0.2}},\"type\":\"bar\"}],\"carpet\":[{\"aaxis\":{\"endlinecolor\":\"#2a3f5f\",\"gridcolor\":\"white\",\"linecolor\":\"white\",\"minorgridcolor\":\"white\",\"startlinecolor\":\"#2a3f5f\"},\"baxis\":{\"endlinecolor\":\"#2a3f5f\",\"gridcolor\":\"white\",\"linecolor\":\"white\",\"minorgridcolor\":\"white\",\"startlinecolor\":\"#2a3f5f\"},\"type\":\"carpet\"}],\"choropleth\":[{\"colorbar\":{\"outlinewidth\":0,\"ticks\":\"\"},\"type\":\"choropleth\"}],\"contourcarpet\":[{\"colorbar\":{\"outlinewidth\":0,\"ticks\":\"\"},\"type\":\"contourcarpet\"}],\"contour\":[{\"colorbar\":{\"outlinewidth\":0,\"ticks\":\"\"},\"colorscale\":[[0.0,\"#0d0887\"],[0.1111111111111111,\"#46039f\"],[0.2222222222222222,\"#7201a8\"],[0.3333333333333333,\"#9c179e\"],[0.4444444444444444,\"#bd3786\"],[0.5555555555555556,\"#d8576b\"],[0.6666666666666666,\"#ed7953\"],[0.7777777777777778,\"#fb9f3a\"],[0.8888888888888888,\"#fdca26\"],[1.0,\"#f0f921\"]],\"type\":\"contour\"}],\"heatmapgl\":[{\"colorbar\":{\"outlinewidth\":0,\"ticks\":\"\"},\"colorscale\":[[0.0,\"#0d0887\"],[0.1111111111111111,\"#46039f\"],[0.2222222222222222,\"#7201a8\"],[0.3333333333333333,\"#9c179e\"],[0.4444444444444444,\"#bd3786\"],[0.5555555555555556,\"#d8576b\"],[0.6666666666666666,\"#ed7953\"],[0.7777777777777778,\"#fb9f3a\"],[0.8888888888888888,\"#fdca26\"],[1.0,\"#f0f921\"]],\"type\":\"heatmapgl\"}],\"heatmap\":[{\"colorbar\":{\"outlinewidth\":0,\"ticks\":\"\"},\"colorscale\":[[0.0,\"#0d0887\"],[0.1111111111111111,\"#46039f\"],[0.2222222222222222,\"#7201a8\"],[0.3333333333333333,\"#9c179e\"],[0.4444444444444444,\"#bd3786\"],[0.5555555555555556,\"#d8576b\"],[0.6666666666666666,\"#ed7953\"],[0.7777777777777778,\"#fb9f3a\"],[0.8888888888888888,\"#fdca26\"],[1.0,\"#f0f921\"]],\"type\":\"heatmap\"}],\"histogram2dcontour\":[{\"colorbar\":{\"outlinewidth\":0,\"ticks\":\"\"},\"colorscale\":[[0.0,\"#0d0887\"],[0.1111111111111111,\"#46039f\"],[0.2222222222222222,\"#7201a8\"],[0.3333333333333333,\"#9c179e\"],[0.4444444444444444,\"#bd3786\"],[0.5555555555555556,\"#d8576b\"],[0.6666666666666666,\"#ed7953\"],[0.7777777777777778,\"#fb9f3a\"],[0.8888888888888888,\"#fdca26\"],[1.0,\"#f0f921\"]],\"type\":\"histogram2dcontour\"}],\"histogram2d\":[{\"colorbar\":{\"outlinewidth\":0,\"ticks\":\"\"},\"colorscale\":[[0.0,\"#0d0887\"],[0.1111111111111111,\"#46039f\"],[0.2222222222222222,\"#7201a8\"],[0.3333333333333333,\"#9c179e\"],[0.4444444444444444,\"#bd3786\"],[0.5555555555555556,\"#d8576b\"],[0.6666666666666666,\"#ed7953\"],[0.7777777777777778,\"#fb9f3a\"],[0.8888888888888888,\"#fdca26\"],[1.0,\"#f0f921\"]],\"type\":\"histogram2d\"}],\"histogram\":[{\"marker\":{\"pattern\":{\"fillmode\":\"overlay\",\"size\":10,\"solidity\":0.2}},\"type\":\"histogram\"}],\"mesh3d\":[{\"colorbar\":{\"outlinewidth\":0,\"ticks\":\"\"},\"type\":\"mesh3d\"}],\"parcoords\":[{\"line\":{\"colorbar\":{\"outlinewidth\":0,\"ticks\":\"\"}},\"type\":\"parcoords\"}],\"pie\":[{\"automargin\":true,\"type\":\"pie\"}],\"scatter3d\":[{\"line\":{\"colorbar\":{\"outlinewidth\":0,\"ticks\":\"\"}},\"marker\":{\"colorbar\":{\"outlinewidth\":0,\"ticks\":\"\"}},\"type\":\"scatter3d\"}],\"scattercarpet\":[{\"marker\":{\"colorbar\":{\"outlinewidth\":0,\"ticks\":\"\"}},\"type\":\"scattercarpet\"}],\"scattergeo\":[{\"marker\":{\"colorbar\":{\"outlinewidth\":0,\"ticks\":\"\"}},\"type\":\"scattergeo\"}],\"scattergl\":[{\"marker\":{\"colorbar\":{\"outlinewidth\":0,\"ticks\":\"\"}},\"type\":\"scattergl\"}],\"scattermapbox\":[{\"marker\":{\"colorbar\":{\"outlinewidth\":0,\"ticks\":\"\"}},\"type\":\"scattermapbox\"}],\"scatterpolargl\":[{\"marker\":{\"colorbar\":{\"outlinewidth\":0,\"ticks\":\"\"}},\"type\":\"scatterpolargl\"}],\"scatterpolar\":[{\"marker\":{\"colorbar\":{\"outlinewidth\":0,\"ticks\":\"\"}},\"type\":\"scatterpolar\"}],\"scatter\":[{\"fillpattern\":{\"fillmode\":\"overlay\",\"size\":10,\"solidity\":0.2},\"type\":\"scatter\"}],\"scatterternary\":[{\"marker\":{\"colorbar\":{\"outlinewidth\":0,\"ticks\":\"\"}},\"type\":\"scatterternary\"}],\"surface\":[{\"colorbar\":{\"outlinewidth\":0,\"ticks\":\"\"},\"colorscale\":[[0.0,\"#0d0887\"],[0.1111111111111111,\"#46039f\"],[0.2222222222222222,\"#7201a8\"],[0.3333333333333333,\"#9c179e\"],[0.4444444444444444,\"#bd3786\"],[0.5555555555555556,\"#d8576b\"],[0.6666666666666666,\"#ed7953\"],[0.7777777777777778,\"#fb9f3a\"],[0.8888888888888888,\"#fdca26\"],[1.0,\"#f0f921\"]],\"type\":\"surface\"}],\"table\":[{\"cells\":{\"fill\":{\"color\":\"#EBF0F8\"},\"line\":{\"color\":\"white\"}},\"header\":{\"fill\":{\"color\":\"#C8D4E3\"},\"line\":{\"color\":\"white\"}},\"type\":\"table\"}]},\"layout\":{\"annotationdefaults\":{\"arrowcolor\":\"#2a3f5f\",\"arrowhead\":0,\"arrowwidth\":1},\"autotypenumbers\":\"strict\",\"coloraxis\":{\"colorbar\":{\"outlinewidth\":0,\"ticks\":\"\"}},\"colorscale\":{\"diverging\":[[0,\"#8e0152\"],[0.1,\"#c51b7d\"],[0.2,\"#de77ae\"],[0.3,\"#f1b6da\"],[0.4,\"#fde0ef\"],[0.5,\"#f7f7f7\"],[0.6,\"#e6f5d0\"],[0.7,\"#b8e186\"],[0.8,\"#7fbc41\"],[0.9,\"#4d9221\"],[1,\"#276419\"]],\"sequential\":[[0.0,\"#0d0887\"],[0.1111111111111111,\"#46039f\"],[0.2222222222222222,\"#7201a8\"],[0.3333333333333333,\"#9c179e\"],[0.4444444444444444,\"#bd3786\"],[0.5555555555555556,\"#d8576b\"],[0.6666666666666666,\"#ed7953\"],[0.7777777777777778,\"#fb9f3a\"],[0.8888888888888888,\"#fdca26\"],[1.0,\"#f0f921\"]],\"sequentialminus\":[[0.0,\"#0d0887\"],[0.1111111111111111,\"#46039f\"],[0.2222222222222222,\"#7201a8\"],[0.3333333333333333,\"#9c179e\"],[0.4444444444444444,\"#bd3786\"],[0.5555555555555556,\"#d8576b\"],[0.6666666666666666,\"#ed7953\"],[0.7777777777777778,\"#fb9f3a\"],[0.8888888888888888,\"#fdca26\"],[1.0,\"#f0f921\"]]},\"colorway\":[\"#636efa\",\"#EF553B\",\"#00cc96\",\"#ab63fa\",\"#FFA15A\",\"#19d3f3\",\"#FF6692\",\"#B6E880\",\"#FF97FF\",\"#FECB52\"],\"font\":{\"color\":\"#2a3f5f\"},\"geo\":{\"bgcolor\":\"white\",\"lakecolor\":\"white\",\"landcolor\":\"#E5ECF6\",\"showlakes\":true,\"showland\":true,\"subunitcolor\":\"white\"},\"hoverlabel\":{\"align\":\"left\"},\"hovermode\":\"closest\",\"mapbox\":{\"style\":\"light\"},\"paper_bgcolor\":\"white\",\"plot_bgcolor\":\"#E5ECF6\",\"polar\":{\"angularaxis\":{\"gridcolor\":\"white\",\"linecolor\":\"white\",\"ticks\":\"\"},\"bgcolor\":\"#E5ECF6\",\"radialaxis\":{\"gridcolor\":\"white\",\"linecolor\":\"white\",\"ticks\":\"\"}},\"scene\":{\"xaxis\":{\"backgroundcolor\":\"#E5ECF6\",\"gridcolor\":\"white\",\"gridwidth\":2,\"linecolor\":\"white\",\"showbackground\":true,\"ticks\":\"\",\"zerolinecolor\":\"white\"},\"yaxis\":{\"backgroundcolor\":\"#E5ECF6\",\"gridcolor\":\"white\",\"gridwidth\":2,\"linecolor\":\"white\",\"showbackground\":true,\"ticks\":\"\",\"zerolinecolor\":\"white\"},\"zaxis\":{\"backgroundcolor\":\"#E5ECF6\",\"gridcolor\":\"white\",\"gridwidth\":2,\"linecolor\":\"white\",\"showbackground\":true,\"ticks\":\"\",\"zerolinecolor\":\"white\"}},\"shapedefaults\":{\"line\":{\"color\":\"#2a3f5f\"}},\"ternary\":{\"aaxis\":{\"gridcolor\":\"white\",\"linecolor\":\"white\",\"ticks\":\"\"},\"baxis\":{\"gridcolor\":\"white\",\"linecolor\":\"white\",\"ticks\":\"\"},\"bgcolor\":\"#E5ECF6\",\"caxis\":{\"gridcolor\":\"white\",\"linecolor\":\"white\",\"ticks\":\"\"}},\"title\":{\"x\":0.05},\"xaxis\":{\"automargin\":true,\"gridcolor\":\"white\",\"linecolor\":\"white\",\"ticks\":\"\",\"title\":{\"standoff\":15},\"zerolinecolor\":\"white\",\"zerolinewidth\":2},\"yaxis\":{\"automargin\":true,\"gridcolor\":\"white\",\"linecolor\":\"white\",\"ticks\":\"\",\"title\":{\"standoff\":15},\"zerolinecolor\":\"white\",\"zerolinewidth\":2}}},\"title\":{\"font\":{\"color\":\"#4D5663\"}},\"xaxis\":{\"gridcolor\":\"#E1E5ED\",\"showgrid\":true,\"tickfont\":{\"color\":\"#4D5663\"},\"title\":{\"font\":{\"color\":\"#4D5663\"},\"text\":\"\"},\"zerolinecolor\":\"#E1E5ED\"},\"yaxis\":{\"gridcolor\":\"#E1E5ED\",\"showgrid\":true,\"tickfont\":{\"color\":\"#4D5663\"},\"title\":{\"font\":{\"color\":\"#4D5663\"},\"text\":\"\"},\"zerolinecolor\":\"#E1E5ED\"}},                        {\"showLink\": true, \"linkText\": \"Export to plot.ly\", \"plotlyServerURL\": \"https://plot.ly\", \"responsive\": true}                    ).then(function(){\n",
       "                            \n",
       "var gd = document.getElementById('3f8e1e66-5ed9-4cff-a31b-2388a5c23410');\n",
       "var x = new MutationObserver(function (mutations, observer) {{\n",
       "        var display = window.getComputedStyle(gd).display;\n",
       "        if (!display || display === 'none') {{\n",
       "            console.log([gd, 'removed!']);\n",
       "            Plotly.purge(gd);\n",
       "            observer.disconnect();\n",
       "        }}\n",
       "}});\n",
       "\n",
       "// Listen for the removal of the full notebook cells\n",
       "var notebookContainer = gd.closest('#notebook-container');\n",
       "if (notebookContainer) {{\n",
       "    x.observe(notebookContainer, {childList: true});\n",
       "}}\n",
       "\n",
       "// Listen for the clearing of the current output cell\n",
       "var outputEl = gd.closest('.output');\n",
       "if (outputEl) {{\n",
       "    x.observe(outputEl, {childList: true});\n",
       "}}\n",
       "\n",
       "                        })                };                });            </script>        </div>"
      ]
     },
     "metadata": {},
     "output_type": "display_data"
    },
    {
     "data": {
      "application/vnd.plotly.v1+json": {
       "config": {
        "linkText": "Export to plot.ly",
        "plotlyServerURL": "https://plot.ly",
        "showLink": true
       },
       "data": [
        {
         "line": {
          "color": "rgba(255, 153, 51, 1.0)",
          "dash": "solid",
          "shape": "linear",
          "width": 1.3
         },
         "mode": "lines",
         "name": "total_volume",
         "text": "",
         "type": "scatter",
         "x": [
          "2021-09-22 00:00:00+00:00",
          "2021-09-23 00:00:00+00:00",
          "2021-09-24 00:00:00+00:00",
          "2021-09-25 00:00:00+00:00",
          "2021-09-26 00:00:00+00:00",
          "2021-09-27 00:00:00+00:00",
          "2021-09-28 00:00:00+00:00",
          "2021-09-29 00:00:00+00:00",
          "2021-09-30 00:00:00+00:00",
          "2021-10-01 00:00:00+00:00",
          "2021-10-02 00:00:00+00:00",
          "2021-10-03 00:00:00+00:00",
          "2021-10-04 00:00:00+00:00",
          "2021-10-05 00:00:00+00:00",
          "2021-10-06 00:00:00+00:00",
          "2021-10-07 00:00:00+00:00",
          "2021-10-08 00:00:00+00:00",
          "2021-10-09 00:00:00+00:00",
          "2021-10-10 00:00:00+00:00",
          "2021-10-11 00:00:00+00:00",
          "2021-10-12 00:00:00+00:00",
          "2021-10-13 00:00:00+00:00",
          "2021-10-14 00:00:00+00:00",
          "2021-10-15 00:00:00+00:00",
          "2021-10-16 00:00:00+00:00",
          "2021-10-17 00:00:00+00:00",
          "2021-10-18 00:00:00+00:00",
          "2021-10-19 00:00:00+00:00",
          "2021-10-20 00:00:00+00:00",
          "2021-10-21 00:00:00+00:00",
          "2021-10-22 00:00:00+00:00",
          "2021-10-23 00:00:00+00:00",
          "2021-10-24 00:00:00+00:00",
          "2021-10-25 00:00:00+00:00",
          "2021-10-26 00:00:00+00:00",
          "2021-10-27 00:00:00+00:00",
          "2021-10-28 00:00:00+00:00",
          "2021-10-29 00:00:00+00:00",
          "2021-10-30 00:00:00+00:00",
          "2021-10-31 00:00:00+00:00",
          "2021-11-01 00:00:00+00:00",
          "2021-11-02 00:00:00+00:00",
          "2021-11-03 00:00:00+00:00",
          "2021-11-04 00:00:00+00:00",
          "2021-11-05 00:00:00+00:00",
          "2021-11-06 00:00:00+00:00",
          "2021-11-07 00:00:00+00:00",
          "2021-11-08 00:00:00+00:00",
          "2021-11-09 00:00:00+00:00",
          "2021-11-10 00:00:00+00:00",
          "2021-11-11 00:00:00+00:00",
          "2021-11-12 00:00:00+00:00",
          "2021-11-13 00:00:00+00:00",
          "2021-11-14 00:00:00+00:00",
          "2021-11-15 00:00:00+00:00",
          "2021-11-16 00:00:00+00:00",
          "2021-11-17 00:00:00+00:00",
          "2021-11-18 00:00:00+00:00",
          "2021-11-19 00:00:00+00:00",
          "2021-11-20 00:00:00+00:00",
          "2021-11-21 00:00:00+00:00",
          "2021-11-22 00:00:00+00:00",
          "2021-11-23 00:00:00+00:00",
          "2021-11-24 00:00:00+00:00",
          "2021-11-25 00:00:00+00:00",
          "2021-11-26 00:00:00+00:00",
          "2021-11-27 00:00:00+00:00",
          "2021-11-28 00:00:00+00:00",
          "2021-11-29 00:00:00+00:00",
          "2021-11-30 00:00:00+00:00",
          "2021-12-01 00:00:00+00:00",
          "2021-12-02 00:00:00+00:00",
          "2021-12-03 00:00:00+00:00",
          "2021-12-04 00:00:00+00:00",
          "2021-12-05 00:00:00+00:00",
          "2021-12-06 00:00:00+00:00",
          "2021-12-07 00:00:00+00:00",
          "2021-12-08 00:00:00+00:00",
          "2021-12-09 00:00:00+00:00",
          "2021-12-10 00:00:00+00:00",
          "2021-12-11 00:00:00+00:00",
          "2021-12-12 00:00:00+00:00",
          "2021-12-13 00:00:00+00:00",
          "2021-12-14 00:00:00+00:00",
          "2021-12-15 00:00:00+00:00",
          "2021-12-16 00:00:00+00:00",
          "2021-12-17 00:00:00+00:00",
          "2021-12-18 00:00:00+00:00",
          "2021-12-19 00:00:00+00:00",
          "2021-12-20 00:00:00+00:00",
          "2021-12-21 00:00:00+00:00",
          "2021-12-22 00:00:00+00:00",
          "2021-12-23 00:00:00+00:00",
          "2021-12-24 00:00:00+00:00",
          "2021-12-25 00:00:00+00:00",
          "2021-12-26 00:00:00+00:00",
          "2021-12-27 00:00:00+00:00",
          "2021-12-28 00:00:00+00:00",
          "2021-12-29 00:00:00+00:00",
          "2021-12-30 00:00:00+00:00",
          "2021-12-31 00:00:00+00:00",
          "2022-01-01 00:00:00+00:00",
          "2022-01-02 00:00:00+00:00",
          "2022-01-03 00:00:00+00:00",
          "2022-01-04 00:00:00+00:00",
          "2022-01-05 00:00:00+00:00",
          "2022-01-06 00:00:00+00:00",
          "2022-01-07 00:00:00+00:00",
          "2022-01-08 00:00:00+00:00",
          "2022-01-09 00:00:00+00:00",
          "2022-01-10 00:00:00+00:00",
          "2022-01-11 00:00:00+00:00",
          "2022-01-12 00:00:00+00:00",
          "2022-01-13 00:00:00+00:00",
          "2022-01-14 00:00:00+00:00",
          "2022-01-15 00:00:00+00:00",
          "2022-01-16 00:00:00+00:00",
          "2022-01-17 00:00:00+00:00",
          "2022-01-18 00:00:00+00:00",
          "2022-01-19 00:00:00+00:00",
          "2022-01-20 00:00:00+00:00",
          "2022-01-21 00:00:00+00:00",
          "2022-01-22 00:00:00+00:00",
          "2022-01-23 00:00:00+00:00",
          "2022-01-24 00:00:00+00:00",
          "2022-01-25 00:00:00+00:00",
          "2022-01-26 00:00:00+00:00",
          "2022-01-27 00:00:00+00:00",
          "2022-01-28 00:00:00+00:00",
          "2022-01-29 00:00:00+00:00",
          "2022-01-30 00:00:00+00:00",
          "2022-01-31 00:00:00+00:00",
          "2022-02-01 00:00:00+00:00",
          "2022-02-02 00:00:00+00:00",
          "2022-02-03 00:00:00+00:00",
          "2022-02-04 00:00:00+00:00",
          "2022-02-05 00:00:00+00:00",
          "2022-02-06 00:00:00+00:00",
          "2022-02-07 00:00:00+00:00",
          "2022-02-08 00:00:00+00:00",
          "2022-02-09 00:00:00+00:00",
          "2022-02-10 00:00:00+00:00",
          "2022-02-11 00:00:00+00:00",
          "2022-02-12 00:00:00+00:00",
          "2022-02-13 00:00:00+00:00",
          "2022-02-14 00:00:00+00:00",
          "2022-02-15 00:00:00+00:00",
          "2022-02-16 00:00:00+00:00",
          "2022-02-17 00:00:00+00:00",
          "2022-02-18 00:00:00+00:00",
          "2022-02-19 00:00:00+00:00",
          "2022-02-20 00:00:00+00:00",
          "2022-02-21 00:00:00+00:00",
          "2022-02-22 00:00:00+00:00",
          "2022-02-23 00:00:00+00:00",
          "2022-02-24 00:00:00+00:00",
          "2022-02-25 00:00:00+00:00",
          "2022-02-26 00:00:00+00:00",
          "2022-02-27 00:00:00+00:00",
          "2022-02-28 00:00:00+00:00",
          "2022-03-01 00:00:00+00:00",
          "2022-03-02 00:00:00+00:00",
          "2022-03-03 00:00:00+00:00",
          "2022-03-04 00:00:00+00:00",
          "2022-03-05 00:00:00+00:00",
          "2022-03-06 00:00:00+00:00",
          "2022-03-07 00:00:00+00:00",
          "2022-03-08 00:00:00+00:00",
          "2022-03-09 00:00:00+00:00",
          "2022-03-10 00:00:00+00:00",
          "2022-03-11 00:00:00+00:00",
          "2022-03-12 00:00:00+00:00",
          "2022-03-13 00:00:00+00:00",
          "2022-03-14 00:00:00+00:00",
          "2022-03-15 00:00:00+00:00",
          "2022-03-16 00:00:00+00:00",
          "2022-03-17 00:00:00+00:00",
          "2022-03-18 00:00:00+00:00",
          "2022-03-19 00:00:00+00:00",
          "2022-03-20 00:00:00+00:00",
          "2022-03-21 00:00:00+00:00",
          "2022-03-22 00:00:00+00:00",
          "2022-03-23 00:00:00+00:00",
          "2022-03-24 00:00:00+00:00",
          "2022-03-25 00:00:00+00:00",
          "2022-03-26 00:00:00+00:00",
          "2022-03-27 00:00:00+00:00",
          "2022-03-28 00:00:00+00:00",
          "2022-03-29 00:00:00+00:00",
          "2022-03-30 00:00:00+00:00",
          "2022-03-31 00:00:00+00:00",
          "2022-04-01 00:00:00+00:00",
          "2022-04-02 00:00:00+00:00",
          "2022-04-03 00:00:00+00:00",
          "2022-04-04 00:00:00+00:00",
          "2022-04-05 00:00:00+00:00",
          "2022-04-06 00:00:00+00:00",
          "2022-04-07 00:00:00+00:00",
          "2022-04-08 00:00:00+00:00",
          "2022-04-09 00:00:00+00:00",
          "2022-04-10 00:00:00+00:00",
          "2022-04-11 00:00:00+00:00",
          "2022-04-12 00:00:00+00:00",
          "2022-04-13 00:00:00+00:00",
          "2022-04-14 00:00:00+00:00",
          "2022-04-15 00:00:00+00:00",
          "2022-04-16 00:00:00+00:00",
          "2022-04-17 00:00:00+00:00",
          "2022-04-18 00:00:00+00:00",
          "2022-04-19 00:00:00+00:00",
          "2022-04-20 00:00:00+00:00",
          "2022-04-21 00:00:00+00:00",
          "2022-04-22 00:00:00+00:00",
          "2022-04-23 00:00:00+00:00",
          "2022-04-24 00:00:00+00:00",
          "2022-04-25 00:00:00+00:00",
          "2022-04-26 00:00:00+00:00",
          "2022-04-27 00:00:00+00:00",
          "2022-04-28 00:00:00+00:00",
          "2022-04-29 00:00:00+00:00",
          "2022-04-30 00:00:00+00:00",
          "2022-05-01 00:00:00+00:00",
          "2022-05-02 00:00:00+00:00",
          "2022-05-03 00:00:00+00:00",
          "2022-05-04 00:00:00+00:00",
          "2022-05-05 00:00:00+00:00",
          "2022-05-06 00:00:00+00:00",
          "2022-05-07 00:00:00+00:00",
          "2022-05-08 00:00:00+00:00",
          "2022-05-09 00:00:00+00:00",
          "2022-05-10 00:00:00+00:00",
          "2022-05-11 00:00:00+00:00",
          "2022-05-12 00:00:00+00:00",
          "2022-05-13 00:00:00+00:00",
          "2022-05-14 00:00:00+00:00",
          "2022-05-15 00:00:00+00:00",
          "2022-05-16 00:00:00+00:00",
          "2022-05-17 00:00:00+00:00",
          "2022-05-18 00:00:00+00:00",
          "2022-05-19 00:00:00+00:00",
          "2022-05-20 00:00:00+00:00",
          "2022-05-21 00:00:00+00:00",
          "2022-05-22 00:00:00+00:00",
          "2022-05-23 00:00:00+00:00",
          "2022-05-24 00:00:00+00:00",
          "2022-05-25 00:00:00+00:00",
          "2022-05-26 00:00:00+00:00",
          "2022-05-27 00:00:00+00:00",
          "2022-05-28 00:00:00+00:00",
          "2022-05-29 00:00:00+00:00",
          "2022-05-30 00:00:00+00:00",
          "2022-05-31 00:00:00+00:00",
          "2022-06-01 00:00:00+00:00",
          "2022-06-02 00:00:00+00:00",
          "2022-06-03 00:00:00+00:00",
          "2022-06-04 00:00:00+00:00",
          "2022-06-05 00:00:00+00:00",
          "2022-06-06 00:00:00+00:00",
          "2022-06-07 00:00:00+00:00",
          "2022-06-08 00:00:00+00:00",
          "2022-06-09 00:00:00+00:00",
          "2022-06-10 00:00:00+00:00",
          "2022-06-11 00:00:00+00:00",
          "2022-06-12 00:00:00+00:00",
          "2022-06-13 00:00:00+00:00",
          "2022-06-14 00:00:00+00:00",
          "2022-06-15 00:00:00+00:00",
          "2022-06-16 00:00:00+00:00",
          "2022-06-17 00:00:00+00:00",
          "2022-06-18 00:00:00+00:00",
          "2022-06-19 00:00:00+00:00",
          "2022-06-20 00:00:00+00:00",
          "2022-06-21 00:00:00+00:00",
          "2022-06-22 00:00:00+00:00",
          "2022-06-23 00:00:00+00:00",
          "2022-06-24 00:00:00+00:00",
          "2022-06-25 00:00:00+00:00",
          "2022-06-26 00:00:00+00:00",
          "2022-06-27 00:00:00+00:00",
          "2022-06-28 00:00:00+00:00",
          "2022-06-29 00:00:00+00:00",
          "2022-06-30 00:00:00+00:00",
          "2022-07-01 00:00:00+00:00",
          "2022-07-02 00:00:00+00:00",
          "2022-07-03 00:00:00+00:00",
          "2022-07-04 00:00:00+00:00",
          "2022-07-05 00:00:00+00:00",
          "2022-07-06 00:00:00+00:00",
          "2022-07-07 00:00:00+00:00",
          "2022-07-08 00:00:00+00:00",
          "2022-07-09 00:00:00+00:00",
          "2022-07-10 00:00:00+00:00",
          "2022-07-11 00:00:00+00:00",
          "2022-07-12 00:00:00+00:00",
          "2022-07-13 00:00:00+00:00",
          "2022-07-14 00:00:00+00:00",
          "2022-07-15 00:00:00+00:00",
          "2022-07-16 00:00:00+00:00",
          "2022-07-17 00:00:00+00:00",
          "2022-07-18 00:00:00+00:00",
          "2022-07-19 00:00:00+00:00",
          "2022-07-20 00:00:00+00:00",
          "2022-07-21 00:00:00+00:00",
          "2022-07-22 00:00:00+00:00",
          "2022-07-23 00:00:00+00:00",
          "2022-07-24 00:00:00+00:00",
          "2022-07-25 00:00:00+00:00",
          "2022-07-26 00:00:00+00:00",
          "2022-07-27 00:00:00+00:00",
          "2022-07-28 00:00:00+00:00",
          "2022-07-29 00:00:00+00:00",
          "2022-07-30 00:00:00+00:00",
          "2022-07-31 00:00:00+00:00",
          "2022-08-01 00:00:00+00:00",
          "2022-08-02 00:00:00+00:00",
          "2022-08-03 00:00:00+00:00",
          "2022-08-04 00:00:00+00:00",
          "2022-08-05 00:00:00+00:00",
          "2022-08-06 00:00:00+00:00",
          "2022-08-07 00:00:00+00:00",
          "2022-08-08 00:00:00+00:00",
          "2022-08-09 00:00:00+00:00",
          "2022-08-10 00:00:00+00:00",
          "2022-08-11 00:00:00+00:00",
          "2022-08-12 00:00:00+00:00",
          "2022-08-13 00:00:00+00:00",
          "2022-08-14 00:00:00+00:00",
          "2022-08-15 00:00:00+00:00",
          "2022-08-16 00:00:00+00:00",
          "2022-08-17 00:00:00+00:00",
          "2022-08-18 00:00:00+00:00",
          "2022-08-19 00:00:00+00:00",
          "2022-08-20 00:00:00+00:00",
          "2022-08-21 00:00:00+00:00",
          "2022-08-22 00:00:00+00:00",
          "2022-08-23 00:00:00+00:00",
          "2022-08-24 00:00:00+00:00",
          "2022-08-25 00:00:00+00:00",
          "2022-08-26 00:00:00+00:00",
          "2022-08-27 00:00:00+00:00",
          "2022-08-28 00:00:00+00:00",
          "2022-08-29 00:00:00+00:00",
          "2022-08-30 00:00:00+00:00",
          "2022-08-31 00:00:00+00:00",
          "2022-09-01 00:00:00+00:00",
          "2022-09-02 00:00:00+00:00",
          "2022-09-03 00:00:00+00:00",
          "2022-09-04 00:00:00+00:00",
          "2022-09-05 00:00:00+00:00",
          "2022-09-06 00:00:00+00:00",
          "2022-09-07 00:00:00+00:00",
          "2022-09-08 00:00:00+00:00",
          "2022-09-09 00:00:00+00:00",
          "2022-09-10 00:00:00+00:00",
          "2022-09-11 00:00:00+00:00",
          "2022-09-12 00:00:00+00:00",
          "2022-09-13 00:00:00+00:00",
          "2022-09-14 00:00:00+00:00",
          "2022-09-15 00:00:00+00:00",
          "2022-09-16 00:00:00+00:00",
          "2022-09-17 00:00:00+00:00",
          "2022-09-18 00:00:00+00:00",
          "2022-09-19 00:00:00+00:00",
          "2022-09-20 00:00:00+00:00",
          "2022-09-21 00:00:00+00:00"
         ],
         "y": [
          45940419565.082825,
          36624234960.05299,
          33594750549.99859,
          42973070342.65028,
          30898116660.05655,
          30462815705.283737,
          30483144439.45263,
          29691944223.292786,
          30068690311.96594,
          30859918334.565014,
          42089383189.81192,
          29742127387.956062,
          26034594561.96341,
          32691763060.319107,
          35480330025.02791,
          48462388015.80152,
          36549815857.28183,
          33935485256.826164,
          31927344846.44677,
          38579271671.06987,
          41913482915.37917,
          40021384610.698265,
          41216945749.34656,
          35994603913.188385,
          53653355008.40819,
          35385452268.77726,
          29625957541.677635,
          39610183787.23528,
          42550624869.2941,
          40790757381.60165,
          48709960685.53348,
          40766460604.96904,
          28505039147.788773,
          29982535557.40278,
          30852852368.02752,
          33233702858.09473,
          43976252157.06864,
          52318597556.794624,
          38648967244.95182,
          31810216329.529858,
          32494948460.791386,
          35834742028.38199,
          37335066460.15533,
          36561444796.93016,
          33152275947.43255,
          31182137447.967438,
          31423601393.173405,
          24877902989.784374,
          105426313891.40912,
          41207912437.79217,
          48648563669.37678,
          35457583783.213585,
          36872626217.74136,
          29677693457.31651,
          26088449436.717117,
          32107212452.29841,
          48978396010.96816,
          39200729529.48786,
          41828523861.71753,
          37851259606.14217,
          29676550711.713173,
          25743426946.96193,
          34001467918.52828,
          36421192856.53637,
          31695369987.85105,
          33721097081.419792,
          41325811946.27098,
          28256851067.70268,
          27659464986.73885,
          30985196646.76598,
          35723038603.83064,
          49383073891.00049,
          36296342256.75686,
          39527112725.92275,
          55941408415.03649,
          32826574574.44167,
          36126018721.82655,
          30083305919.5604,
          26590164539.05959,
          27269362515.24688,
          29611257204.740986,
          24619129766.774235,
          19871029748.355583,
          29628245402.12413,
          30152105689.95273,
          33782603071.208717,
          24699414443.565502,
          30617760444.44956,
          23305069269.64378,
          23002876885.701263,
          29356191956.18185,
          25764127608.31085,
          21887790445.92829,
          26419703744.656948,
          22535489970.197155,
          17235296605.82555,
          19632044502.131416,
          22793878136.833546,
          29538983233.48695,
          26348739119.378136,
          23753871435.216618,
          25895349604.886154,
          18904585811.03402,
          33756128241.98571,
          21890019531.577717,
          24895990583.66324,
          31837641246.01787,
          26366602396.811768,
          79685254648.07628,
          23337017232.770664,
          18016718173.60861,
          27984634062.049946,
          22813557397.82151,
          28250302540.221024,
          43905745871.29279,
          20238314434.86153,
          14651008624.734596,
          14452346388.550371,
          17694929625.845875,
          18897950050.285973,
          19626113309.554146,
          20930163211.171124,
          38296960033.31628,
          35517336417.257744,
          22865032968.608204,
          36385158448.60688,
          46168918584.85349,
          26756873749.744743,
          22057410457.280827,
          19214103304.052933,
          14178650231.62196,
          11807185113.633108,
          17731563487.283978,
          17109120250.158989,
          16709908527.231106,
          16136299994.837618,
          25347215343.882504,
          16752051696.248552,
          13206494654.908049,
          24171856714.47576,
          29024977264.932137,
          19780565063.098923,
          27877618433.98099,
          23279080009.72499,
          15479727288.782782,
          12146423251.39967,
          18090873762.822777,
          19801081788.55576,
          16847003857.433496,
          22270664615.4777,
          20130002755.177864,
          11735183838.17719,
          15998424231.017672,
          25174914104.16337,
          22212181617.200245,
          18507851467.85067,
          40839699480.89129,
          22579249141.515377,
          14568201294.74542,
          19424397945.6196,
          30634280854.538326,
          27880763034.093918,
          25615956856.40275,
          22366184128.90048,
          25121267305.979286,
          14818212144.749968,
          16995562040.606796,
          24596395439.058964,
          22556397749.428085,
          29211702119.448605,
          27653455219.04128,
          23624165274.522385,
          12440826653.84724,
          14461647575.513742,
          21250969229.2216,
          20768829817.93864,
          34974203468.766266,
          18861644942.593346,
          30316128166.48974,
          16580741571.959858,
          16856192301.960054,
          21335882483.3158,
          28688623151.357098,
          21851891598.642384,
          26212783703.864426,
          26147756108.07925,
          13676534294.229202,
          22545392529.67392,
          30051327357.066643,
          26128040680.825665,
          24497248306.346912,
          27736469645.537266,
          32948605532.13528,
          24803837259.76474,
          21510196790.30345,
          28019309650.72574,
          25474063861.60569,
          34113818641.77575,
          22960138784.304127,
          24202906401.166885,
          13949535311.5313,
          14936318818.778025,
          30168665078.21043,
          27804694935.48352,
          25453869985.97185,
          22744792147.00975,
          22053774554.17729,
          15777789210.238447,
          16627779441.567648,
          30617039399.980103,
          22717772925.289574,
          24937668255.073463,
          32131220615.550182,
          46022063018.95215,
          15010797471.968073,
          16778683767.597218,
          32883645913.96472,
          31053018153.386677,
          28170490245.865635,
          31484572271.03238,
          27758348826.409065,
          20955789685.35568,
          24857664487.014507,
          29825308569.42226,
          23070122642.32804,
          31748901527.20592,
          37402043365.58407,
          32223287014.454,
          19130720394.98043,
          30810576501.52256,
          58369928594.32748,
          54071363210.08785,
          65985702701.50493,
          61338080283.57989,
          71541696924.39926,
          25759546763.688618,
          22948123704.172672,
          28418179221.125336,
          24964703223.57502,
          26219431165.241817,
          29190056577.430664,
          25980877919.56809,
          13561006428.368963,
          17199930154.801018,
          26646754324.71057,
          23486436836.56051,
          23108764916.2066,
          31972044691.709656,
          31756305901.00553,
          15406515372.711676,
          14496111397.934437,
          34891305294.623,
          29770567353.488136,
          35553330791.53566,
          24232399986.261147,
          21997859590.66833,
          12911383481.843807,
          13395229055.412352,
          27644798123.298183,
          36111325508.04181,
          27080284928.564884,
          18871591862.340336,
          25663085729.428837,
          22518366769.83909,
          29834061115.62461,
          64852526179.38284,
          47639470967.89143,
          52027211446.51121,
          27449277945.59262,
          24232922585.24016,
          38920632524.1614,
          32488136325.883087,
          28346447996.779846,
          25340643362.789,
          24955466738.11085,
          23655104386.97852,
          21955656695.74872,
          16152442749.306295,
          15392697878.417652,
          17719011287.9831,
          18161209601.432373,
          20744333507.35517,
          22816515394.911003,
          28756781114.699898,
          15601715000.679424,
          13976969844.33244,
          18634860046.37241,
          23623270105.54542,
          21755499642.28282,
          21927087503.43376,
          46645398900.96298,
          26211587451.783283,
          25037950754.00336,
          21319467248.801025,
          22074971578.2899,
          28560004360.90292,
          28732413536.669937,
          46542248374.33238,
          42051101694.797554,
          29615794461.49923,
          58636734705.48306,
          57338223361.51413,
          40775718993.79776,
          63224249257.51128,
          40304373301.41499,
          42519262113.1533,
          33108916659.05373,
          42667548128.93224,
          53995620035.18145,
          54498281944.45157,
          55609627980.6571,
          41089335195.63975,
          62102072346.807785,
          31786729326.443203,
          44489771146.510735,
          35151096516.75639,
          41334593234.075066,
          23624874220.429745,
          27040190909.828075,
          14439694271.14074,
          14324042469.270954,
          27756736787.028625,
          29738069337.77638,
          32215976525.650154,
          33892871243.716595,
          25195193357.103275,
          22240559959.52209,
          21287616855.70449,
          33404812507.80541,
          24971300201.368164,
          29567403252.00121,
          20228208349.156567,
          35142410593.122185,
          23809679190.922188,
          20476237108.35153,
          28856912427.17573,
          29331102121.79332,
          26855905243.36116,
          26767966536.315014,
          34910727805.04114,
          24463219414.743477,
          19781826309.451183,
          28706315246.140064,
          30308993725.45616,
          27825786159.8556,
          25616737335.88055,
          24078042298.340076,
          20048153187.39969,
          21537524477.36904,
          23522961655.00036,
          39940310406.47586,
          30517907004.082462,
          28936941008.35892,
          42487059054.97593,
          35941349745.24438,
          31266252145.35619,
          44006486689.44507,
          46489890914.82466,
          35789015870.392235,
          33715957206.68328,
          30187737709.58007,
          23394494073.784782,
          28689764413.699097,
          39507938864.87854,
          33890591849.676517
         ]
        }
       ],
       "layout": {
        "legend": {
         "bgcolor": "#F5F6F9",
         "font": {
          "color": "#4D5663"
         }
        },
        "paper_bgcolor": "#F5F6F9",
        "plot_bgcolor": "#F5F6F9",
        "template": {
         "data": {
          "bar": [
           {
            "error_x": {
             "color": "#2a3f5f"
            },
            "error_y": {
             "color": "#2a3f5f"
            },
            "marker": {
             "line": {
              "color": "#E5ECF6",
              "width": 0.5
             },
             "pattern": {
              "fillmode": "overlay",
              "size": 10,
              "solidity": 0.2
             }
            },
            "type": "bar"
           }
          ],
          "barpolar": [
           {
            "marker": {
             "line": {
              "color": "#E5ECF6",
              "width": 0.5
             },
             "pattern": {
              "fillmode": "overlay",
              "size": 10,
              "solidity": 0.2
             }
            },
            "type": "barpolar"
           }
          ],
          "carpet": [
           {
            "aaxis": {
             "endlinecolor": "#2a3f5f",
             "gridcolor": "white",
             "linecolor": "white",
             "minorgridcolor": "white",
             "startlinecolor": "#2a3f5f"
            },
            "baxis": {
             "endlinecolor": "#2a3f5f",
             "gridcolor": "white",
             "linecolor": "white",
             "minorgridcolor": "white",
             "startlinecolor": "#2a3f5f"
            },
            "type": "carpet"
           }
          ],
          "choropleth": [
           {
            "colorbar": {
             "outlinewidth": 0,
             "ticks": ""
            },
            "type": "choropleth"
           }
          ],
          "contour": [
           {
            "colorbar": {
             "outlinewidth": 0,
             "ticks": ""
            },
            "colorscale": [
             [
              0,
              "#0d0887"
             ],
             [
              0.1111111111111111,
              "#46039f"
             ],
             [
              0.2222222222222222,
              "#7201a8"
             ],
             [
              0.3333333333333333,
              "#9c179e"
             ],
             [
              0.4444444444444444,
              "#bd3786"
             ],
             [
              0.5555555555555556,
              "#d8576b"
             ],
             [
              0.6666666666666666,
              "#ed7953"
             ],
             [
              0.7777777777777778,
              "#fb9f3a"
             ],
             [
              0.8888888888888888,
              "#fdca26"
             ],
             [
              1,
              "#f0f921"
             ]
            ],
            "type": "contour"
           }
          ],
          "contourcarpet": [
           {
            "colorbar": {
             "outlinewidth": 0,
             "ticks": ""
            },
            "type": "contourcarpet"
           }
          ],
          "heatmap": [
           {
            "colorbar": {
             "outlinewidth": 0,
             "ticks": ""
            },
            "colorscale": [
             [
              0,
              "#0d0887"
             ],
             [
              0.1111111111111111,
              "#46039f"
             ],
             [
              0.2222222222222222,
              "#7201a8"
             ],
             [
              0.3333333333333333,
              "#9c179e"
             ],
             [
              0.4444444444444444,
              "#bd3786"
             ],
             [
              0.5555555555555556,
              "#d8576b"
             ],
             [
              0.6666666666666666,
              "#ed7953"
             ],
             [
              0.7777777777777778,
              "#fb9f3a"
             ],
             [
              0.8888888888888888,
              "#fdca26"
             ],
             [
              1,
              "#f0f921"
             ]
            ],
            "type": "heatmap"
           }
          ],
          "heatmapgl": [
           {
            "colorbar": {
             "outlinewidth": 0,
             "ticks": ""
            },
            "colorscale": [
             [
              0,
              "#0d0887"
             ],
             [
              0.1111111111111111,
              "#46039f"
             ],
             [
              0.2222222222222222,
              "#7201a8"
             ],
             [
              0.3333333333333333,
              "#9c179e"
             ],
             [
              0.4444444444444444,
              "#bd3786"
             ],
             [
              0.5555555555555556,
              "#d8576b"
             ],
             [
              0.6666666666666666,
              "#ed7953"
             ],
             [
              0.7777777777777778,
              "#fb9f3a"
             ],
             [
              0.8888888888888888,
              "#fdca26"
             ],
             [
              1,
              "#f0f921"
             ]
            ],
            "type": "heatmapgl"
           }
          ],
          "histogram": [
           {
            "marker": {
             "pattern": {
              "fillmode": "overlay",
              "size": 10,
              "solidity": 0.2
             }
            },
            "type": "histogram"
           }
          ],
          "histogram2d": [
           {
            "colorbar": {
             "outlinewidth": 0,
             "ticks": ""
            },
            "colorscale": [
             [
              0,
              "#0d0887"
             ],
             [
              0.1111111111111111,
              "#46039f"
             ],
             [
              0.2222222222222222,
              "#7201a8"
             ],
             [
              0.3333333333333333,
              "#9c179e"
             ],
             [
              0.4444444444444444,
              "#bd3786"
             ],
             [
              0.5555555555555556,
              "#d8576b"
             ],
             [
              0.6666666666666666,
              "#ed7953"
             ],
             [
              0.7777777777777778,
              "#fb9f3a"
             ],
             [
              0.8888888888888888,
              "#fdca26"
             ],
             [
              1,
              "#f0f921"
             ]
            ],
            "type": "histogram2d"
           }
          ],
          "histogram2dcontour": [
           {
            "colorbar": {
             "outlinewidth": 0,
             "ticks": ""
            },
            "colorscale": [
             [
              0,
              "#0d0887"
             ],
             [
              0.1111111111111111,
              "#46039f"
             ],
             [
              0.2222222222222222,
              "#7201a8"
             ],
             [
              0.3333333333333333,
              "#9c179e"
             ],
             [
              0.4444444444444444,
              "#bd3786"
             ],
             [
              0.5555555555555556,
              "#d8576b"
             ],
             [
              0.6666666666666666,
              "#ed7953"
             ],
             [
              0.7777777777777778,
              "#fb9f3a"
             ],
             [
              0.8888888888888888,
              "#fdca26"
             ],
             [
              1,
              "#f0f921"
             ]
            ],
            "type": "histogram2dcontour"
           }
          ],
          "mesh3d": [
           {
            "colorbar": {
             "outlinewidth": 0,
             "ticks": ""
            },
            "type": "mesh3d"
           }
          ],
          "parcoords": [
           {
            "line": {
             "colorbar": {
              "outlinewidth": 0,
              "ticks": ""
             }
            },
            "type": "parcoords"
           }
          ],
          "pie": [
           {
            "automargin": true,
            "type": "pie"
           }
          ],
          "scatter": [
           {
            "fillpattern": {
             "fillmode": "overlay",
             "size": 10,
             "solidity": 0.2
            },
            "type": "scatter"
           }
          ],
          "scatter3d": [
           {
            "line": {
             "colorbar": {
              "outlinewidth": 0,
              "ticks": ""
             }
            },
            "marker": {
             "colorbar": {
              "outlinewidth": 0,
              "ticks": ""
             }
            },
            "type": "scatter3d"
           }
          ],
          "scattercarpet": [
           {
            "marker": {
             "colorbar": {
              "outlinewidth": 0,
              "ticks": ""
             }
            },
            "type": "scattercarpet"
           }
          ],
          "scattergeo": [
           {
            "marker": {
             "colorbar": {
              "outlinewidth": 0,
              "ticks": ""
             }
            },
            "type": "scattergeo"
           }
          ],
          "scattergl": [
           {
            "marker": {
             "colorbar": {
              "outlinewidth": 0,
              "ticks": ""
             }
            },
            "type": "scattergl"
           }
          ],
          "scattermapbox": [
           {
            "marker": {
             "colorbar": {
              "outlinewidth": 0,
              "ticks": ""
             }
            },
            "type": "scattermapbox"
           }
          ],
          "scatterpolar": [
           {
            "marker": {
             "colorbar": {
              "outlinewidth": 0,
              "ticks": ""
             }
            },
            "type": "scatterpolar"
           }
          ],
          "scatterpolargl": [
           {
            "marker": {
             "colorbar": {
              "outlinewidth": 0,
              "ticks": ""
             }
            },
            "type": "scatterpolargl"
           }
          ],
          "scatterternary": [
           {
            "marker": {
             "colorbar": {
              "outlinewidth": 0,
              "ticks": ""
             }
            },
            "type": "scatterternary"
           }
          ],
          "surface": [
           {
            "colorbar": {
             "outlinewidth": 0,
             "ticks": ""
            },
            "colorscale": [
             [
              0,
              "#0d0887"
             ],
             [
              0.1111111111111111,
              "#46039f"
             ],
             [
              0.2222222222222222,
              "#7201a8"
             ],
             [
              0.3333333333333333,
              "#9c179e"
             ],
             [
              0.4444444444444444,
              "#bd3786"
             ],
             [
              0.5555555555555556,
              "#d8576b"
             ],
             [
              0.6666666666666666,
              "#ed7953"
             ],
             [
              0.7777777777777778,
              "#fb9f3a"
             ],
             [
              0.8888888888888888,
              "#fdca26"
             ],
             [
              1,
              "#f0f921"
             ]
            ],
            "type": "surface"
           }
          ],
          "table": [
           {
            "cells": {
             "fill": {
              "color": "#EBF0F8"
             },
             "line": {
              "color": "white"
             }
            },
            "header": {
             "fill": {
              "color": "#C8D4E3"
             },
             "line": {
              "color": "white"
             }
            },
            "type": "table"
           }
          ]
         },
         "layout": {
          "annotationdefaults": {
           "arrowcolor": "#2a3f5f",
           "arrowhead": 0,
           "arrowwidth": 1
          },
          "autotypenumbers": "strict",
          "coloraxis": {
           "colorbar": {
            "outlinewidth": 0,
            "ticks": ""
           }
          },
          "colorscale": {
           "diverging": [
            [
             0,
             "#8e0152"
            ],
            [
             0.1,
             "#c51b7d"
            ],
            [
             0.2,
             "#de77ae"
            ],
            [
             0.3,
             "#f1b6da"
            ],
            [
             0.4,
             "#fde0ef"
            ],
            [
             0.5,
             "#f7f7f7"
            ],
            [
             0.6,
             "#e6f5d0"
            ],
            [
             0.7,
             "#b8e186"
            ],
            [
             0.8,
             "#7fbc41"
            ],
            [
             0.9,
             "#4d9221"
            ],
            [
             1,
             "#276419"
            ]
           ],
           "sequential": [
            [
             0,
             "#0d0887"
            ],
            [
             0.1111111111111111,
             "#46039f"
            ],
            [
             0.2222222222222222,
             "#7201a8"
            ],
            [
             0.3333333333333333,
             "#9c179e"
            ],
            [
             0.4444444444444444,
             "#bd3786"
            ],
            [
             0.5555555555555556,
             "#d8576b"
            ],
            [
             0.6666666666666666,
             "#ed7953"
            ],
            [
             0.7777777777777778,
             "#fb9f3a"
            ],
            [
             0.8888888888888888,
             "#fdca26"
            ],
            [
             1,
             "#f0f921"
            ]
           ],
           "sequentialminus": [
            [
             0,
             "#0d0887"
            ],
            [
             0.1111111111111111,
             "#46039f"
            ],
            [
             0.2222222222222222,
             "#7201a8"
            ],
            [
             0.3333333333333333,
             "#9c179e"
            ],
            [
             0.4444444444444444,
             "#bd3786"
            ],
            [
             0.5555555555555556,
             "#d8576b"
            ],
            [
             0.6666666666666666,
             "#ed7953"
            ],
            [
             0.7777777777777778,
             "#fb9f3a"
            ],
            [
             0.8888888888888888,
             "#fdca26"
            ],
            [
             1,
             "#f0f921"
            ]
           ]
          },
          "colorway": [
           "#636efa",
           "#EF553B",
           "#00cc96",
           "#ab63fa",
           "#FFA15A",
           "#19d3f3",
           "#FF6692",
           "#B6E880",
           "#FF97FF",
           "#FECB52"
          ],
          "font": {
           "color": "#2a3f5f"
          },
          "geo": {
           "bgcolor": "white",
           "lakecolor": "white",
           "landcolor": "#E5ECF6",
           "showlakes": true,
           "showland": true,
           "subunitcolor": "white"
          },
          "hoverlabel": {
           "align": "left"
          },
          "hovermode": "closest",
          "mapbox": {
           "style": "light"
          },
          "paper_bgcolor": "white",
          "plot_bgcolor": "#E5ECF6",
          "polar": {
           "angularaxis": {
            "gridcolor": "white",
            "linecolor": "white",
            "ticks": ""
           },
           "bgcolor": "#E5ECF6",
           "radialaxis": {
            "gridcolor": "white",
            "linecolor": "white",
            "ticks": ""
           }
          },
          "scene": {
           "xaxis": {
            "backgroundcolor": "#E5ECF6",
            "gridcolor": "white",
            "gridwidth": 2,
            "linecolor": "white",
            "showbackground": true,
            "ticks": "",
            "zerolinecolor": "white"
           },
           "yaxis": {
            "backgroundcolor": "#E5ECF6",
            "gridcolor": "white",
            "gridwidth": 2,
            "linecolor": "white",
            "showbackground": true,
            "ticks": "",
            "zerolinecolor": "white"
           },
           "zaxis": {
            "backgroundcolor": "#E5ECF6",
            "gridcolor": "white",
            "gridwidth": 2,
            "linecolor": "white",
            "showbackground": true,
            "ticks": "",
            "zerolinecolor": "white"
           }
          },
          "shapedefaults": {
           "line": {
            "color": "#2a3f5f"
           }
          },
          "ternary": {
           "aaxis": {
            "gridcolor": "white",
            "linecolor": "white",
            "ticks": ""
           },
           "baxis": {
            "gridcolor": "white",
            "linecolor": "white",
            "ticks": ""
           },
           "bgcolor": "#E5ECF6",
           "caxis": {
            "gridcolor": "white",
            "linecolor": "white",
            "ticks": ""
           }
          },
          "title": {
           "x": 0.05
          },
          "xaxis": {
           "automargin": true,
           "gridcolor": "white",
           "linecolor": "white",
           "ticks": "",
           "title": {
            "standoff": 15
           },
           "zerolinecolor": "white",
           "zerolinewidth": 2
          },
          "yaxis": {
           "automargin": true,
           "gridcolor": "white",
           "linecolor": "white",
           "ticks": "",
           "title": {
            "standoff": 15
           },
           "zerolinecolor": "white",
           "zerolinewidth": 2
          }
         }
        },
        "title": {
         "font": {
          "color": "#4D5663"
         }
        },
        "xaxis": {
         "gridcolor": "#E1E5ED",
         "showgrid": true,
         "tickfont": {
          "color": "#4D5663"
         },
         "title": {
          "font": {
           "color": "#4D5663"
          },
          "text": ""
         },
         "zerolinecolor": "#E1E5ED"
        },
        "yaxis": {
         "gridcolor": "#E1E5ED",
         "showgrid": true,
         "tickfont": {
          "color": "#4D5663"
         },
         "title": {
          "font": {
           "color": "#4D5663"
          },
          "text": ""
         },
         "zerolinecolor": "#E1E5ED"
        }
       }
      },
      "text/html": [
       "<div>                            <div id=\"c214be68-66f9-4350-9915-8d2482f9d29d\" class=\"plotly-graph-div\" style=\"height:525px; width:100%;\"></div>            <script type=\"text/javascript\">                require([\"plotly\"], function(Plotly) {                    window.PLOTLYENV=window.PLOTLYENV || {};\n",
       "                    window.PLOTLYENV.BASE_URL='https://plot.ly';                                    if (document.getElementById(\"c214be68-66f9-4350-9915-8d2482f9d29d\")) {                    Plotly.newPlot(                        \"c214be68-66f9-4350-9915-8d2482f9d29d\",                        [{\"line\":{\"color\":\"rgba(255, 153, 51, 1.0)\",\"dash\":\"solid\",\"shape\":\"linear\",\"width\":1.3},\"mode\":\"lines\",\"name\":\"total_volume\",\"text\":\"\",\"x\":[\"2021-09-22 00:00:00+00:00\",\"2021-09-23 00:00:00+00:00\",\"2021-09-24 00:00:00+00:00\",\"2021-09-25 00:00:00+00:00\",\"2021-09-26 00:00:00+00:00\",\"2021-09-27 00:00:00+00:00\",\"2021-09-28 00:00:00+00:00\",\"2021-09-29 00:00:00+00:00\",\"2021-09-30 00:00:00+00:00\",\"2021-10-01 00:00:00+00:00\",\"2021-10-02 00:00:00+00:00\",\"2021-10-03 00:00:00+00:00\",\"2021-10-04 00:00:00+00:00\",\"2021-10-05 00:00:00+00:00\",\"2021-10-06 00:00:00+00:00\",\"2021-10-07 00:00:00+00:00\",\"2021-10-08 00:00:00+00:00\",\"2021-10-09 00:00:00+00:00\",\"2021-10-10 00:00:00+00:00\",\"2021-10-11 00:00:00+00:00\",\"2021-10-12 00:00:00+00:00\",\"2021-10-13 00:00:00+00:00\",\"2021-10-14 00:00:00+00:00\",\"2021-10-15 00:00:00+00:00\",\"2021-10-16 00:00:00+00:00\",\"2021-10-17 00:00:00+00:00\",\"2021-10-18 00:00:00+00:00\",\"2021-10-19 00:00:00+00:00\",\"2021-10-20 00:00:00+00:00\",\"2021-10-21 00:00:00+00:00\",\"2021-10-22 00:00:00+00:00\",\"2021-10-23 00:00:00+00:00\",\"2021-10-24 00:00:00+00:00\",\"2021-10-25 00:00:00+00:00\",\"2021-10-26 00:00:00+00:00\",\"2021-10-27 00:00:00+00:00\",\"2021-10-28 00:00:00+00:00\",\"2021-10-29 00:00:00+00:00\",\"2021-10-30 00:00:00+00:00\",\"2021-10-31 00:00:00+00:00\",\"2021-11-01 00:00:00+00:00\",\"2021-11-02 00:00:00+00:00\",\"2021-11-03 00:00:00+00:00\",\"2021-11-04 00:00:00+00:00\",\"2021-11-05 00:00:00+00:00\",\"2021-11-06 00:00:00+00:00\",\"2021-11-07 00:00:00+00:00\",\"2021-11-08 00:00:00+00:00\",\"2021-11-09 00:00:00+00:00\",\"2021-11-10 00:00:00+00:00\",\"2021-11-11 00:00:00+00:00\",\"2021-11-12 00:00:00+00:00\",\"2021-11-13 00:00:00+00:00\",\"2021-11-14 00:00:00+00:00\",\"2021-11-15 00:00:00+00:00\",\"2021-11-16 00:00:00+00:00\",\"2021-11-17 00:00:00+00:00\",\"2021-11-18 00:00:00+00:00\",\"2021-11-19 00:00:00+00:00\",\"2021-11-20 00:00:00+00:00\",\"2021-11-21 00:00:00+00:00\",\"2021-11-22 00:00:00+00:00\",\"2021-11-23 00:00:00+00:00\",\"2021-11-24 00:00:00+00:00\",\"2021-11-25 00:00:00+00:00\",\"2021-11-26 00:00:00+00:00\",\"2021-11-27 00:00:00+00:00\",\"2021-11-28 00:00:00+00:00\",\"2021-11-29 00:00:00+00:00\",\"2021-11-30 00:00:00+00:00\",\"2021-12-01 00:00:00+00:00\",\"2021-12-02 00:00:00+00:00\",\"2021-12-03 00:00:00+00:00\",\"2021-12-04 00:00:00+00:00\",\"2021-12-05 00:00:00+00:00\",\"2021-12-06 00:00:00+00:00\",\"2021-12-07 00:00:00+00:00\",\"2021-12-08 00:00:00+00:00\",\"2021-12-09 00:00:00+00:00\",\"2021-12-10 00:00:00+00:00\",\"2021-12-11 00:00:00+00:00\",\"2021-12-12 00:00:00+00:00\",\"2021-12-13 00:00:00+00:00\",\"2021-12-14 00:00:00+00:00\",\"2021-12-15 00:00:00+00:00\",\"2021-12-16 00:00:00+00:00\",\"2021-12-17 00:00:00+00:00\",\"2021-12-18 00:00:00+00:00\",\"2021-12-19 00:00:00+00:00\",\"2021-12-20 00:00:00+00:00\",\"2021-12-21 00:00:00+00:00\",\"2021-12-22 00:00:00+00:00\",\"2021-12-23 00:00:00+00:00\",\"2021-12-24 00:00:00+00:00\",\"2021-12-25 00:00:00+00:00\",\"2021-12-26 00:00:00+00:00\",\"2021-12-27 00:00:00+00:00\",\"2021-12-28 00:00:00+00:00\",\"2021-12-29 00:00:00+00:00\",\"2021-12-30 00:00:00+00:00\",\"2021-12-31 00:00:00+00:00\",\"2022-01-01 00:00:00+00:00\",\"2022-01-02 00:00:00+00:00\",\"2022-01-03 00:00:00+00:00\",\"2022-01-04 00:00:00+00:00\",\"2022-01-05 00:00:00+00:00\",\"2022-01-06 00:00:00+00:00\",\"2022-01-07 00:00:00+00:00\",\"2022-01-08 00:00:00+00:00\",\"2022-01-09 00:00:00+00:00\",\"2022-01-10 00:00:00+00:00\",\"2022-01-11 00:00:00+00:00\",\"2022-01-12 00:00:00+00:00\",\"2022-01-13 00:00:00+00:00\",\"2022-01-14 00:00:00+00:00\",\"2022-01-15 00:00:00+00:00\",\"2022-01-16 00:00:00+00:00\",\"2022-01-17 00:00:00+00:00\",\"2022-01-18 00:00:00+00:00\",\"2022-01-19 00:00:00+00:00\",\"2022-01-20 00:00:00+00:00\",\"2022-01-21 00:00:00+00:00\",\"2022-01-22 00:00:00+00:00\",\"2022-01-23 00:00:00+00:00\",\"2022-01-24 00:00:00+00:00\",\"2022-01-25 00:00:00+00:00\",\"2022-01-26 00:00:00+00:00\",\"2022-01-27 00:00:00+00:00\",\"2022-01-28 00:00:00+00:00\",\"2022-01-29 00:00:00+00:00\",\"2022-01-30 00:00:00+00:00\",\"2022-01-31 00:00:00+00:00\",\"2022-02-01 00:00:00+00:00\",\"2022-02-02 00:00:00+00:00\",\"2022-02-03 00:00:00+00:00\",\"2022-02-04 00:00:00+00:00\",\"2022-02-05 00:00:00+00:00\",\"2022-02-06 00:00:00+00:00\",\"2022-02-07 00:00:00+00:00\",\"2022-02-08 00:00:00+00:00\",\"2022-02-09 00:00:00+00:00\",\"2022-02-10 00:00:00+00:00\",\"2022-02-11 00:00:00+00:00\",\"2022-02-12 00:00:00+00:00\",\"2022-02-13 00:00:00+00:00\",\"2022-02-14 00:00:00+00:00\",\"2022-02-15 00:00:00+00:00\",\"2022-02-16 00:00:00+00:00\",\"2022-02-17 00:00:00+00:00\",\"2022-02-18 00:00:00+00:00\",\"2022-02-19 00:00:00+00:00\",\"2022-02-20 00:00:00+00:00\",\"2022-02-21 00:00:00+00:00\",\"2022-02-22 00:00:00+00:00\",\"2022-02-23 00:00:00+00:00\",\"2022-02-24 00:00:00+00:00\",\"2022-02-25 00:00:00+00:00\",\"2022-02-26 00:00:00+00:00\",\"2022-02-27 00:00:00+00:00\",\"2022-02-28 00:00:00+00:00\",\"2022-03-01 00:00:00+00:00\",\"2022-03-02 00:00:00+00:00\",\"2022-03-03 00:00:00+00:00\",\"2022-03-04 00:00:00+00:00\",\"2022-03-05 00:00:00+00:00\",\"2022-03-06 00:00:00+00:00\",\"2022-03-07 00:00:00+00:00\",\"2022-03-08 00:00:00+00:00\",\"2022-03-09 00:00:00+00:00\",\"2022-03-10 00:00:00+00:00\",\"2022-03-11 00:00:00+00:00\",\"2022-03-12 00:00:00+00:00\",\"2022-03-13 00:00:00+00:00\",\"2022-03-14 00:00:00+00:00\",\"2022-03-15 00:00:00+00:00\",\"2022-03-16 00:00:00+00:00\",\"2022-03-17 00:00:00+00:00\",\"2022-03-18 00:00:00+00:00\",\"2022-03-19 00:00:00+00:00\",\"2022-03-20 00:00:00+00:00\",\"2022-03-21 00:00:00+00:00\",\"2022-03-22 00:00:00+00:00\",\"2022-03-23 00:00:00+00:00\",\"2022-03-24 00:00:00+00:00\",\"2022-03-25 00:00:00+00:00\",\"2022-03-26 00:00:00+00:00\",\"2022-03-27 00:00:00+00:00\",\"2022-03-28 00:00:00+00:00\",\"2022-03-29 00:00:00+00:00\",\"2022-03-30 00:00:00+00:00\",\"2022-03-31 00:00:00+00:00\",\"2022-04-01 00:00:00+00:00\",\"2022-04-02 00:00:00+00:00\",\"2022-04-03 00:00:00+00:00\",\"2022-04-04 00:00:00+00:00\",\"2022-04-05 00:00:00+00:00\",\"2022-04-06 00:00:00+00:00\",\"2022-04-07 00:00:00+00:00\",\"2022-04-08 00:00:00+00:00\",\"2022-04-09 00:00:00+00:00\",\"2022-04-10 00:00:00+00:00\",\"2022-04-11 00:00:00+00:00\",\"2022-04-12 00:00:00+00:00\",\"2022-04-13 00:00:00+00:00\",\"2022-04-14 00:00:00+00:00\",\"2022-04-15 00:00:00+00:00\",\"2022-04-16 00:00:00+00:00\",\"2022-04-17 00:00:00+00:00\",\"2022-04-18 00:00:00+00:00\",\"2022-04-19 00:00:00+00:00\",\"2022-04-20 00:00:00+00:00\",\"2022-04-21 00:00:00+00:00\",\"2022-04-22 00:00:00+00:00\",\"2022-04-23 00:00:00+00:00\",\"2022-04-24 00:00:00+00:00\",\"2022-04-25 00:00:00+00:00\",\"2022-04-26 00:00:00+00:00\",\"2022-04-27 00:00:00+00:00\",\"2022-04-28 00:00:00+00:00\",\"2022-04-29 00:00:00+00:00\",\"2022-04-30 00:00:00+00:00\",\"2022-05-01 00:00:00+00:00\",\"2022-05-02 00:00:00+00:00\",\"2022-05-03 00:00:00+00:00\",\"2022-05-04 00:00:00+00:00\",\"2022-05-05 00:00:00+00:00\",\"2022-05-06 00:00:00+00:00\",\"2022-05-07 00:00:00+00:00\",\"2022-05-08 00:00:00+00:00\",\"2022-05-09 00:00:00+00:00\",\"2022-05-10 00:00:00+00:00\",\"2022-05-11 00:00:00+00:00\",\"2022-05-12 00:00:00+00:00\",\"2022-05-13 00:00:00+00:00\",\"2022-05-14 00:00:00+00:00\",\"2022-05-15 00:00:00+00:00\",\"2022-05-16 00:00:00+00:00\",\"2022-05-17 00:00:00+00:00\",\"2022-05-18 00:00:00+00:00\",\"2022-05-19 00:00:00+00:00\",\"2022-05-20 00:00:00+00:00\",\"2022-05-21 00:00:00+00:00\",\"2022-05-22 00:00:00+00:00\",\"2022-05-23 00:00:00+00:00\",\"2022-05-24 00:00:00+00:00\",\"2022-05-25 00:00:00+00:00\",\"2022-05-26 00:00:00+00:00\",\"2022-05-27 00:00:00+00:00\",\"2022-05-28 00:00:00+00:00\",\"2022-05-29 00:00:00+00:00\",\"2022-05-30 00:00:00+00:00\",\"2022-05-31 00:00:00+00:00\",\"2022-06-01 00:00:00+00:00\",\"2022-06-02 00:00:00+00:00\",\"2022-06-03 00:00:00+00:00\",\"2022-06-04 00:00:00+00:00\",\"2022-06-05 00:00:00+00:00\",\"2022-06-06 00:00:00+00:00\",\"2022-06-07 00:00:00+00:00\",\"2022-06-08 00:00:00+00:00\",\"2022-06-09 00:00:00+00:00\",\"2022-06-10 00:00:00+00:00\",\"2022-06-11 00:00:00+00:00\",\"2022-06-12 00:00:00+00:00\",\"2022-06-13 00:00:00+00:00\",\"2022-06-14 00:00:00+00:00\",\"2022-06-15 00:00:00+00:00\",\"2022-06-16 00:00:00+00:00\",\"2022-06-17 00:00:00+00:00\",\"2022-06-18 00:00:00+00:00\",\"2022-06-19 00:00:00+00:00\",\"2022-06-20 00:00:00+00:00\",\"2022-06-21 00:00:00+00:00\",\"2022-06-22 00:00:00+00:00\",\"2022-06-23 00:00:00+00:00\",\"2022-06-24 00:00:00+00:00\",\"2022-06-25 00:00:00+00:00\",\"2022-06-26 00:00:00+00:00\",\"2022-06-27 00:00:00+00:00\",\"2022-06-28 00:00:00+00:00\",\"2022-06-29 00:00:00+00:00\",\"2022-06-30 00:00:00+00:00\",\"2022-07-01 00:00:00+00:00\",\"2022-07-02 00:00:00+00:00\",\"2022-07-03 00:00:00+00:00\",\"2022-07-04 00:00:00+00:00\",\"2022-07-05 00:00:00+00:00\",\"2022-07-06 00:00:00+00:00\",\"2022-07-07 00:00:00+00:00\",\"2022-07-08 00:00:00+00:00\",\"2022-07-09 00:00:00+00:00\",\"2022-07-10 00:00:00+00:00\",\"2022-07-11 00:00:00+00:00\",\"2022-07-12 00:00:00+00:00\",\"2022-07-13 00:00:00+00:00\",\"2022-07-14 00:00:00+00:00\",\"2022-07-15 00:00:00+00:00\",\"2022-07-16 00:00:00+00:00\",\"2022-07-17 00:00:00+00:00\",\"2022-07-18 00:00:00+00:00\",\"2022-07-19 00:00:00+00:00\",\"2022-07-20 00:00:00+00:00\",\"2022-07-21 00:00:00+00:00\",\"2022-07-22 00:00:00+00:00\",\"2022-07-23 00:00:00+00:00\",\"2022-07-24 00:00:00+00:00\",\"2022-07-25 00:00:00+00:00\",\"2022-07-26 00:00:00+00:00\",\"2022-07-27 00:00:00+00:00\",\"2022-07-28 00:00:00+00:00\",\"2022-07-29 00:00:00+00:00\",\"2022-07-30 00:00:00+00:00\",\"2022-07-31 00:00:00+00:00\",\"2022-08-01 00:00:00+00:00\",\"2022-08-02 00:00:00+00:00\",\"2022-08-03 00:00:00+00:00\",\"2022-08-04 00:00:00+00:00\",\"2022-08-05 00:00:00+00:00\",\"2022-08-06 00:00:00+00:00\",\"2022-08-07 00:00:00+00:00\",\"2022-08-08 00:00:00+00:00\",\"2022-08-09 00:00:00+00:00\",\"2022-08-10 00:00:00+00:00\",\"2022-08-11 00:00:00+00:00\",\"2022-08-12 00:00:00+00:00\",\"2022-08-13 00:00:00+00:00\",\"2022-08-14 00:00:00+00:00\",\"2022-08-15 00:00:00+00:00\",\"2022-08-16 00:00:00+00:00\",\"2022-08-17 00:00:00+00:00\",\"2022-08-18 00:00:00+00:00\",\"2022-08-19 00:00:00+00:00\",\"2022-08-20 00:00:00+00:00\",\"2022-08-21 00:00:00+00:00\",\"2022-08-22 00:00:00+00:00\",\"2022-08-23 00:00:00+00:00\",\"2022-08-24 00:00:00+00:00\",\"2022-08-25 00:00:00+00:00\",\"2022-08-26 00:00:00+00:00\",\"2022-08-27 00:00:00+00:00\",\"2022-08-28 00:00:00+00:00\",\"2022-08-29 00:00:00+00:00\",\"2022-08-30 00:00:00+00:00\",\"2022-08-31 00:00:00+00:00\",\"2022-09-01 00:00:00+00:00\",\"2022-09-02 00:00:00+00:00\",\"2022-09-03 00:00:00+00:00\",\"2022-09-04 00:00:00+00:00\",\"2022-09-05 00:00:00+00:00\",\"2022-09-06 00:00:00+00:00\",\"2022-09-07 00:00:00+00:00\",\"2022-09-08 00:00:00+00:00\",\"2022-09-09 00:00:00+00:00\",\"2022-09-10 00:00:00+00:00\",\"2022-09-11 00:00:00+00:00\",\"2022-09-12 00:00:00+00:00\",\"2022-09-13 00:00:00+00:00\",\"2022-09-14 00:00:00+00:00\",\"2022-09-15 00:00:00+00:00\",\"2022-09-16 00:00:00+00:00\",\"2022-09-17 00:00:00+00:00\",\"2022-09-18 00:00:00+00:00\",\"2022-09-19 00:00:00+00:00\",\"2022-09-20 00:00:00+00:00\",\"2022-09-21 00:00:00+00:00\"],\"y\":[45940419565.082825,36624234960.05299,33594750549.99859,42973070342.65028,30898116660.05655,30462815705.283737,30483144439.45263,29691944223.292786,30068690311.96594,30859918334.565014,42089383189.81192,29742127387.956062,26034594561.96341,32691763060.319107,35480330025.02791,48462388015.80152,36549815857.28183,33935485256.826164,31927344846.44677,38579271671.06987,41913482915.37917,40021384610.698265,41216945749.34656,35994603913.188385,53653355008.40819,35385452268.77726,29625957541.677635,39610183787.23528,42550624869.2941,40790757381.60165,48709960685.53348,40766460604.96904,28505039147.788773,29982535557.40278,30852852368.02752,33233702858.09473,43976252157.06864,52318597556.794624,38648967244.95182,31810216329.529858,32494948460.791386,35834742028.38199,37335066460.15533,36561444796.93016,33152275947.43255,31182137447.967438,31423601393.173405,24877902989.784374,105426313891.40912,41207912437.79217,48648563669.37678,35457583783.213585,36872626217.74136,29677693457.31651,26088449436.717117,32107212452.29841,48978396010.96816,39200729529.48786,41828523861.71753,37851259606.14217,29676550711.713173,25743426946.96193,34001467918.52828,36421192856.53637,31695369987.85105,33721097081.419792,41325811946.27098,28256851067.70268,27659464986.73885,30985196646.76598,35723038603.83064,49383073891.00049,36296342256.75686,39527112725.92275,55941408415.03649,32826574574.44167,36126018721.82655,30083305919.5604,26590164539.05959,27269362515.24688,29611257204.740986,24619129766.774235,19871029748.355583,29628245402.12413,30152105689.95273,33782603071.208717,24699414443.565502,30617760444.44956,23305069269.64378,23002876885.701263,29356191956.18185,25764127608.31085,21887790445.92829,26419703744.656948,22535489970.197155,17235296605.82555,19632044502.131416,22793878136.833546,29538983233.48695,26348739119.378136,23753871435.216618,25895349604.886154,18904585811.03402,33756128241.98571,21890019531.577717,24895990583.66324,31837641246.01787,26366602396.811768,79685254648.07628,23337017232.770664,18016718173.60861,27984634062.049946,22813557397.82151,28250302540.221024,43905745871.29279,20238314434.86153,14651008624.734596,14452346388.550371,17694929625.845875,18897950050.285973,19626113309.554146,20930163211.171124,38296960033.31628,35517336417.257744,22865032968.608204,36385158448.60688,46168918584.85349,26756873749.744743,22057410457.280827,19214103304.052933,14178650231.62196,11807185113.633108,17731563487.283978,17109120250.158989,16709908527.231106,16136299994.837618,25347215343.882504,16752051696.248552,13206494654.908049,24171856714.47576,29024977264.932137,19780565063.098923,27877618433.98099,23279080009.72499,15479727288.782782,12146423251.39967,18090873762.822777,19801081788.55576,16847003857.433496,22270664615.4777,20130002755.177864,11735183838.17719,15998424231.017672,25174914104.16337,22212181617.200245,18507851467.85067,40839699480.89129,22579249141.515377,14568201294.74542,19424397945.6196,30634280854.538326,27880763034.093918,25615956856.40275,22366184128.90048,25121267305.979286,14818212144.749968,16995562040.606796,24596395439.058964,22556397749.428085,29211702119.448605,27653455219.04128,23624165274.522385,12440826653.84724,14461647575.513742,21250969229.2216,20768829817.93864,34974203468.766266,18861644942.593346,30316128166.48974,16580741571.959858,16856192301.960054,21335882483.3158,28688623151.357098,21851891598.642384,26212783703.864426,26147756108.07925,13676534294.229202,22545392529.67392,30051327357.066643,26128040680.825665,24497248306.346912,27736469645.537266,32948605532.13528,24803837259.76474,21510196790.30345,28019309650.72574,25474063861.60569,34113818641.77575,22960138784.304127,24202906401.166885,13949535311.5313,14936318818.778025,30168665078.21043,27804694935.48352,25453869985.97185,22744792147.00975,22053774554.17729,15777789210.238447,16627779441.567648,30617039399.980103,22717772925.289574,24937668255.073463,32131220615.550182,46022063018.95215,15010797471.968073,16778683767.597218,32883645913.96472,31053018153.386677,28170490245.865635,31484572271.03238,27758348826.409065,20955789685.35568,24857664487.014507,29825308569.42226,23070122642.32804,31748901527.20592,37402043365.58407,32223287014.454,19130720394.98043,30810576501.52256,58369928594.32748,54071363210.08785,65985702701.50493,61338080283.57989,71541696924.39926,25759546763.688618,22948123704.172672,28418179221.125336,24964703223.57502,26219431165.241817,29190056577.430664,25980877919.56809,13561006428.368963,17199930154.801018,26646754324.71057,23486436836.56051,23108764916.2066,31972044691.709656,31756305901.00553,15406515372.711676,14496111397.934437,34891305294.623,29770567353.488136,35553330791.53566,24232399986.261147,21997859590.66833,12911383481.843807,13395229055.412352,27644798123.298183,36111325508.04181,27080284928.564884,18871591862.340336,25663085729.428837,22518366769.83909,29834061115.62461,64852526179.38284,47639470967.89143,52027211446.51121,27449277945.59262,24232922585.24016,38920632524.1614,32488136325.883087,28346447996.779846,25340643362.789,24955466738.11085,23655104386.97852,21955656695.74872,16152442749.306295,15392697878.417652,17719011287.9831,18161209601.432373,20744333507.35517,22816515394.911003,28756781114.699898,15601715000.679424,13976969844.33244,18634860046.37241,23623270105.54542,21755499642.28282,21927087503.43376,46645398900.96298,26211587451.783283,25037950754.00336,21319467248.801025,22074971578.2899,28560004360.90292,28732413536.669937,46542248374.33238,42051101694.797554,29615794461.49923,58636734705.48306,57338223361.51413,40775718993.79776,63224249257.51128,40304373301.41499,42519262113.1533,33108916659.05373,42667548128.93224,53995620035.18145,54498281944.45157,55609627980.6571,41089335195.63975,62102072346.807785,31786729326.443203,44489771146.510735,35151096516.75639,41334593234.075066,23624874220.429745,27040190909.828075,14439694271.14074,14324042469.270954,27756736787.028625,29738069337.77638,32215976525.650154,33892871243.716595,25195193357.103275,22240559959.52209,21287616855.70449,33404812507.80541,24971300201.368164,29567403252.00121,20228208349.156567,35142410593.122185,23809679190.922188,20476237108.35153,28856912427.17573,29331102121.79332,26855905243.36116,26767966536.315014,34910727805.04114,24463219414.743477,19781826309.451183,28706315246.140064,30308993725.45616,27825786159.8556,25616737335.88055,24078042298.340076,20048153187.39969,21537524477.36904,23522961655.00036,39940310406.47586,30517907004.082462,28936941008.35892,42487059054.97593,35941349745.24438,31266252145.35619,44006486689.44507,46489890914.82466,35789015870.392235,33715957206.68328,30187737709.58007,23394494073.784782,28689764413.699097,39507938864.87854,33890591849.676517],\"type\":\"scatter\"}],                        {\"legend\":{\"bgcolor\":\"#F5F6F9\",\"font\":{\"color\":\"#4D5663\"}},\"paper_bgcolor\":\"#F5F6F9\",\"plot_bgcolor\":\"#F5F6F9\",\"template\":{\"data\":{\"barpolar\":[{\"marker\":{\"line\":{\"color\":\"#E5ECF6\",\"width\":0.5},\"pattern\":{\"fillmode\":\"overlay\",\"size\":10,\"solidity\":0.2}},\"type\":\"barpolar\"}],\"bar\":[{\"error_x\":{\"color\":\"#2a3f5f\"},\"error_y\":{\"color\":\"#2a3f5f\"},\"marker\":{\"line\":{\"color\":\"#E5ECF6\",\"width\":0.5},\"pattern\":{\"fillmode\":\"overlay\",\"size\":10,\"solidity\":0.2}},\"type\":\"bar\"}],\"carpet\":[{\"aaxis\":{\"endlinecolor\":\"#2a3f5f\",\"gridcolor\":\"white\",\"linecolor\":\"white\",\"minorgridcolor\":\"white\",\"startlinecolor\":\"#2a3f5f\"},\"baxis\":{\"endlinecolor\":\"#2a3f5f\",\"gridcolor\":\"white\",\"linecolor\":\"white\",\"minorgridcolor\":\"white\",\"startlinecolor\":\"#2a3f5f\"},\"type\":\"carpet\"}],\"choropleth\":[{\"colorbar\":{\"outlinewidth\":0,\"ticks\":\"\"},\"type\":\"choropleth\"}],\"contourcarpet\":[{\"colorbar\":{\"outlinewidth\":0,\"ticks\":\"\"},\"type\":\"contourcarpet\"}],\"contour\":[{\"colorbar\":{\"outlinewidth\":0,\"ticks\":\"\"},\"colorscale\":[[0.0,\"#0d0887\"],[0.1111111111111111,\"#46039f\"],[0.2222222222222222,\"#7201a8\"],[0.3333333333333333,\"#9c179e\"],[0.4444444444444444,\"#bd3786\"],[0.5555555555555556,\"#d8576b\"],[0.6666666666666666,\"#ed7953\"],[0.7777777777777778,\"#fb9f3a\"],[0.8888888888888888,\"#fdca26\"],[1.0,\"#f0f921\"]],\"type\":\"contour\"}],\"heatmapgl\":[{\"colorbar\":{\"outlinewidth\":0,\"ticks\":\"\"},\"colorscale\":[[0.0,\"#0d0887\"],[0.1111111111111111,\"#46039f\"],[0.2222222222222222,\"#7201a8\"],[0.3333333333333333,\"#9c179e\"],[0.4444444444444444,\"#bd3786\"],[0.5555555555555556,\"#d8576b\"],[0.6666666666666666,\"#ed7953\"],[0.7777777777777778,\"#fb9f3a\"],[0.8888888888888888,\"#fdca26\"],[1.0,\"#f0f921\"]],\"type\":\"heatmapgl\"}],\"heatmap\":[{\"colorbar\":{\"outlinewidth\":0,\"ticks\":\"\"},\"colorscale\":[[0.0,\"#0d0887\"],[0.1111111111111111,\"#46039f\"],[0.2222222222222222,\"#7201a8\"],[0.3333333333333333,\"#9c179e\"],[0.4444444444444444,\"#bd3786\"],[0.5555555555555556,\"#d8576b\"],[0.6666666666666666,\"#ed7953\"],[0.7777777777777778,\"#fb9f3a\"],[0.8888888888888888,\"#fdca26\"],[1.0,\"#f0f921\"]],\"type\":\"heatmap\"}],\"histogram2dcontour\":[{\"colorbar\":{\"outlinewidth\":0,\"ticks\":\"\"},\"colorscale\":[[0.0,\"#0d0887\"],[0.1111111111111111,\"#46039f\"],[0.2222222222222222,\"#7201a8\"],[0.3333333333333333,\"#9c179e\"],[0.4444444444444444,\"#bd3786\"],[0.5555555555555556,\"#d8576b\"],[0.6666666666666666,\"#ed7953\"],[0.7777777777777778,\"#fb9f3a\"],[0.8888888888888888,\"#fdca26\"],[1.0,\"#f0f921\"]],\"type\":\"histogram2dcontour\"}],\"histogram2d\":[{\"colorbar\":{\"outlinewidth\":0,\"ticks\":\"\"},\"colorscale\":[[0.0,\"#0d0887\"],[0.1111111111111111,\"#46039f\"],[0.2222222222222222,\"#7201a8\"],[0.3333333333333333,\"#9c179e\"],[0.4444444444444444,\"#bd3786\"],[0.5555555555555556,\"#d8576b\"],[0.6666666666666666,\"#ed7953\"],[0.7777777777777778,\"#fb9f3a\"],[0.8888888888888888,\"#fdca26\"],[1.0,\"#f0f921\"]],\"type\":\"histogram2d\"}],\"histogram\":[{\"marker\":{\"pattern\":{\"fillmode\":\"overlay\",\"size\":10,\"solidity\":0.2}},\"type\":\"histogram\"}],\"mesh3d\":[{\"colorbar\":{\"outlinewidth\":0,\"ticks\":\"\"},\"type\":\"mesh3d\"}],\"parcoords\":[{\"line\":{\"colorbar\":{\"outlinewidth\":0,\"ticks\":\"\"}},\"type\":\"parcoords\"}],\"pie\":[{\"automargin\":true,\"type\":\"pie\"}],\"scatter3d\":[{\"line\":{\"colorbar\":{\"outlinewidth\":0,\"ticks\":\"\"}},\"marker\":{\"colorbar\":{\"outlinewidth\":0,\"ticks\":\"\"}},\"type\":\"scatter3d\"}],\"scattercarpet\":[{\"marker\":{\"colorbar\":{\"outlinewidth\":0,\"ticks\":\"\"}},\"type\":\"scattercarpet\"}],\"scattergeo\":[{\"marker\":{\"colorbar\":{\"outlinewidth\":0,\"ticks\":\"\"}},\"type\":\"scattergeo\"}],\"scattergl\":[{\"marker\":{\"colorbar\":{\"outlinewidth\":0,\"ticks\":\"\"}},\"type\":\"scattergl\"}],\"scattermapbox\":[{\"marker\":{\"colorbar\":{\"outlinewidth\":0,\"ticks\":\"\"}},\"type\":\"scattermapbox\"}],\"scatterpolargl\":[{\"marker\":{\"colorbar\":{\"outlinewidth\":0,\"ticks\":\"\"}},\"type\":\"scatterpolargl\"}],\"scatterpolar\":[{\"marker\":{\"colorbar\":{\"outlinewidth\":0,\"ticks\":\"\"}},\"type\":\"scatterpolar\"}],\"scatter\":[{\"fillpattern\":{\"fillmode\":\"overlay\",\"size\":10,\"solidity\":0.2},\"type\":\"scatter\"}],\"scatterternary\":[{\"marker\":{\"colorbar\":{\"outlinewidth\":0,\"ticks\":\"\"}},\"type\":\"scatterternary\"}],\"surface\":[{\"colorbar\":{\"outlinewidth\":0,\"ticks\":\"\"},\"colorscale\":[[0.0,\"#0d0887\"],[0.1111111111111111,\"#46039f\"],[0.2222222222222222,\"#7201a8\"],[0.3333333333333333,\"#9c179e\"],[0.4444444444444444,\"#bd3786\"],[0.5555555555555556,\"#d8576b\"],[0.6666666666666666,\"#ed7953\"],[0.7777777777777778,\"#fb9f3a\"],[0.8888888888888888,\"#fdca26\"],[1.0,\"#f0f921\"]],\"type\":\"surface\"}],\"table\":[{\"cells\":{\"fill\":{\"color\":\"#EBF0F8\"},\"line\":{\"color\":\"white\"}},\"header\":{\"fill\":{\"color\":\"#C8D4E3\"},\"line\":{\"color\":\"white\"}},\"type\":\"table\"}]},\"layout\":{\"annotationdefaults\":{\"arrowcolor\":\"#2a3f5f\",\"arrowhead\":0,\"arrowwidth\":1},\"autotypenumbers\":\"strict\",\"coloraxis\":{\"colorbar\":{\"outlinewidth\":0,\"ticks\":\"\"}},\"colorscale\":{\"diverging\":[[0,\"#8e0152\"],[0.1,\"#c51b7d\"],[0.2,\"#de77ae\"],[0.3,\"#f1b6da\"],[0.4,\"#fde0ef\"],[0.5,\"#f7f7f7\"],[0.6,\"#e6f5d0\"],[0.7,\"#b8e186\"],[0.8,\"#7fbc41\"],[0.9,\"#4d9221\"],[1,\"#276419\"]],\"sequential\":[[0.0,\"#0d0887\"],[0.1111111111111111,\"#46039f\"],[0.2222222222222222,\"#7201a8\"],[0.3333333333333333,\"#9c179e\"],[0.4444444444444444,\"#bd3786\"],[0.5555555555555556,\"#d8576b\"],[0.6666666666666666,\"#ed7953\"],[0.7777777777777778,\"#fb9f3a\"],[0.8888888888888888,\"#fdca26\"],[1.0,\"#f0f921\"]],\"sequentialminus\":[[0.0,\"#0d0887\"],[0.1111111111111111,\"#46039f\"],[0.2222222222222222,\"#7201a8\"],[0.3333333333333333,\"#9c179e\"],[0.4444444444444444,\"#bd3786\"],[0.5555555555555556,\"#d8576b\"],[0.6666666666666666,\"#ed7953\"],[0.7777777777777778,\"#fb9f3a\"],[0.8888888888888888,\"#fdca26\"],[1.0,\"#f0f921\"]]},\"colorway\":[\"#636efa\",\"#EF553B\",\"#00cc96\",\"#ab63fa\",\"#FFA15A\",\"#19d3f3\",\"#FF6692\",\"#B6E880\",\"#FF97FF\",\"#FECB52\"],\"font\":{\"color\":\"#2a3f5f\"},\"geo\":{\"bgcolor\":\"white\",\"lakecolor\":\"white\",\"landcolor\":\"#E5ECF6\",\"showlakes\":true,\"showland\":true,\"subunitcolor\":\"white\"},\"hoverlabel\":{\"align\":\"left\"},\"hovermode\":\"closest\",\"mapbox\":{\"style\":\"light\"},\"paper_bgcolor\":\"white\",\"plot_bgcolor\":\"#E5ECF6\",\"polar\":{\"angularaxis\":{\"gridcolor\":\"white\",\"linecolor\":\"white\",\"ticks\":\"\"},\"bgcolor\":\"#E5ECF6\",\"radialaxis\":{\"gridcolor\":\"white\",\"linecolor\":\"white\",\"ticks\":\"\"}},\"scene\":{\"xaxis\":{\"backgroundcolor\":\"#E5ECF6\",\"gridcolor\":\"white\",\"gridwidth\":2,\"linecolor\":\"white\",\"showbackground\":true,\"ticks\":\"\",\"zerolinecolor\":\"white\"},\"yaxis\":{\"backgroundcolor\":\"#E5ECF6\",\"gridcolor\":\"white\",\"gridwidth\":2,\"linecolor\":\"white\",\"showbackground\":true,\"ticks\":\"\",\"zerolinecolor\":\"white\"},\"zaxis\":{\"backgroundcolor\":\"#E5ECF6\",\"gridcolor\":\"white\",\"gridwidth\":2,\"linecolor\":\"white\",\"showbackground\":true,\"ticks\":\"\",\"zerolinecolor\":\"white\"}},\"shapedefaults\":{\"line\":{\"color\":\"#2a3f5f\"}},\"ternary\":{\"aaxis\":{\"gridcolor\":\"white\",\"linecolor\":\"white\",\"ticks\":\"\"},\"baxis\":{\"gridcolor\":\"white\",\"linecolor\":\"white\",\"ticks\":\"\"},\"bgcolor\":\"#E5ECF6\",\"caxis\":{\"gridcolor\":\"white\",\"linecolor\":\"white\",\"ticks\":\"\"}},\"title\":{\"x\":0.05},\"xaxis\":{\"automargin\":true,\"gridcolor\":\"white\",\"linecolor\":\"white\",\"ticks\":\"\",\"title\":{\"standoff\":15},\"zerolinecolor\":\"white\",\"zerolinewidth\":2},\"yaxis\":{\"automargin\":true,\"gridcolor\":\"white\",\"linecolor\":\"white\",\"ticks\":\"\",\"title\":{\"standoff\":15},\"zerolinecolor\":\"white\",\"zerolinewidth\":2}}},\"title\":{\"font\":{\"color\":\"#4D5663\"}},\"xaxis\":{\"gridcolor\":\"#E1E5ED\",\"showgrid\":true,\"tickfont\":{\"color\":\"#4D5663\"},\"title\":{\"font\":{\"color\":\"#4D5663\"},\"text\":\"\"},\"zerolinecolor\":\"#E1E5ED\"},\"yaxis\":{\"gridcolor\":\"#E1E5ED\",\"showgrid\":true,\"tickfont\":{\"color\":\"#4D5663\"},\"title\":{\"font\":{\"color\":\"#4D5663\"},\"text\":\"\"},\"zerolinecolor\":\"#E1E5ED\"}},                        {\"showLink\": true, \"linkText\": \"Export to plot.ly\", \"plotlyServerURL\": \"https://plot.ly\", \"responsive\": true}                    ).then(function(){\n",
       "                            \n",
       "var gd = document.getElementById('c214be68-66f9-4350-9915-8d2482f9d29d');\n",
       "var x = new MutationObserver(function (mutations, observer) {{\n",
       "        var display = window.getComputedStyle(gd).display;\n",
       "        if (!display || display === 'none') {{\n",
       "            console.log([gd, 'removed!']);\n",
       "            Plotly.purge(gd);\n",
       "            observer.disconnect();\n",
       "        }}\n",
       "}});\n",
       "\n",
       "// Listen for the removal of the full notebook cells\n",
       "var notebookContainer = gd.closest('#notebook-container');\n",
       "if (notebookContainer) {{\n",
       "    x.observe(notebookContainer, {childList: true});\n",
       "}}\n",
       "\n",
       "// Listen for the clearing of the current output cell\n",
       "var outputEl = gd.closest('.output');\n",
       "if (outputEl) {{\n",
       "    x.observe(outputEl, {childList: true});\n",
       "}}\n",
       "\n",
       "                        })                };                });            </script>        </div>"
      ]
     },
     "metadata": {},
     "output_type": "display_data"
    }
   ],
   "source": [
    "df['price'].iloc[-365:].iplot();\n",
    "df['total_volume'].iloc[-365:].iplot();"
   ]
  },
  {
   "cell_type": "code",
   "execution_count": 20,
   "id": "f73a3de0",
   "metadata": {},
   "outputs": [
    {
     "data": {
      "image/png": "[encoded data removed]",
      "text/plain": [
       "<Figure size 936x360 with 1 Axes>"
      ]
     },
     "metadata": {
      "needs_background": "light"
     },
     "output_type": "display_data"
    }
   ],
   "source": [
    "df['total_volume'].plot(figsize=(13,5));"
   ]
  },
  {
   "cell_type": "code",
   "execution_count": 39,
   "id": "c52be6bc",
   "metadata": {},
   "outputs": [
    {
     "data": {
      "application/vnd.plotly.v1+json": {
       "config": {
        "linkText": "Export to plot.ly",
        "plotlyServerURL": "https://plot.ly",
        "showLink": true
       },
       "data": [
        {
         "line": {
          "color": "rgba(255, 153, 51, 1.0)",
          "dash": "solid",
          "shape": "linear",
          "width": 1.3
         },
         "mode": "lines",
         "name": "price",
         "text": "",
         "type": "scatter",
         "x": [
          "2022-04-25 00:00:00+00:00",
          "2022-04-26 00:00:00+00:00",
          "2022-04-27 00:00:00+00:00",
          "2022-04-28 00:00:00+00:00",
          "2022-04-29 00:00:00+00:00",
          "2022-04-30 00:00:00+00:00",
          "2022-05-01 00:00:00+00:00",
          "2022-05-02 00:00:00+00:00",
          "2022-05-03 00:00:00+00:00",
          "2022-05-04 00:00:00+00:00",
          "2022-05-05 00:00:00+00:00",
          "2022-05-06 00:00:00+00:00",
          "2022-05-07 00:00:00+00:00",
          "2022-05-08 00:00:00+00:00",
          "2022-05-09 00:00:00+00:00",
          "2022-05-10 00:00:00+00:00",
          "2022-05-11 00:00:00+00:00",
          "2022-05-12 00:00:00+00:00",
          "2022-05-13 00:00:00+00:00",
          "2022-05-14 00:00:00+00:00",
          "2022-05-15 00:00:00+00:00",
          "2022-05-16 00:00:00+00:00",
          "2022-05-17 00:00:00+00:00",
          "2022-05-18 00:00:00+00:00",
          "2022-05-19 00:00:00+00:00",
          "2022-05-20 00:00:00+00:00",
          "2022-05-21 00:00:00+00:00",
          "2022-05-22 00:00:00+00:00",
          "2022-05-23 00:00:00+00:00",
          "2022-05-24 00:00:00+00:00",
          "2022-05-25 00:00:00+00:00",
          "2022-05-26 00:00:00+00:00",
          "2022-05-27 00:00:00+00:00",
          "2022-05-28 00:00:00+00:00",
          "2022-05-29 00:00:00+00:00",
          "2022-05-30 00:00:00+00:00",
          "2022-05-31 00:00:00+00:00",
          "2022-06-01 00:00:00+00:00",
          "2022-06-02 00:00:00+00:00",
          "2022-06-03 00:00:00+00:00",
          "2022-06-04 00:00:00+00:00",
          "2022-06-05 00:00:00+00:00",
          "2022-06-06 00:00:00+00:00",
          "2022-06-07 00:00:00+00:00",
          "2022-06-08 00:00:00+00:00",
          "2022-06-09 00:00:00+00:00",
          "2022-06-10 00:00:00+00:00",
          "2022-06-11 00:00:00+00:00",
          "2022-06-12 00:00:00+00:00",
          "2022-06-13 00:00:00+00:00",
          "2022-06-14 00:00:00+00:00",
          "2022-06-15 00:00:00+00:00",
          "2022-06-16 00:00:00+00:00",
          "2022-06-17 00:00:00+00:00",
          "2022-06-18 00:00:00+00:00",
          "2022-06-19 00:00:00+00:00",
          "2022-06-20 00:00:00+00:00",
          "2022-06-21 00:00:00+00:00",
          "2022-06-22 00:00:00+00:00",
          "2022-06-23 00:00:00+00:00",
          "2022-06-24 00:00:00+00:00",
          "2022-06-25 00:00:00+00:00",
          "2022-06-26 00:00:00+00:00",
          "2022-06-27 00:00:00+00:00",
          "2022-06-28 00:00:00+00:00",
          "2022-06-29 00:00:00+00:00",
          "2022-06-30 00:00:00+00:00",
          "2022-07-01 00:00:00+00:00",
          "2022-07-02 00:00:00+00:00",
          "2022-07-03 00:00:00+00:00",
          "2022-07-04 00:00:00+00:00",
          "2022-07-05 00:00:00+00:00",
          "2022-07-06 00:00:00+00:00",
          "2022-07-07 00:00:00+00:00",
          "2022-07-08 00:00:00+00:00",
          "2022-07-09 00:00:00+00:00",
          "2022-07-10 00:00:00+00:00",
          "2022-07-11 00:00:00+00:00",
          "2022-07-12 00:00:00+00:00",
          "2022-07-13 00:00:00+00:00",
          "2022-07-14 00:00:00+00:00",
          "2022-07-15 00:00:00+00:00",
          "2022-07-16 00:00:00+00:00",
          "2022-07-17 00:00:00+00:00",
          "2022-07-18 00:00:00+00:00",
          "2022-07-19 00:00:00+00:00",
          "2022-07-20 00:00:00+00:00",
          "2022-07-21 00:00:00+00:00",
          "2022-07-22 00:00:00+00:00",
          "2022-07-23 00:00:00+00:00",
          "2022-07-24 00:00:00+00:00",
          "2022-07-25 00:00:00+00:00",
          "2022-07-26 00:00:00+00:00",
          "2022-07-27 00:00:00+00:00",
          "2022-07-28 00:00:00+00:00",
          "2022-07-29 00:00:00+00:00",
          "2022-07-30 00:00:00+00:00",
          "2022-07-31 00:00:00+00:00",
          "2022-08-01 00:00:00+00:00",
          "2022-08-02 00:00:00+00:00",
          "2022-08-03 00:00:00+00:00",
          "2022-08-04 00:00:00+00:00",
          "2022-08-05 00:00:00+00:00",
          "2022-08-06 00:00:00+00:00",
          "2022-08-07 00:00:00+00:00",
          "2022-08-08 00:00:00+00:00",
          "2022-08-09 00:00:00+00:00",
          "2022-08-10 00:00:00+00:00",
          "2022-08-11 00:00:00+00:00",
          "2022-08-12 00:00:00+00:00",
          "2022-08-13 00:00:00+00:00",
          "2022-08-14 00:00:00+00:00",
          "2022-08-15 00:00:00+00:00",
          "2022-08-16 00:00:00+00:00",
          "2022-08-17 00:00:00+00:00",
          "2022-08-18 00:00:00+00:00",
          "2022-08-19 00:00:00+00:00",
          "2022-08-20 00:00:00+00:00",
          "2022-08-21 00:00:00+00:00",
          "2022-08-22 00:00:00+00:00",
          "2022-08-23 00:00:00+00:00",
          "2022-08-24 00:00:00+00:00",
          "2022-08-25 00:00:00+00:00",
          "2022-08-26 00:00:00+00:00",
          "2022-08-27 00:00:00+00:00",
          "2022-08-28 00:00:00+00:00",
          "2022-08-29 00:00:00+00:00",
          "2022-08-30 00:00:00+00:00",
          "2022-08-31 00:00:00+00:00",
          "2022-09-01 00:00:00+00:00",
          "2022-09-02 00:00:00+00:00",
          "2022-09-03 00:00:00+00:00",
          "2022-09-04 00:00:00+00:00",
          "2022-09-05 00:00:00+00:00",
          "2022-09-06 00:00:00+00:00",
          "2022-09-07 00:00:00+00:00",
          "2022-09-08 00:00:00+00:00",
          "2022-09-09 00:00:00+00:00",
          "2022-09-10 00:00:00+00:00",
          "2022-09-11 00:00:00+00:00",
          "2022-09-12 00:00:00+00:00",
          "2022-09-13 00:00:00+00:00",
          "2022-09-14 00:00:00+00:00",
          "2022-09-15 00:00:00+00:00",
          "2022-09-16 00:00:00+00:00",
          "2022-09-17 00:00:00+00:00",
          "2022-09-18 00:00:00+00:00",
          "2022-09-19 00:00:00+00:00",
          "2022-09-20 00:00:00+00:00",
          "2022-09-21 00:00:00+00:00"
         ],
         "y": [
          39469.04986198146,
          40488.877917622376,
          38134.21545068938,
          39237.94931747103,
          39741.76664580964,
          38650.55013809267,
          37820.61176529208,
          38537.65476669535,
          38561.56539902362,
          37758.496107734,
          39699.02404125388,
          36612.22954880304,
          36116.394294982965,
          35573.31019883488,
          34070.31219757961,
          30269.58695662948,
          31026.93386836242,
          28913.48836365432,
          29126.11597686014,
          29310.728959858257,
          30189.333177005963,
          31319.30911113,
          29923.606993639707,
          30502.19328027689,
          28772.200501112577,
          30382.40624219559,
          29256.81337441625,
          29491.5079477606,
          30351.050417138096,
          29163.167775739188,
          29655.02613175249,
          29584.949851985926,
          29346.781442431617,
          28646.65218193245,
          29088.236452817226,
          29492.50321495364,
          31740.94072516695,
          31865.749621173167,
          29833.45033020525,
          30481.013996026013,
          29714.143487149733,
          29872.3603087139,
          29917.7640524562,
          31372.5847629755,
          31265.469277693348,
          30229.236836130374,
          30101.187521431468,
          29101.2982596468,
          28374.14499732395,
          26767.269173221317,
          22525.7683503912,
          22244.848968001315,
          22529.198114649807,
          20408.690490591813,
          20473.05288079512,
          19047.41782828195,
          20516.41197977524,
          20636.75891240637,
          20700.923933039136,
          19983.566482863105,
          21100.270533511088,
          21262.71348295613,
          21525.88036221139,
          21052.80539783573,
          20751.47753079077,
          20282.54247926969,
          20108.529472889782,
          19608.397493423083,
          19407.447430262477,
          19268.227002666128,
          19310.233218521837,
          20257.01232859288,
          20188.779663973284,
          20566.68722377,
          21660.596837075183,
          21858.818749217564,
          21589.628101459668,
          20859.81407965063,
          19998.46783957584,
          19350.73735007727,
          20225.23866433186,
          20574.84059150044,
          20794.811981436706,
          21193.08334336837,
          20824.36275165164,
          22395.365383103952,
          23366.90769792785,
          23313.296731959555,
          23155.207555248304,
          22696.90275429005,
          22506.199573628983,
          22613.71920824845,
          21330.295450788173,
          21235.61231608577,
          22908.884260468687,
          23822.06759782312,
          23847.58331873861,
          23653.4595494308,
          23379.70052509082,
          23333.749243312184,
          23053.84684748268,
          22860.42098438317,
          22678.363633874185,
          23225.036201942938,
          22984.57953144855,
          23197.603469525384,
          23823.67944245361,
          23203.680696781623,
          23948.829553271637,
          23948.75170368143,
          24411.37987152261,
          24433.653747243658,
          24312.54142489156,
          24179.0146523092,
          23913.333725628458,
          23359.418837070007,
          23248.38422819264,
          20945.8339660496,
          21175.232732989512,
          21615.761693416986,
          21387.747114773963,
          21562.45153991356,
          21395.45846975991,
          21618.009019176647,
          20271.322951706014,
          20069.9533315962,
          19659.24670619362,
          20308.861447891457,
          19805.35069885804,
          20023.55444491251,
          20153.975977982507,
          19941.45137004716,
          19814.5642451146,
          19980.01322224228,
          19785.73350185514,
          18859.50008768028,
          19280.62547645678,
          19322.77774937157,
          21359.58252557909,
          21707.38731931814,
          21739.80437979554,
          22339.67050262336,
          20184.96749189655,
          20255.922978327133,
          19702.16988981172,
          19764.411712043777,
          20131.675305714027,
          19437.157867982634,
          19570.386709523507,
          18869.92880939053
         ]
        },
        {
         "line": {
          "color": "rgba(55, 128, 191, 1.0)",
          "dash": "solid",
          "shape": "linear",
          "width": 1.3
         },
         "mode": "lines",
         "name": "total_volume",
         "text": "",
         "type": "scatter",
         "x": [
          "2022-04-25 00:00:00+00:00",
          "2022-04-26 00:00:00+00:00",
          "2022-04-27 00:00:00+00:00",
          "2022-04-28 00:00:00+00:00",
          "2022-04-29 00:00:00+00:00",
          "2022-04-30 00:00:00+00:00",
          "2022-05-01 00:00:00+00:00",
          "2022-05-02 00:00:00+00:00",
          "2022-05-03 00:00:00+00:00",
          "2022-05-04 00:00:00+00:00",
          "2022-05-05 00:00:00+00:00",
          "2022-05-06 00:00:00+00:00",
          "2022-05-07 00:00:00+00:00",
          "2022-05-08 00:00:00+00:00",
          "2022-05-09 00:00:00+00:00",
          "2022-05-10 00:00:00+00:00",
          "2022-05-11 00:00:00+00:00",
          "2022-05-12 00:00:00+00:00",
          "2022-05-13 00:00:00+00:00",
          "2022-05-14 00:00:00+00:00",
          "2022-05-15 00:00:00+00:00",
          "2022-05-16 00:00:00+00:00",
          "2022-05-17 00:00:00+00:00",
          "2022-05-18 00:00:00+00:00",
          "2022-05-19 00:00:00+00:00",
          "2022-05-20 00:00:00+00:00",
          "2022-05-21 00:00:00+00:00",
          "2022-05-22 00:00:00+00:00",
          "2022-05-23 00:00:00+00:00",
          "2022-05-24 00:00:00+00:00",
          "2022-05-25 00:00:00+00:00",
          "2022-05-26 00:00:00+00:00",
          "2022-05-27 00:00:00+00:00",
          "2022-05-28 00:00:00+00:00",
          "2022-05-29 00:00:00+00:00",
          "2022-05-30 00:00:00+00:00",
          "2022-05-31 00:00:00+00:00",
          "2022-06-01 00:00:00+00:00",
          "2022-06-02 00:00:00+00:00",
          "2022-06-03 00:00:00+00:00",
          "2022-06-04 00:00:00+00:00",
          "2022-06-05 00:00:00+00:00",
          "2022-06-06 00:00:00+00:00",
          "2022-06-07 00:00:00+00:00",
          "2022-06-08 00:00:00+00:00",
          "2022-06-09 00:00:00+00:00",
          "2022-06-10 00:00:00+00:00",
          "2022-06-11 00:00:00+00:00",
          "2022-06-12 00:00:00+00:00",
          "2022-06-13 00:00:00+00:00",
          "2022-06-14 00:00:00+00:00",
          "2022-06-15 00:00:00+00:00",
          "2022-06-16 00:00:00+00:00",
          "2022-06-17 00:00:00+00:00",
          "2022-06-18 00:00:00+00:00",
          "2022-06-19 00:00:00+00:00",
          "2022-06-20 00:00:00+00:00",
          "2022-06-21 00:00:00+00:00",
          "2022-06-22 00:00:00+00:00",
          "2022-06-23 00:00:00+00:00",
          "2022-06-24 00:00:00+00:00",
          "2022-06-25 00:00:00+00:00",
          "2022-06-26 00:00:00+00:00",
          "2022-06-27 00:00:00+00:00",
          "2022-06-28 00:00:00+00:00",
          "2022-06-29 00:00:00+00:00",
          "2022-06-30 00:00:00+00:00",
          "2022-07-01 00:00:00+00:00",
          "2022-07-02 00:00:00+00:00",
          "2022-07-03 00:00:00+00:00",
          "2022-07-04 00:00:00+00:00",
          "2022-07-05 00:00:00+00:00",
          "2022-07-06 00:00:00+00:00",
          "2022-07-07 00:00:00+00:00",
          "2022-07-08 00:00:00+00:00",
          "2022-07-09 00:00:00+00:00",
          "2022-07-10 00:00:00+00:00",
          "2022-07-11 00:00:00+00:00",
          "2022-07-12 00:00:00+00:00",
          "2022-07-13 00:00:00+00:00",
          "2022-07-14 00:00:00+00:00",
          "2022-07-15 00:00:00+00:00",
          "2022-07-16 00:00:00+00:00",
          "2022-07-17 00:00:00+00:00",
          "2022-07-18 00:00:00+00:00",
          "2022-07-19 00:00:00+00:00",
          "2022-07-20 00:00:00+00:00",
          "2022-07-21 00:00:00+00:00",
          "2022-07-22 00:00:00+00:00",
          "2022-07-23 00:00:00+00:00",
          "2022-07-24 00:00:00+00:00",
          "2022-07-25 00:00:00+00:00",
          "2022-07-26 00:00:00+00:00",
          "2022-07-27 00:00:00+00:00",
          "2022-07-28 00:00:00+00:00",
          "2022-07-29 00:00:00+00:00",
          "2022-07-30 00:00:00+00:00",
          "2022-07-31 00:00:00+00:00",
          "2022-08-01 00:00:00+00:00",
          "2022-08-02 00:00:00+00:00",
          "2022-08-03 00:00:00+00:00",
          "2022-08-04 00:00:00+00:00",
          "2022-08-05 00:00:00+00:00",
          "2022-08-06 00:00:00+00:00",
          "2022-08-07 00:00:00+00:00",
          "2022-08-08 00:00:00+00:00",
          "2022-08-09 00:00:00+00:00",
          "2022-08-10 00:00:00+00:00",
          "2022-08-11 00:00:00+00:00",
          "2022-08-12 00:00:00+00:00",
          "2022-08-13 00:00:00+00:00",
          "2022-08-14 00:00:00+00:00",
          "2022-08-15 00:00:00+00:00",
          "2022-08-16 00:00:00+00:00",
          "2022-08-17 00:00:00+00:00",
          "2022-08-18 00:00:00+00:00",
          "2022-08-19 00:00:00+00:00",
          "2022-08-20 00:00:00+00:00",
          "2022-08-21 00:00:00+00:00",
          "2022-08-22 00:00:00+00:00",
          "2022-08-23 00:00:00+00:00",
          "2022-08-24 00:00:00+00:00",
          "2022-08-25 00:00:00+00:00",
          "2022-08-26 00:00:00+00:00",
          "2022-08-27 00:00:00+00:00",
          "2022-08-28 00:00:00+00:00",
          "2022-08-29 00:00:00+00:00",
          "2022-08-30 00:00:00+00:00",
          "2022-08-31 00:00:00+00:00",
          "2022-09-01 00:00:00+00:00",
          "2022-09-02 00:00:00+00:00",
          "2022-09-03 00:00:00+00:00",
          "2022-09-04 00:00:00+00:00",
          "2022-09-05 00:00:00+00:00",
          "2022-09-06 00:00:00+00:00",
          "2022-09-07 00:00:00+00:00",
          "2022-09-08 00:00:00+00:00",
          "2022-09-09 00:00:00+00:00",
          "2022-09-10 00:00:00+00:00",
          "2022-09-11 00:00:00+00:00",
          "2022-09-12 00:00:00+00:00",
          "2022-09-13 00:00:00+00:00",
          "2022-09-14 00:00:00+00:00",
          "2022-09-15 00:00:00+00:00",
          "2022-09-16 00:00:00+00:00",
          "2022-09-17 00:00:00+00:00",
          "2022-09-18 00:00:00+00:00",
          "2022-09-19 00:00:00+00:00",
          "2022-09-20 00:00:00+00:00",
          "2022-09-21 00:00:00+00:00"
         ],
         "xaxis": "x",
         "y": [
          16778683767.597218,
          32883645913.96472,
          31053018153.386677,
          28170490245.865635,
          31484572271.03238,
          27758348826.409065,
          20955789685.35568,
          24857664487.014507,
          29825308569.42226,
          23070122642.32804,
          31748901527.20592,
          37402043365.58407,
          32223287014.454,
          19130720394.98043,
          30810576501.52256,
          58369928594.32748,
          54071363210.08785,
          65985702701.50493,
          61338080283.57989,
          71541696924.39926,
          25759546763.688618,
          22948123704.172672,
          28418179221.125336,
          24964703223.57502,
          26219431165.241817,
          29190056577.430664,
          25980877919.56809,
          13561006428.368963,
          17199930154.801018,
          26646754324.71057,
          23486436836.56051,
          23108764916.2066,
          31972044691.709656,
          31756305901.00553,
          15406515372.711676,
          14496111397.934437,
          34891305294.623,
          29770567353.488136,
          35553330791.53566,
          24232399986.261147,
          21997859590.66833,
          12911383481.843807,
          13395229055.412352,
          27644798123.298183,
          36111325508.04181,
          27080284928.564884,
          18871591862.340336,
          25663085729.428837,
          22518366769.83909,
          29834061115.62461,
          64852526179.38284,
          47639470967.89143,
          52027211446.51121,
          27449277945.59262,
          24232922585.24016,
          38920632524.1614,
          32488136325.883087,
          28346447996.779846,
          25340643362.789,
          24955466738.11085,
          23655104386.97852,
          21955656695.74872,
          16152442749.306295,
          15392697878.417652,
          17719011287.9831,
          18161209601.432373,
          20744333507.35517,
          22816515394.911003,
          28756781114.699898,
          15601715000.679424,
          13976969844.33244,
          18634860046.37241,
          23623270105.54542,
          21755499642.28282,
          21927087503.43376,
          46645398900.96298,
          26211587451.783283,
          25037950754.00336,
          21319467248.801025,
          22074971578.2899,
          28560004360.90292,
          28732413536.669937,
          46542248374.33238,
          42051101694.797554,
          29615794461.49923,
          58636734705.48306,
          57338223361.51413,
          40775718993.79776,
          63224249257.51128,
          40304373301.41499,
          42519262113.1533,
          33108916659.05373,
          42667548128.93224,
          53995620035.18145,
          54498281944.45157,
          55609627980.6571,
          41089335195.63975,
          62102072346.807785,
          31786729326.443203,
          44489771146.510735,
          35151096516.75639,
          41334593234.075066,
          23624874220.429745,
          27040190909.828075,
          14439694271.14074,
          14324042469.270954,
          27756736787.028625,
          29738069337.77638,
          32215976525.650154,
          33892871243.716595,
          25195193357.103275,
          22240559959.52209,
          21287616855.70449,
          33404812507.80541,
          24971300201.368164,
          29567403252.00121,
          20228208349.156567,
          35142410593.122185,
          23809679190.922188,
          20476237108.35153,
          28856912427.17573,
          29331102121.79332,
          26855905243.36116,
          26767966536.315014,
          34910727805.04114,
          24463219414.743477,
          19781826309.451183,
          28706315246.140064,
          30308993725.45616,
          27825786159.8556,
          25616737335.88055,
          24078042298.340076,
          20048153187.39969,
          21537524477.36904,
          23522961655.00036,
          39940310406.47586,
          30517907004.082462,
          28936941008.35892,
          42487059054.97593,
          35941349745.24438,
          31266252145.35619,
          44006486689.44507,
          46489890914.82466,
          35789015870.392235,
          33715957206.68328,
          30187737709.58007,
          23394494073.784782,
          28689764413.699097,
          39507938864.87854,
          33890591849.676517
         ],
         "yaxis": "y2"
        }
       ],
       "layout": {
        "legend": {
         "bgcolor": "#F5F6F9",
         "font": {
          "color": "#4D5663"
         }
        },
        "paper_bgcolor": "#F5F6F9",
        "plot_bgcolor": "#F5F6F9",
        "template": {
         "data": {
          "bar": [
           {
            "error_x": {
             "color": "#2a3f5f"
            },
            "error_y": {
             "color": "#2a3f5f"
            },
            "marker": {
             "line": {
              "color": "#E5ECF6",
              "width": 0.5
             },
             "pattern": {
              "fillmode": "overlay",
              "size": 10,
              "solidity": 0.2
             }
            },
            "type": "bar"
           }
          ],
          "barpolar": [
           {
            "marker": {
             "line": {
              "color": "#E5ECF6",
              "width": 0.5
             },
             "pattern": {
              "fillmode": "overlay",
              "size": 10,
              "solidity": 0.2
             }
            },
            "type": "barpolar"
           }
          ],
          "carpet": [
           {
            "aaxis": {
             "endlinecolor": "#2a3f5f",
             "gridcolor": "white",
             "linecolor": "white",
             "minorgridcolor": "white",
             "startlinecolor": "#2a3f5f"
            },
            "baxis": {
             "endlinecolor": "#2a3f5f",
             "gridcolor": "white",
             "linecolor": "white",
             "minorgridcolor": "white",
             "startlinecolor": "#2a3f5f"
            },
            "type": "carpet"
           }
          ],
          "choropleth": [
           {
            "colorbar": {
             "outlinewidth": 0,
             "ticks": ""
            },
            "type": "choropleth"
           }
          ],
          "contour": [
           {
            "colorbar": {
             "outlinewidth": 0,
             "ticks": ""
            },
            "colorscale": [
             [
              0,
              "#0d0887"
             ],
             [
              0.1111111111111111,
              "#46039f"
             ],
             [
              0.2222222222222222,
              "#7201a8"
             ],
             [
              0.3333333333333333,
              "#9c179e"
             ],
             [
              0.4444444444444444,
              "#bd3786"
             ],
             [
              0.5555555555555556,
              "#d8576b"
             ],
             [
              0.6666666666666666,
              "#ed7953"
             ],
             [
              0.7777777777777778,
              "#fb9f3a"
             ],
             [
              0.8888888888888888,
              "#fdca26"
             ],
             [
              1,
              "#f0f921"
             ]
            ],
            "type": "contour"
           }
          ],
          "contourcarpet": [
           {
            "colorbar": {
             "outlinewidth": 0,
             "ticks": ""
            },
            "type": "contourcarpet"
           }
          ],
          "heatmap": [
           {
            "colorbar": {
             "outlinewidth": 0,
             "ticks": ""
            },
            "colorscale": [
             [
              0,
              "#0d0887"
             ],
             [
              0.1111111111111111,
              "#46039f"
             ],
             [
              0.2222222222222222,
              "#7201a8"
             ],
             [
              0.3333333333333333,
              "#9c179e"
             ],
             [
              0.4444444444444444,
              "#bd3786"
             ],
             [
              0.5555555555555556,
              "#d8576b"
             ],
             [
              0.6666666666666666,
              "#ed7953"
             ],
             [
              0.7777777777777778,
              "#fb9f3a"
             ],
             [
              0.8888888888888888,
              "#fdca26"
             ],
             [
              1,
              "#f0f921"
             ]
            ],
            "type": "heatmap"
           }
          ],
          "heatmapgl": [
           {
            "colorbar": {
             "outlinewidth": 0,
             "ticks": ""
            },
            "colorscale": [
             [
              0,
              "#0d0887"
             ],
             [
              0.1111111111111111,
              "#46039f"
             ],
             [
              0.2222222222222222,
              "#7201a8"
             ],
             [
              0.3333333333333333,
              "#9c179e"
             ],
             [
              0.4444444444444444,
              "#bd3786"
             ],
             [
              0.5555555555555556,
              "#d8576b"
             ],
             [
              0.6666666666666666,
              "#ed7953"
             ],
             [
              0.7777777777777778,
              "#fb9f3a"
             ],
             [
              0.8888888888888888,
              "#fdca26"
             ],
             [
              1,
              "#f0f921"
             ]
            ],
            "type": "heatmapgl"
           }
          ],
          "histogram": [
           {
            "marker": {
             "pattern": {
              "fillmode": "overlay",
              "size": 10,
              "solidity": 0.2
             }
            },
            "type": "histogram"
           }
          ],
          "histogram2d": [
           {
            "colorbar": {
             "outlinewidth": 0,
             "ticks": ""
            },
            "colorscale": [
             [
              0,
              "#0d0887"
             ],
             [
              0.1111111111111111,
              "#46039f"
             ],
             [
              0.2222222222222222,
              "#7201a8"
             ],
             [
              0.3333333333333333,
              "#9c179e"
             ],
             [
              0.4444444444444444,
              "#bd3786"
             ],
             [
              0.5555555555555556,
              "#d8576b"
             ],
             [
              0.6666666666666666,
              "#ed7953"
             ],
             [
              0.7777777777777778,
              "#fb9f3a"
             ],
             [
              0.8888888888888888,
              "#fdca26"
             ],
             [
              1,
              "#f0f921"
             ]
            ],
            "type": "histogram2d"
           }
          ],
          "histogram2dcontour": [
           {
            "colorbar": {
             "outlinewidth": 0,
             "ticks": ""
            },
            "colorscale": [
             [
              0,
              "#0d0887"
             ],
             [
              0.1111111111111111,
              "#46039f"
             ],
             [
              0.2222222222222222,
              "#7201a8"
             ],
             [
              0.3333333333333333,
              "#9c179e"
             ],
             [
              0.4444444444444444,
              "#bd3786"
             ],
             [
              0.5555555555555556,
              "#d8576b"
             ],
             [
              0.6666666666666666,
              "#ed7953"
             ],
             [
              0.7777777777777778,
              "#fb9f3a"
             ],
             [
              0.8888888888888888,
              "#fdca26"
             ],
             [
              1,
              "#f0f921"
             ]
            ],
            "type": "histogram2dcontour"
           }
          ],
          "mesh3d": [
           {
            "colorbar": {
             "outlinewidth": 0,
             "ticks": ""
            },
            "type": "mesh3d"
           }
          ],
          "parcoords": [
           {
            "line": {
             "colorbar": {
              "outlinewidth": 0,
              "ticks": ""
             }
            },
            "type": "parcoords"
           }
          ],
          "pie": [
           {
            "automargin": true,
            "type": "pie"
           }
          ],
          "scatter": [
           {
            "fillpattern": {
             "fillmode": "overlay",
             "size": 10,
             "solidity": 0.2
            },
            "type": "scatter"
           }
          ],
          "scatter3d": [
           {
            "line": {
             "colorbar": {
              "outlinewidth": 0,
              "ticks": ""
             }
            },
            "marker": {
             "colorbar": {
              "outlinewidth": 0,
              "ticks": ""
             }
            },
            "type": "scatter3d"
           }
          ],
          "scattercarpet": [
           {
            "marker": {
             "colorbar": {
              "outlinewidth": 0,
              "ticks": ""
             }
            },
            "type": "scattercarpet"
           }
          ],
          "scattergeo": [
           {
            "marker": {
             "colorbar": {
              "outlinewidth": 0,
              "ticks": ""
             }
            },
            "type": "scattergeo"
           }
          ],
          "scattergl": [
           {
            "marker": {
             "colorbar": {
              "outlinewidth": 0,
              "ticks": ""
             }
            },
            "type": "scattergl"
           }
          ],
          "scattermapbox": [
           {
            "marker": {
             "colorbar": {
              "outlinewidth": 0,
              "ticks": ""
             }
            },
            "type": "scattermapbox"
           }
          ],
          "scatterpolar": [
           {
            "marker": {
             "colorbar": {
              "outlinewidth": 0,
              "ticks": ""
             }
            },
            "type": "scatterpolar"
           }
          ],
          "scatterpolargl": [
           {
            "marker": {
             "colorbar": {
              "outlinewidth": 0,
              "ticks": ""
             }
            },
            "type": "scatterpolargl"
           }
          ],
          "scatterternary": [
           {
            "marker": {
             "colorbar": {
              "outlinewidth": 0,
              "ticks": ""
             }
            },
            "type": "scatterternary"
           }
          ],
          "surface": [
           {
            "colorbar": {
             "outlinewidth": 0,
             "ticks": ""
            },
            "colorscale": [
             [
              0,
              "#0d0887"
             ],
             [
              0.1111111111111111,
              "#46039f"
             ],
             [
              0.2222222222222222,
              "#7201a8"
             ],
             [
              0.3333333333333333,
              "#9c179e"
             ],
             [
              0.4444444444444444,
              "#bd3786"
             ],
             [
              0.5555555555555556,
              "#d8576b"
             ],
             [
              0.6666666666666666,
              "#ed7953"
             ],
             [
              0.7777777777777778,
              "#fb9f3a"
             ],
             [
              0.8888888888888888,
              "#fdca26"
             ],
             [
              1,
              "#f0f921"
             ]
            ],
            "type": "surface"
           }
          ],
          "table": [
           {
            "cells": {
             "fill": {
              "color": "#EBF0F8"
             },
             "line": {
              "color": "white"
             }
            },
            "header": {
             "fill": {
              "color": "#C8D4E3"
             },
             "line": {
              "color": "white"
             }
            },
            "type": "table"
           }
          ]
         },
         "layout": {
          "annotationdefaults": {
           "arrowcolor": "#2a3f5f",
           "arrowhead": 0,
           "arrowwidth": 1
          },
          "autotypenumbers": "strict",
          "coloraxis": {
           "colorbar": {
            "outlinewidth": 0,
            "ticks": ""
           }
          },
          "colorscale": {
           "diverging": [
            [
             0,
             "#8e0152"
            ],
            [
             0.1,
             "#c51b7d"
            ],
            [
             0.2,
             "#de77ae"
            ],
            [
             0.3,
             "#f1b6da"
            ],
            [
             0.4,
             "#fde0ef"
            ],
            [
             0.5,
             "#f7f7f7"
            ],
            [
             0.6,
             "#e6f5d0"
            ],
            [
             0.7,
             "#b8e186"
            ],
            [
             0.8,
             "#7fbc41"
            ],
            [
             0.9,
             "#4d9221"
            ],
            [
             1,
             "#276419"
            ]
           ],
           "sequential": [
            [
             0,
             "#0d0887"
            ],
            [
             0.1111111111111111,
             "#46039f"
            ],
            [
             0.2222222222222222,
             "#7201a8"
            ],
            [
             0.3333333333333333,
             "#9c179e"
            ],
            [
             0.4444444444444444,
             "#bd3786"
            ],
            [
             0.5555555555555556,
             "#d8576b"
            ],
            [
             0.6666666666666666,
             "#ed7953"
            ],
            [
             0.7777777777777778,
             "#fb9f3a"
            ],
            [
             0.8888888888888888,
             "#fdca26"
            ],
            [
             1,
             "#f0f921"
            ]
           ],
           "sequentialminus": [
            [
             0,
             "#0d0887"
            ],
            [
             0.1111111111111111,
             "#46039f"
            ],
            [
             0.2222222222222222,
             "#7201a8"
            ],
            [
             0.3333333333333333,
             "#9c179e"
            ],
            [
             0.4444444444444444,
             "#bd3786"
            ],
            [
             0.5555555555555556,
             "#d8576b"
            ],
            [
             0.6666666666666666,
             "#ed7953"
            ],
            [
             0.7777777777777778,
             "#fb9f3a"
            ],
            [
             0.8888888888888888,
             "#fdca26"
            ],
            [
             1,
             "#f0f921"
            ]
           ]
          },
          "colorway": [
           "#636efa",
           "#EF553B",
           "#00cc96",
           "#ab63fa",
           "#FFA15A",
           "#19d3f3",
           "#FF6692",
           "#B6E880",
           "#FF97FF",
           "#FECB52"
          ],
          "font": {
           "color": "#2a3f5f"
          },
          "geo": {
           "bgcolor": "white",
           "lakecolor": "white",
           "landcolor": "#E5ECF6",
           "showlakes": true,
           "showland": true,
           "subunitcolor": "white"
          },
          "hoverlabel": {
           "align": "left"
          },
          "hovermode": "closest",
          "mapbox": {
           "style": "light"
          },
          "paper_bgcolor": "white",
          "plot_bgcolor": "#E5ECF6",
          "polar": {
           "angularaxis": {
            "gridcolor": "white",
            "linecolor": "white",
            "ticks": ""
           },
           "bgcolor": "#E5ECF6",
           "radialaxis": {
            "gridcolor": "white",
            "linecolor": "white",
            "ticks": ""
           }
          },
          "scene": {
           "xaxis": {
            "backgroundcolor": "#E5ECF6",
            "gridcolor": "white",
            "gridwidth": 2,
            "linecolor": "white",
            "showbackground": true,
            "ticks": "",
            "zerolinecolor": "white"
           },
           "yaxis": {
            "backgroundcolor": "#E5ECF6",
            "gridcolor": "white",
            "gridwidth": 2,
            "linecolor": "white",
            "showbackground": true,
            "ticks": "",
            "zerolinecolor": "white"
           },
           "zaxis": {
            "backgroundcolor": "#E5ECF6",
            "gridcolor": "white",
            "gridwidth": 2,
            "linecolor": "white",
            "showbackground": true,
            "ticks": "",
            "zerolinecolor": "white"
           }
          },
          "shapedefaults": {
           "line": {
            "color": "#2a3f5f"
           }
          },
          "ternary": {
           "aaxis": {
            "gridcolor": "white",
            "linecolor": "white",
            "ticks": ""
           },
           "baxis": {
            "gridcolor": "white",
            "linecolor": "white",
            "ticks": ""
           },
           "bgcolor": "#E5ECF6",
           "caxis": {
            "gridcolor": "white",
            "linecolor": "white",
            "ticks": ""
           }
          },
          "title": {
           "x": 0.05
          },
          "xaxis": {
           "automargin": true,
           "gridcolor": "white",
           "linecolor": "white",
           "ticks": "",
           "title": {
            "standoff": 15
           },
           "zerolinecolor": "white",
           "zerolinewidth": 2
          },
          "yaxis": {
           "automargin": true,
           "gridcolor": "white",
           "linecolor": "white",
           "ticks": "",
           "title": {
            "standoff": 15
           },
           "zerolinecolor": "white",
           "zerolinewidth": 2
          }
         }
        },
        "title": {
         "font": {
          "color": "#4D5663"
         }
        },
        "xaxis": {
         "gridcolor": "#E1E5ED",
         "showgrid": true,
         "tickfont": {
          "color": "#4D5663"
         },
         "title": {
          "font": {
           "color": "#4D5663"
          },
          "text": "Date"
         },
         "zerolinecolor": "#E1E5ED"
        },
        "yaxis": {
         "gridcolor": "#E1E5ED",
         "showgrid": true,
         "tickfont": {
          "color": "#4D5663"
         },
         "title": {
          "font": {
           "color": "#4D5663"
          },
          "text": ""
         },
         "zerolinecolor": "#E1E5ED"
        },
        "yaxis2": {
         "anchor": "x",
         "gridcolor": "#E1E5ED",
         "overlaying": "y",
         "showgrid": true,
         "side": "right",
         "tickfont": {
          "color": "#4D5663"
         },
         "title": {
          "text": "Volume"
         },
         "zerolinecolor": "#E1E5ED"
        }
       }
      },
      "text/html": [
       "<div>                            <div id=\"35138db2-0511-4945-8dca-1d030742701a\" class=\"plotly-graph-div\" style=\"height:525px; width:100%;\"></div>            <script type=\"text/javascript\">                require([\"plotly\"], function(Plotly) {                    window.PLOTLYENV=window.PLOTLYENV || {};\n",
       "                    window.PLOTLYENV.BASE_URL='https://plot.ly';                                    if (document.getElementById(\"35138db2-0511-4945-8dca-1d030742701a\")) {                    Plotly.newPlot(                        \"35138db2-0511-4945-8dca-1d030742701a\",                        [{\"line\":{\"color\":\"rgba(255, 153, 51, 1.0)\",\"dash\":\"solid\",\"shape\":\"linear\",\"width\":1.3},\"mode\":\"lines\",\"name\":\"price\",\"text\":\"\",\"x\":[\"2022-04-25 00:00:00+00:00\",\"2022-04-26 00:00:00+00:00\",\"2022-04-27 00:00:00+00:00\",\"2022-04-28 00:00:00+00:00\",\"2022-04-29 00:00:00+00:00\",\"2022-04-30 00:00:00+00:00\",\"2022-05-01 00:00:00+00:00\",\"2022-05-02 00:00:00+00:00\",\"2022-05-03 00:00:00+00:00\",\"2022-05-04 00:00:00+00:00\",\"2022-05-05 00:00:00+00:00\",\"2022-05-06 00:00:00+00:00\",\"2022-05-07 00:00:00+00:00\",\"2022-05-08 00:00:00+00:00\",\"2022-05-09 00:00:00+00:00\",\"2022-05-10 00:00:00+00:00\",\"2022-05-11 00:00:00+00:00\",\"2022-05-12 00:00:00+00:00\",\"2022-05-13 00:00:00+00:00\",\"2022-05-14 00:00:00+00:00\",\"2022-05-15 00:00:00+00:00\",\"2022-05-16 00:00:00+00:00\",\"2022-05-17 00:00:00+00:00\",\"2022-05-18 00:00:00+00:00\",\"2022-05-19 00:00:00+00:00\",\"2022-05-20 00:00:00+00:00\",\"2022-05-21 00:00:00+00:00\",\"2022-05-22 00:00:00+00:00\",\"2022-05-23 00:00:00+00:00\",\"2022-05-24 00:00:00+00:00\",\"2022-05-25 00:00:00+00:00\",\"2022-05-26 00:00:00+00:00\",\"2022-05-27 00:00:00+00:00\",\"2022-05-28 00:00:00+00:00\",\"2022-05-29 00:00:00+00:00\",\"2022-05-30 00:00:00+00:00\",\"2022-05-31 00:00:00+00:00\",\"2022-06-01 00:00:00+00:00\",\"2022-06-02 00:00:00+00:00\",\"2022-06-03 00:00:00+00:00\",\"2022-06-04 00:00:00+00:00\",\"2022-06-05 00:00:00+00:00\",\"2022-06-06 00:00:00+00:00\",\"2022-06-07 00:00:00+00:00\",\"2022-06-08 00:00:00+00:00\",\"2022-06-09 00:00:00+00:00\",\"2022-06-10 00:00:00+00:00\",\"2022-06-11 00:00:00+00:00\",\"2022-06-12 00:00:00+00:00\",\"2022-06-13 00:00:00+00:00\",\"2022-06-14 00:00:00+00:00\",\"2022-06-15 00:00:00+00:00\",\"2022-06-16 00:00:00+00:00\",\"2022-06-17 00:00:00+00:00\",\"2022-06-18 00:00:00+00:00\",\"2022-06-19 00:00:00+00:00\",\"2022-06-20 00:00:00+00:00\",\"2022-06-21 00:00:00+00:00\",\"2022-06-22 00:00:00+00:00\",\"2022-06-23 00:00:00+00:00\",\"2022-06-24 00:00:00+00:00\",\"2022-06-25 00:00:00+00:00\",\"2022-06-26 00:00:00+00:00\",\"2022-06-27 00:00:00+00:00\",\"2022-06-28 00:00:00+00:00\",\"2022-06-29 00:00:00+00:00\",\"2022-06-30 00:00:00+00:00\",\"2022-07-01 00:00:00+00:00\",\"2022-07-02 00:00:00+00:00\",\"2022-07-03 00:00:00+00:00\",\"2022-07-04 00:00:00+00:00\",\"2022-07-05 00:00:00+00:00\",\"2022-07-06 00:00:00+00:00\",\"2022-07-07 00:00:00+00:00\",\"2022-07-08 00:00:00+00:00\",\"2022-07-09 00:00:00+00:00\",\"2022-07-10 00:00:00+00:00\",\"2022-07-11 00:00:00+00:00\",\"2022-07-12 00:00:00+00:00\",\"2022-07-13 00:00:00+00:00\",\"2022-07-14 00:00:00+00:00\",\"2022-07-15 00:00:00+00:00\",\"2022-07-16 00:00:00+00:00\",\"2022-07-17 00:00:00+00:00\",\"2022-07-18 00:00:00+00:00\",\"2022-07-19 00:00:00+00:00\",\"2022-07-20 00:00:00+00:00\",\"2022-07-21 00:00:00+00:00\",\"2022-07-22 00:00:00+00:00\",\"2022-07-23 00:00:00+00:00\",\"2022-07-24 00:00:00+00:00\",\"2022-07-25 00:00:00+00:00\",\"2022-07-26 00:00:00+00:00\",\"2022-07-27 00:00:00+00:00\",\"2022-07-28 00:00:00+00:00\",\"2022-07-29 00:00:00+00:00\",\"2022-07-30 00:00:00+00:00\",\"2022-07-31 00:00:00+00:00\",\"2022-08-01 00:00:00+00:00\",\"2022-08-02 00:00:00+00:00\",\"2022-08-03 00:00:00+00:00\",\"2022-08-04 00:00:00+00:00\",\"2022-08-05 00:00:00+00:00\",\"2022-08-06 00:00:00+00:00\",\"2022-08-07 00:00:00+00:00\",\"2022-08-08 00:00:00+00:00\",\"2022-08-09 00:00:00+00:00\",\"2022-08-10 00:00:00+00:00\",\"2022-08-11 00:00:00+00:00\",\"2022-08-12 00:00:00+00:00\",\"2022-08-13 00:00:00+00:00\",\"2022-08-14 00:00:00+00:00\",\"2022-08-15 00:00:00+00:00\",\"2022-08-16 00:00:00+00:00\",\"2022-08-17 00:00:00+00:00\",\"2022-08-18 00:00:00+00:00\",\"2022-08-19 00:00:00+00:00\",\"2022-08-20 00:00:00+00:00\",\"2022-08-21 00:00:00+00:00\",\"2022-08-22 00:00:00+00:00\",\"2022-08-23 00:00:00+00:00\",\"2022-08-24 00:00:00+00:00\",\"2022-08-25 00:00:00+00:00\",\"2022-08-26 00:00:00+00:00\",\"2022-08-27 00:00:00+00:00\",\"2022-08-28 00:00:00+00:00\",\"2022-08-29 00:00:00+00:00\",\"2022-08-30 00:00:00+00:00\",\"2022-08-31 00:00:00+00:00\",\"2022-09-01 00:00:00+00:00\",\"2022-09-02 00:00:00+00:00\",\"2022-09-03 00:00:00+00:00\",\"2022-09-04 00:00:00+00:00\",\"2022-09-05 00:00:00+00:00\",\"2022-09-06 00:00:00+00:00\",\"2022-09-07 00:00:00+00:00\",\"2022-09-08 00:00:00+00:00\",\"2022-09-09 00:00:00+00:00\",\"2022-09-10 00:00:00+00:00\",\"2022-09-11 00:00:00+00:00\",\"2022-09-12 00:00:00+00:00\",\"2022-09-13 00:00:00+00:00\",\"2022-09-14 00:00:00+00:00\",\"2022-09-15 00:00:00+00:00\",\"2022-09-16 00:00:00+00:00\",\"2022-09-17 00:00:00+00:00\",\"2022-09-18 00:00:00+00:00\",\"2022-09-19 00:00:00+00:00\",\"2022-09-20 00:00:00+00:00\",\"2022-09-21 00:00:00+00:00\"],\"y\":[39469.04986198146,40488.877917622376,38134.21545068938,39237.94931747103,39741.76664580964,38650.55013809267,37820.61176529208,38537.65476669535,38561.56539902362,37758.496107734,39699.02404125388,36612.22954880304,36116.394294982965,35573.31019883488,34070.31219757961,30269.58695662948,31026.93386836242,28913.48836365432,29126.11597686014,29310.728959858257,30189.333177005963,31319.30911113,29923.606993639707,30502.19328027689,28772.200501112577,30382.40624219559,29256.81337441625,29491.5079477606,30351.050417138096,29163.167775739188,29655.02613175249,29584.949851985926,29346.781442431617,28646.65218193245,29088.236452817226,29492.50321495364,31740.94072516695,31865.749621173167,29833.45033020525,30481.013996026013,29714.143487149733,29872.3603087139,29917.7640524562,31372.5847629755,31265.469277693348,30229.236836130374,30101.187521431468,29101.2982596468,28374.14499732395,26767.269173221317,22525.7683503912,22244.848968001315,22529.198114649807,20408.690490591813,20473.05288079512,19047.41782828195,20516.41197977524,20636.75891240637,20700.923933039136,19983.566482863105,21100.270533511088,21262.71348295613,21525.88036221139,21052.80539783573,20751.47753079077,20282.54247926969,20108.529472889782,19608.397493423083,19407.447430262477,19268.227002666128,19310.233218521837,20257.01232859288,20188.779663973284,20566.68722377,21660.596837075183,21858.818749217564,21589.628101459668,20859.81407965063,19998.46783957584,19350.73735007727,20225.23866433186,20574.84059150044,20794.811981436706,21193.08334336837,20824.36275165164,22395.365383103952,23366.90769792785,23313.296731959555,23155.207555248304,22696.90275429005,22506.199573628983,22613.71920824845,21330.295450788173,21235.61231608577,22908.884260468687,23822.06759782312,23847.58331873861,23653.4595494308,23379.70052509082,23333.749243312184,23053.84684748268,22860.42098438317,22678.363633874185,23225.036201942938,22984.57953144855,23197.603469525384,23823.67944245361,23203.680696781623,23948.829553271637,23948.75170368143,24411.37987152261,24433.653747243658,24312.54142489156,24179.0146523092,23913.333725628458,23359.418837070007,23248.38422819264,20945.8339660496,21175.232732989512,21615.761693416986,21387.747114773963,21562.45153991356,21395.45846975991,21618.009019176647,20271.322951706014,20069.9533315962,19659.24670619362,20308.861447891457,19805.35069885804,20023.55444491251,20153.975977982507,19941.45137004716,19814.5642451146,19980.01322224228,19785.73350185514,18859.50008768028,19280.62547645678,19322.77774937157,21359.58252557909,21707.38731931814,21739.80437979554,22339.67050262336,20184.96749189655,20255.922978327133,19702.16988981172,19764.411712043777,20131.675305714027,19437.157867982634,19570.386709523507,18869.92880939053],\"type\":\"scatter\"},{\"line\":{\"color\":\"rgba(55, 128, 191, 1.0)\",\"dash\":\"solid\",\"shape\":\"linear\",\"width\":1.3},\"mode\":\"lines\",\"name\":\"total_volume\",\"text\":\"\",\"x\":[\"2022-04-25 00:00:00+00:00\",\"2022-04-26 00:00:00+00:00\",\"2022-04-27 00:00:00+00:00\",\"2022-04-28 00:00:00+00:00\",\"2022-04-29 00:00:00+00:00\",\"2022-04-30 00:00:00+00:00\",\"2022-05-01 00:00:00+00:00\",\"2022-05-02 00:00:00+00:00\",\"2022-05-03 00:00:00+00:00\",\"2022-05-04 00:00:00+00:00\",\"2022-05-05 00:00:00+00:00\",\"2022-05-06 00:00:00+00:00\",\"2022-05-07 00:00:00+00:00\",\"2022-05-08 00:00:00+00:00\",\"2022-05-09 00:00:00+00:00\",\"2022-05-10 00:00:00+00:00\",\"2022-05-11 00:00:00+00:00\",\"2022-05-12 00:00:00+00:00\",\"2022-05-13 00:00:00+00:00\",\"2022-05-14 00:00:00+00:00\",\"2022-05-15 00:00:00+00:00\",\"2022-05-16 00:00:00+00:00\",\"2022-05-17 00:00:00+00:00\",\"2022-05-18 00:00:00+00:00\",\"2022-05-19 00:00:00+00:00\",\"2022-05-20 00:00:00+00:00\",\"2022-05-21 00:00:00+00:00\",\"2022-05-22 00:00:00+00:00\",\"2022-05-23 00:00:00+00:00\",\"2022-05-24 00:00:00+00:00\",\"2022-05-25 00:00:00+00:00\",\"2022-05-26 00:00:00+00:00\",\"2022-05-27 00:00:00+00:00\",\"2022-05-28 00:00:00+00:00\",\"2022-05-29 00:00:00+00:00\",\"2022-05-30 00:00:00+00:00\",\"2022-05-31 00:00:00+00:00\",\"2022-06-01 00:00:00+00:00\",\"2022-06-02 00:00:00+00:00\",\"2022-06-03 00:00:00+00:00\",\"2022-06-04 00:00:00+00:00\",\"2022-06-05 00:00:00+00:00\",\"2022-06-06 00:00:00+00:00\",\"2022-06-07 00:00:00+00:00\",\"2022-06-08 00:00:00+00:00\",\"2022-06-09 00:00:00+00:00\",\"2022-06-10 00:00:00+00:00\",\"2022-06-11 00:00:00+00:00\",\"2022-06-12 00:00:00+00:00\",\"2022-06-13 00:00:00+00:00\",\"2022-06-14 00:00:00+00:00\",\"2022-06-15 00:00:00+00:00\",\"2022-06-16 00:00:00+00:00\",\"2022-06-17 00:00:00+00:00\",\"2022-06-18 00:00:00+00:00\",\"2022-06-19 00:00:00+00:00\",\"2022-06-20 00:00:00+00:00\",\"2022-06-21 00:00:00+00:00\",\"2022-06-22 00:00:00+00:00\",\"2022-06-23 00:00:00+00:00\",\"2022-06-24 00:00:00+00:00\",\"2022-06-25 00:00:00+00:00\",\"2022-06-26 00:00:00+00:00\",\"2022-06-27 00:00:00+00:00\",\"2022-06-28 00:00:00+00:00\",\"2022-06-29 00:00:00+00:00\",\"2022-06-30 00:00:00+00:00\",\"2022-07-01 00:00:00+00:00\",\"2022-07-02 00:00:00+00:00\",\"2022-07-03 00:00:00+00:00\",\"2022-07-04 00:00:00+00:00\",\"2022-07-05 00:00:00+00:00\",\"2022-07-06 00:00:00+00:00\",\"2022-07-07 00:00:00+00:00\",\"2022-07-08 00:00:00+00:00\",\"2022-07-09 00:00:00+00:00\",\"2022-07-10 00:00:00+00:00\",\"2022-07-11 00:00:00+00:00\",\"2022-07-12 00:00:00+00:00\",\"2022-07-13 00:00:00+00:00\",\"2022-07-14 00:00:00+00:00\",\"2022-07-15 00:00:00+00:00\",\"2022-07-16 00:00:00+00:00\",\"2022-07-17 00:00:00+00:00\",\"2022-07-18 00:00:00+00:00\",\"2022-07-19 00:00:00+00:00\",\"2022-07-20 00:00:00+00:00\",\"2022-07-21 00:00:00+00:00\",\"2022-07-22 00:00:00+00:00\",\"2022-07-23 00:00:00+00:00\",\"2022-07-24 00:00:00+00:00\",\"2022-07-25 00:00:00+00:00\",\"2022-07-26 00:00:00+00:00\",\"2022-07-27 00:00:00+00:00\",\"2022-07-28 00:00:00+00:00\",\"2022-07-29 00:00:00+00:00\",\"2022-07-30 00:00:00+00:00\",\"2022-07-31 00:00:00+00:00\",\"2022-08-01 00:00:00+00:00\",\"2022-08-02 00:00:00+00:00\",\"2022-08-03 00:00:00+00:00\",\"2022-08-04 00:00:00+00:00\",\"2022-08-05 00:00:00+00:00\",\"2022-08-06 00:00:00+00:00\",\"2022-08-07 00:00:00+00:00\",\"2022-08-08 00:00:00+00:00\",\"2022-08-09 00:00:00+00:00\",\"2022-08-10 00:00:00+00:00\",\"2022-08-11 00:00:00+00:00\",\"2022-08-12 00:00:00+00:00\",\"2022-08-13 00:00:00+00:00\",\"2022-08-14 00:00:00+00:00\",\"2022-08-15 00:00:00+00:00\",\"2022-08-16 00:00:00+00:00\",\"2022-08-17 00:00:00+00:00\",\"2022-08-18 00:00:00+00:00\",\"2022-08-19 00:00:00+00:00\",\"2022-08-20 00:00:00+00:00\",\"2022-08-21 00:00:00+00:00\",\"2022-08-22 00:00:00+00:00\",\"2022-08-23 00:00:00+00:00\",\"2022-08-24 00:00:00+00:00\",\"2022-08-25 00:00:00+00:00\",\"2022-08-26 00:00:00+00:00\",\"2022-08-27 00:00:00+00:00\",\"2022-08-28 00:00:00+00:00\",\"2022-08-29 00:00:00+00:00\",\"2022-08-30 00:00:00+00:00\",\"2022-08-31 00:00:00+00:00\",\"2022-09-01 00:00:00+00:00\",\"2022-09-02 00:00:00+00:00\",\"2022-09-03 00:00:00+00:00\",\"2022-09-04 00:00:00+00:00\",\"2022-09-05 00:00:00+00:00\",\"2022-09-06 00:00:00+00:00\",\"2022-09-07 00:00:00+00:00\",\"2022-09-08 00:00:00+00:00\",\"2022-09-09 00:00:00+00:00\",\"2022-09-10 00:00:00+00:00\",\"2022-09-11 00:00:00+00:00\",\"2022-09-12 00:00:00+00:00\",\"2022-09-13 00:00:00+00:00\",\"2022-09-14 00:00:00+00:00\",\"2022-09-15 00:00:00+00:00\",\"2022-09-16 00:00:00+00:00\",\"2022-09-17 00:00:00+00:00\",\"2022-09-18 00:00:00+00:00\",\"2022-09-19 00:00:00+00:00\",\"2022-09-20 00:00:00+00:00\",\"2022-09-21 00:00:00+00:00\"],\"y\":[16778683767.597218,32883645913.96472,31053018153.386677,28170490245.865635,31484572271.03238,27758348826.409065,20955789685.35568,24857664487.014507,29825308569.42226,23070122642.32804,31748901527.20592,37402043365.58407,32223287014.454,19130720394.98043,30810576501.52256,58369928594.32748,54071363210.08785,65985702701.50493,61338080283.57989,71541696924.39926,25759546763.688618,22948123704.172672,28418179221.125336,24964703223.57502,26219431165.241817,29190056577.430664,25980877919.56809,13561006428.368963,17199930154.801018,26646754324.71057,23486436836.56051,23108764916.2066,31972044691.709656,31756305901.00553,15406515372.711676,14496111397.934437,34891305294.623,29770567353.488136,35553330791.53566,24232399986.261147,21997859590.66833,12911383481.843807,13395229055.412352,27644798123.298183,36111325508.04181,27080284928.564884,18871591862.340336,25663085729.428837,22518366769.83909,29834061115.62461,64852526179.38284,47639470967.89143,52027211446.51121,27449277945.59262,24232922585.24016,38920632524.1614,32488136325.883087,28346447996.779846,25340643362.789,24955466738.11085,23655104386.97852,21955656695.74872,16152442749.306295,15392697878.417652,17719011287.9831,18161209601.432373,20744333507.35517,22816515394.911003,28756781114.699898,15601715000.679424,13976969844.33244,18634860046.37241,23623270105.54542,21755499642.28282,21927087503.43376,46645398900.96298,26211587451.783283,25037950754.00336,21319467248.801025,22074971578.2899,28560004360.90292,28732413536.669937,46542248374.33238,42051101694.797554,29615794461.49923,58636734705.48306,57338223361.51413,40775718993.79776,63224249257.51128,40304373301.41499,42519262113.1533,33108916659.05373,42667548128.93224,53995620035.18145,54498281944.45157,55609627980.6571,41089335195.63975,62102072346.807785,31786729326.443203,44489771146.510735,35151096516.75639,41334593234.075066,23624874220.429745,27040190909.828075,14439694271.14074,14324042469.270954,27756736787.028625,29738069337.77638,32215976525.650154,33892871243.716595,25195193357.103275,22240559959.52209,21287616855.70449,33404812507.80541,24971300201.368164,29567403252.00121,20228208349.156567,35142410593.122185,23809679190.922188,20476237108.35153,28856912427.17573,29331102121.79332,26855905243.36116,26767966536.315014,34910727805.04114,24463219414.743477,19781826309.451183,28706315246.140064,30308993725.45616,27825786159.8556,25616737335.88055,24078042298.340076,20048153187.39969,21537524477.36904,23522961655.00036,39940310406.47586,30517907004.082462,28936941008.35892,42487059054.97593,35941349745.24438,31266252145.35619,44006486689.44507,46489890914.82466,35789015870.392235,33715957206.68328,30187737709.58007,23394494073.784782,28689764413.699097,39507938864.87854,33890591849.676517],\"type\":\"scatter\",\"xaxis\":\"x\",\"yaxis\":\"y2\"}],                        {\"legend\":{\"bgcolor\":\"#F5F6F9\",\"font\":{\"color\":\"#4D5663\"}},\"paper_bgcolor\":\"#F5F6F9\",\"plot_bgcolor\":\"#F5F6F9\",\"title\":{\"font\":{\"color\":\"#4D5663\"}},\"xaxis\":{\"gridcolor\":\"#E1E5ED\",\"showgrid\":true,\"tickfont\":{\"color\":\"#4D5663\"},\"title\":{\"text\":\"Date\",\"font\":{\"color\":\"#4D5663\"}},\"zerolinecolor\":\"#E1E5ED\"},\"yaxis\":{\"gridcolor\":\"#E1E5ED\",\"showgrid\":true,\"tickfont\":{\"color\":\"#4D5663\"},\"title\":{\"text\":\"\",\"font\":{\"color\":\"#4D5663\"}},\"zerolinecolor\":\"#E1E5ED\"},\"template\":{\"data\":{\"histogram2dcontour\":[{\"type\":\"histogram2dcontour\",\"colorbar\":{\"outlinewidth\":0,\"ticks\":\"\"},\"colorscale\":[[0.0,\"#0d0887\"],[0.1111111111111111,\"#46039f\"],[0.2222222222222222,\"#7201a8\"],[0.3333333333333333,\"#9c179e\"],[0.4444444444444444,\"#bd3786\"],[0.5555555555555556,\"#d8576b\"],[0.6666666666666666,\"#ed7953\"],[0.7777777777777778,\"#fb9f3a\"],[0.8888888888888888,\"#fdca26\"],[1.0,\"#f0f921\"]]}],\"choropleth\":[{\"type\":\"choropleth\",\"colorbar\":{\"outlinewidth\":0,\"ticks\":\"\"}}],\"histogram2d\":[{\"type\":\"histogram2d\",\"colorbar\":{\"outlinewidth\":0,\"ticks\":\"\"},\"colorscale\":[[0.0,\"#0d0887\"],[0.1111111111111111,\"#46039f\"],[0.2222222222222222,\"#7201a8\"],[0.3333333333333333,\"#9c179e\"],[0.4444444444444444,\"#bd3786\"],[0.5555555555555556,\"#d8576b\"],[0.6666666666666666,\"#ed7953\"],[0.7777777777777778,\"#fb9f3a\"],[0.8888888888888888,\"#fdca26\"],[1.0,\"#f0f921\"]]}],\"heatmap\":[{\"type\":\"heatmap\",\"colorbar\":{\"outlinewidth\":0,\"ticks\":\"\"},\"colorscale\":[[0.0,\"#0d0887\"],[0.1111111111111111,\"#46039f\"],[0.2222222222222222,\"#7201a8\"],[0.3333333333333333,\"#9c179e\"],[0.4444444444444444,\"#bd3786\"],[0.5555555555555556,\"#d8576b\"],[0.6666666666666666,\"#ed7953\"],[0.7777777777777778,\"#fb9f3a\"],[0.8888888888888888,\"#fdca26\"],[1.0,\"#f0f921\"]]}],\"heatmapgl\":[{\"type\":\"heatmapgl\",\"colorbar\":{\"outlinewidth\":0,\"ticks\":\"\"},\"colorscale\":[[0.0,\"#0d0887\"],[0.1111111111111111,\"#46039f\"],[0.2222222222222222,\"#7201a8\"],[0.3333333333333333,\"#9c179e\"],[0.4444444444444444,\"#bd3786\"],[0.5555555555555556,\"#d8576b\"],[0.6666666666666666,\"#ed7953\"],[0.7777777777777778,\"#fb9f3a\"],[0.8888888888888888,\"#fdca26\"],[1.0,\"#f0f921\"]]}],\"contourcarpet\":[{\"type\":\"contourcarpet\",\"colorbar\":{\"outlinewidth\":0,\"ticks\":\"\"}}],\"contour\":[{\"type\":\"contour\",\"colorbar\":{\"outlinewidth\":0,\"ticks\":\"\"},\"colorscale\":[[0.0,\"#0d0887\"],[0.1111111111111111,\"#46039f\"],[0.2222222222222222,\"#7201a8\"],[0.3333333333333333,\"#9c179e\"],[0.4444444444444444,\"#bd3786\"],[0.5555555555555556,\"#d8576b\"],[0.6666666666666666,\"#ed7953\"],[0.7777777777777778,\"#fb9f3a\"],[0.8888888888888888,\"#fdca26\"],[1.0,\"#f0f921\"]]}],\"surface\":[{\"type\":\"surface\",\"colorbar\":{\"outlinewidth\":0,\"ticks\":\"\"},\"colorscale\":[[0.0,\"#0d0887\"],[0.1111111111111111,\"#46039f\"],[0.2222222222222222,\"#7201a8\"],[0.3333333333333333,\"#9c179e\"],[0.4444444444444444,\"#bd3786\"],[0.5555555555555556,\"#d8576b\"],[0.6666666666666666,\"#ed7953\"],[0.7777777777777778,\"#fb9f3a\"],[0.8888888888888888,\"#fdca26\"],[1.0,\"#f0f921\"]]}],\"mesh3d\":[{\"type\":\"mesh3d\",\"colorbar\":{\"outlinewidth\":0,\"ticks\":\"\"}}],\"scatter\":[{\"fillpattern\":{\"fillmode\":\"overlay\",\"size\":10,\"solidity\":0.2},\"type\":\"scatter\"}],\"parcoords\":[{\"type\":\"parcoords\",\"line\":{\"colorbar\":{\"outlinewidth\":0,\"ticks\":\"\"}}}],\"scatterpolargl\":[{\"type\":\"scatterpolargl\",\"marker\":{\"colorbar\":{\"outlinewidth\":0,\"ticks\":\"\"}}}],\"bar\":[{\"error_x\":{\"color\":\"#2a3f5f\"},\"error_y\":{\"color\":\"#2a3f5f\"},\"marker\":{\"line\":{\"color\":\"#E5ECF6\",\"width\":0.5},\"pattern\":{\"fillmode\":\"overlay\",\"size\":10,\"solidity\":0.2}},\"type\":\"bar\"}],\"scattergeo\":[{\"type\":\"scattergeo\",\"marker\":{\"colorbar\":{\"outlinewidth\":0,\"ticks\":\"\"}}}],\"scatterpolar\":[{\"type\":\"scatterpolar\",\"marker\":{\"colorbar\":{\"outlinewidth\":0,\"ticks\":\"\"}}}],\"histogram\":[{\"marker\":{\"pattern\":{\"fillmode\":\"overlay\",\"size\":10,\"solidity\":0.2}},\"type\":\"histogram\"}],\"scattergl\":[{\"type\":\"scattergl\",\"marker\":{\"colorbar\":{\"outlinewidth\":0,\"ticks\":\"\"}}}],\"scatter3d\":[{\"type\":\"scatter3d\",\"line\":{\"colorbar\":{\"outlinewidth\":0,\"ticks\":\"\"}},\"marker\":{\"colorbar\":{\"outlinewidth\":0,\"ticks\":\"\"}}}],\"scattermapbox\":[{\"type\":\"scattermapbox\",\"marker\":{\"colorbar\":{\"outlinewidth\":0,\"ticks\":\"\"}}}],\"scatterternary\":[{\"type\":\"scatterternary\",\"marker\":{\"colorbar\":{\"outlinewidth\":0,\"ticks\":\"\"}}}],\"scattercarpet\":[{\"type\":\"scattercarpet\",\"marker\":{\"colorbar\":{\"outlinewidth\":0,\"ticks\":\"\"}}}],\"carpet\":[{\"aaxis\":{\"endlinecolor\":\"#2a3f5f\",\"gridcolor\":\"white\",\"linecolor\":\"white\",\"minorgridcolor\":\"white\",\"startlinecolor\":\"#2a3f5f\"},\"baxis\":{\"endlinecolor\":\"#2a3f5f\",\"gridcolor\":\"white\",\"linecolor\":\"white\",\"minorgridcolor\":\"white\",\"startlinecolor\":\"#2a3f5f\"},\"type\":\"carpet\"}],\"table\":[{\"cells\":{\"fill\":{\"color\":\"#EBF0F8\"},\"line\":{\"color\":\"white\"}},\"header\":{\"fill\":{\"color\":\"#C8D4E3\"},\"line\":{\"color\":\"white\"}},\"type\":\"table\"}],\"barpolar\":[{\"marker\":{\"line\":{\"color\":\"#E5ECF6\",\"width\":0.5},\"pattern\":{\"fillmode\":\"overlay\",\"size\":10,\"solidity\":0.2}},\"type\":\"barpolar\"}],\"pie\":[{\"automargin\":true,\"type\":\"pie\"}]},\"layout\":{\"autotypenumbers\":\"strict\",\"colorway\":[\"#636efa\",\"#EF553B\",\"#00cc96\",\"#ab63fa\",\"#FFA15A\",\"#19d3f3\",\"#FF6692\",\"#B6E880\",\"#FF97FF\",\"#FECB52\"],\"font\":{\"color\":\"#2a3f5f\"},\"hovermode\":\"closest\",\"hoverlabel\":{\"align\":\"left\"},\"paper_bgcolor\":\"white\",\"plot_bgcolor\":\"#E5ECF6\",\"polar\":{\"bgcolor\":\"#E5ECF6\",\"angularaxis\":{\"gridcolor\":\"white\",\"linecolor\":\"white\",\"ticks\":\"\"},\"radialaxis\":{\"gridcolor\":\"white\",\"linecolor\":\"white\",\"ticks\":\"\"}},\"ternary\":{\"bgcolor\":\"#E5ECF6\",\"aaxis\":{\"gridcolor\":\"white\",\"linecolor\":\"white\",\"ticks\":\"\"},\"baxis\":{\"gridcolor\":\"white\",\"linecolor\":\"white\",\"ticks\":\"\"},\"caxis\":{\"gridcolor\":\"white\",\"linecolor\":\"white\",\"ticks\":\"\"}},\"coloraxis\":{\"colorbar\":{\"outlinewidth\":0,\"ticks\":\"\"}},\"colorscale\":{\"sequential\":[[0.0,\"#0d0887\"],[0.1111111111111111,\"#46039f\"],[0.2222222222222222,\"#7201a8\"],[0.3333333333333333,\"#9c179e\"],[0.4444444444444444,\"#bd3786\"],[0.5555555555555556,\"#d8576b\"],[0.6666666666666666,\"#ed7953\"],[0.7777777777777778,\"#fb9f3a\"],[0.8888888888888888,\"#fdca26\"],[1.0,\"#f0f921\"]],\"sequentialminus\":[[0.0,\"#0d0887\"],[0.1111111111111111,\"#46039f\"],[0.2222222222222222,\"#7201a8\"],[0.3333333333333333,\"#9c179e\"],[0.4444444444444444,\"#bd3786\"],[0.5555555555555556,\"#d8576b\"],[0.6666666666666666,\"#ed7953\"],[0.7777777777777778,\"#fb9f3a\"],[0.8888888888888888,\"#fdca26\"],[1.0,\"#f0f921\"]],\"diverging\":[[0,\"#8e0152\"],[0.1,\"#c51b7d\"],[0.2,\"#de77ae\"],[0.3,\"#f1b6da\"],[0.4,\"#fde0ef\"],[0.5,\"#f7f7f7\"],[0.6,\"#e6f5d0\"],[0.7,\"#b8e186\"],[0.8,\"#7fbc41\"],[0.9,\"#4d9221\"],[1,\"#276419\"]]},\"xaxis\":{\"gridcolor\":\"white\",\"linecolor\":\"white\",\"ticks\":\"\",\"title\":{\"standoff\":15},\"zerolinecolor\":\"white\",\"automargin\":true,\"zerolinewidth\":2},\"yaxis\":{\"gridcolor\":\"white\",\"linecolor\":\"white\",\"ticks\":\"\",\"title\":{\"standoff\":15},\"zerolinecolor\":\"white\",\"automargin\":true,\"zerolinewidth\":2},\"scene\":{\"xaxis\":{\"backgroundcolor\":\"#E5ECF6\",\"gridcolor\":\"white\",\"linecolor\":\"white\",\"showbackground\":true,\"ticks\":\"\",\"zerolinecolor\":\"white\",\"gridwidth\":2},\"yaxis\":{\"backgroundcolor\":\"#E5ECF6\",\"gridcolor\":\"white\",\"linecolor\":\"white\",\"showbackground\":true,\"ticks\":\"\",\"zerolinecolor\":\"white\",\"gridwidth\":2},\"zaxis\":{\"backgroundcolor\":\"#E5ECF6\",\"gridcolor\":\"white\",\"linecolor\":\"white\",\"showbackground\":true,\"ticks\":\"\",\"zerolinecolor\":\"white\",\"gridwidth\":2}},\"shapedefaults\":{\"line\":{\"color\":\"#2a3f5f\"}},\"annotationdefaults\":{\"arrowcolor\":\"#2a3f5f\",\"arrowhead\":0,\"arrowwidth\":1},\"geo\":{\"bgcolor\":\"white\",\"landcolor\":\"#E5ECF6\",\"subunitcolor\":\"white\",\"showland\":true,\"showlakes\":true,\"lakecolor\":\"white\"},\"title\":{\"x\":0.05},\"mapbox\":{\"style\":\"light\"}}},\"yaxis2\":{\"anchor\":\"x\",\"gridcolor\":\"#E1E5ED\",\"overlaying\":\"y\",\"showgrid\":true,\"side\":\"right\",\"tickfont\":{\"color\":\"#4D5663\"},\"title\":{\"text\":\"Volume\"},\"zerolinecolor\":\"#E1E5ED\"}},                        {\"showLink\": true, \"linkText\": \"Export to plot.ly\", \"plotlyServerURL\": \"https://plot.ly\", \"responsive\": true}                    ).then(function(){\n",
       "                            \n",
       "var gd = document.getElementById('35138db2-0511-4945-8dca-1d030742701a');\n",
       "var x = new MutationObserver(function (mutations, observer) {{\n",
       "        var display = window.getComputedStyle(gd).display;\n",
       "        if (!display || display === 'none') {{\n",
       "            console.log([gd, 'removed!']);\n",
       "            Plotly.purge(gd);\n",
       "            observer.disconnect();\n",
       "        }}\n",
       "}});\n",
       "\n",
       "// Listen for the removal of the full notebook cells\n",
       "var notebookContainer = gd.closest('#notebook-container');\n",
       "if (notebookContainer) {{\n",
       "    x.observe(notebookContainer, {childList: true});\n",
       "}}\n",
       "\n",
       "// Listen for the clearing of the current output cell\n",
       "var outputEl = gd.closest('.output');\n",
       "if (outputEl) {{\n",
       "    x.observe(outputEl, {childList: true});\n",
       "}}\n",
       "\n",
       "                        })                };                });            </script>        </div>"
      ]
     },
     "metadata": {},
     "output_type": "display_data"
    }
   ],
   "source": [
    "df.iloc[-150:].iplot(y=\"price\",\n",
    "               secondary_y='total_volume', secondary_y_title=\"Volume\",\n",
    "               xTitle=\"Date\");"
   ]
  },
  {
   "cell_type": "code",
   "execution_count": 35,
   "id": "77a7b6c1",
   "metadata": {},
   "outputs": [
    {
     "data": {
      "text/plain": [
       "snapped_at\n",
       "2013-04-28 00:00:00+00:00             NaN\n",
       "2013-04-29 00:00:00+00:00             NaN\n",
       "2013-04-30 00:00:00+00:00    0.000000e+00\n",
       "2013-05-01 00:00:00+00:00    0.000000e+00\n",
       "2013-05-02 00:00:00+00:00    0.000000e+00\n",
       "                                 ...     \n",
       "2022-09-17 00:00:00+00:00    3.578902e+10\n",
       "2022-09-18 00:00:00+00:00    3.371596e+10\n",
       "2022-09-19 00:00:00+00:00    3.018774e+10\n",
       "2022-09-20 00:00:00+00:00    2.339449e+10\n",
       "2022-09-21 00:00:00+00:00    2.868976e+10\n",
       "Freq: D, Name: total_volume, Length: 3434, dtype: float64"
      ]
     },
     "execution_count": 35,
     "metadata": {},
     "output_type": "execute_result"
    }
   ],
   "source": [
    "df['total_volume'].shift(2)"
   ]
  },
  {
   "cell_type": "code",
   "execution_count": null,
   "id": "6ecbeb0a",
   "metadata": {},
   "outputs": [],
   "source": []
  }
 ],
 "metadata": {
  "kernelspec": {
   "display_name": "Python 3",
   "language": "python",
   "name": "python3"
  },
  "language_info": {
   "codemirror_mode": {
    "name": "ipython",
    "version": 3
   },
   "file_extension": ".py",
   "mimetype": "text/x-python",
   "name": "python",
   "nbconvert_exporter": "python",
   "pygments_lexer": "ipython3",
   "version": "3.8.8"
  }
 },
 "nbformat": 4,
 "nbformat_minor": 5
}
