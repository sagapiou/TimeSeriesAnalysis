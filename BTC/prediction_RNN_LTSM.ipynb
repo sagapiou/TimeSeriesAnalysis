{
 "cells": [
  {
   "cell_type": "code",
   "execution_count": 77,
   "id": "82f30983",
   "metadata": {},
   "outputs": [
    {
     "data": {
      "text/html": [
       "        <script type=\"text/javascript\">\n",
       "        window.PlotlyConfig = {MathJaxConfig: 'local'};\n",
       "        if (window.MathJax && window.MathJax.Hub && window.MathJax.Hub.Config) {window.MathJax.Hub.Config({SVG: {font: \"STIX-Web\"}});}\n",
       "        if (typeof require !== 'undefined') {\n",
       "        require.undef(\"plotly\");\n",
       "        requirejs.config({\n",
       "            paths: {\n",
       "                'plotly': ['https://cdn.plot.ly/plotly-2.14.0.min']\n",
       "            }\n",
       "        });\n",
       "        require(['plotly'], function(Plotly) {\n",
       "            window._Plotly = Plotly;\n",
       "        });\n",
       "        }\n",
       "        </script>\n",
       "        "
      ]
     },
     "metadata": {},
     "output_type": "display_data"
    },
    {
     "data": {
      "text/html": [
       "        <script type=\"text/javascript\">\n",
       "        window.PlotlyConfig = {MathJaxConfig: 'local'};\n",
       "        if (window.MathJax && window.MathJax.Hub && window.MathJax.Hub.Config) {window.MathJax.Hub.Config({SVG: {font: \"STIX-Web\"}});}\n",
       "        if (typeof require !== 'undefined') {\n",
       "        require.undef(\"plotly\");\n",
       "        requirejs.config({\n",
       "            paths: {\n",
       "                'plotly': ['https://cdn.plot.ly/plotly-2.14.0.min']\n",
       "            }\n",
       "        });\n",
       "        require(['plotly'], function(Plotly) {\n",
       "            window._Plotly = Plotly;\n",
       "        });\n",
       "        }\n",
       "        </script>\n",
       "        "
      ]
     },
     "metadata": {},
     "output_type": "display_data"
    }
   ],
   "source": [
    "import numpy as np\n",
    "import pandas as pd\n",
    "import cufflinks as cf\n",
    "from plotly import __version__\n",
    "from plotly.offline import download_plotlyjs, init_notebook_mode, plot, iplot \n",
    "import plotly.express as px\n",
    "from datetime import datetime,date\n",
    "\n",
    "%matplotlib inline\n",
    "init_notebook_mode(connected=True)\n",
    "cf.set_config_file(sharing='private',theme='pearl',offline=True)\n",
    "#print(\"Cufflinks Version : {}\".format(cf.__version__))\n",
    "\n",
    "df = pd.read_csv('./data/btc-usd-max.csv',index_col=0,parse_dates=True )\n",
    "df = df.resample('D').first()\n",
    "df.drop([\"market_cap\", \"total_volume\"], axis=1, inplace=True)\n",
    "df['price'].fillna(method='ffill', inplace=True)\n",
    "# to get the log price\n",
    "# df['price'] = np.log(df['price'])\n",
    "df2 = pd.read_csv('./data/eth-usd-max.csv',index_col=0,parse_dates=True )\n",
    "df2.drop([\"market_cap\", \"total_volume\"], axis=1, inplace=True)\n",
    "df2 = df2.resample('D').first()\n",
    "df2['price'].fillna(method='ffill', inplace=True)\n",
    "# to get the log price\n",
    "# df['price'] = np.log(df['price'])"
   ]
  },
  {
   "cell_type": "code",
   "execution_count": 78,
   "id": "0b197cc6",
   "metadata": {},
   "outputs": [],
   "source": [
    "def first_day(entry):\n",
    "    \"\"\"\n",
    "    Returns the first instance of the period, regardless of sampling rate.\n",
    "    \"\"\"\n",
    "    if len(entry):  # handles the case of missing data\n",
    "        return entry[0]"
   ]
  },
  {
   "cell_type": "code",
   "execution_count": 79,
   "id": "074bb400",
   "metadata": {},
   "outputs": [],
   "source": [
    "# here i will use monthly data\n",
    "df2= df2.resample(rule='MS').apply(first_day)"
   ]
  },
  {
   "cell_type": "code",
   "execution_count": 80,
   "id": "fc7cd525",
   "metadata": {},
   "outputs": [],
   "source": [
    "from statsmodels.tsa.seasonal import seasonal_decompose"
   ]
  },
  {
   "cell_type": "code",
   "execution_count": 81,
   "id": "2001db95",
   "metadata": {},
   "outputs": [
    {
     "data": {
      "text/plain": [
       "<AxesSubplot:xlabel='snapped_at'>"
      ]
     },
     "execution_count": 81,
     "metadata": {},
     "output_type": "execute_result"
    },
    {
     "data": {
      "image/png": "[encoded data removed]",
      "text/plain": [
       "<Figure size 864x144 with 1 Axes>"
      ]
     },
     "metadata": {
      "needs_background": "light"
     },
     "output_type": "display_data"
    }
   ],
   "source": [
    "results = seasonal_decompose(df2['price'])\n",
    "results.observed.plot(figsize=(12,2))"
   ]
  },
  {
   "cell_type": "code",
   "execution_count": 82,
   "id": "bf986265",
   "metadata": {},
   "outputs": [
    {
     "data": {
      "text/plain": [
       "<AxesSubplot:xlabel='snapped_at'>"
      ]
     },
     "execution_count": 82,
     "metadata": {},
     "output_type": "execute_result"
    },
    {
     "data": {
      "image/png": "[encoded data removed]",
      "text/plain": [
       "<Figure size 864x144 with 1 Axes>"
      ]
     },
     "metadata": {
      "needs_background": "light"
     },
     "output_type": "display_data"
    }
   ],
   "source": [
    "results.trend.plot(figsize=(12,2))"
   ]
  },
  {
   "cell_type": "code",
   "execution_count": 83,
   "id": "1911e3fc",
   "metadata": {},
   "outputs": [
    {
     "data": {
      "text/plain": [
       "<AxesSubplot:xlabel='snapped_at'>"
      ]
     },
     "execution_count": 83,
     "metadata": {},
     "output_type": "execute_result"
    },
    {
     "data": {
      "image/png": "[encoded data removed]",
      "text/plain": [
       "<Figure size 864x144 with 1 Axes>"
      ]
     },
     "metadata": {
      "needs_background": "light"
     },
     "output_type": "display_data"
    }
   ],
   "source": [
    "results.seasonal.plot(figsize=(12,2))"
   ]
  },
  {
   "cell_type": "code",
   "execution_count": 84,
   "id": "bc666880",
   "metadata": {},
   "outputs": [
    {
     "data": {
      "text/plain": [
       "86"
      ]
     },
     "execution_count": 84,
     "metadata": {},
     "output_type": "execute_result"
    }
   ],
   "source": [
    "len(df2)"
   ]
  },
  {
   "cell_type": "code",
   "execution_count": 85,
   "id": "be91141b",
   "metadata": {},
   "outputs": [],
   "source": [
    "train = df2.iloc[:-6]\n",
    "test = df2.iloc[-6:]"
   ]
  },
  {
   "cell_type": "code",
   "execution_count": 86,
   "id": "5161862b",
   "metadata": {},
   "outputs": [],
   "source": [
    "from sklearn.preprocessing import MinMaxScaler"
   ]
  },
  {
   "cell_type": "code",
   "execution_count": 87,
   "id": "1337d5df",
   "metadata": {},
   "outputs": [],
   "source": [
    "scaler = MinMaxScaler(feature_range=(0, 1))"
   ]
  },
  {
   "cell_type": "code",
   "execution_count": 88,
   "id": "3098bcba",
   "metadata": {},
   "outputs": [
    {
     "data": {
      "text/plain": [
       "MinMaxScaler()"
      ]
     },
     "execution_count": 88,
     "metadata": {},
     "output_type": "execute_result"
    }
   ],
   "source": [
    "# we do this just on the training data as in real life we have no idea of the actual datra to fit for the test set\n",
    "scaler.fit(train) # finds the max value in the training set"
   ]
  },
  {
   "cell_type": "code",
   "execution_count": 89,
   "id": "01b81432",
   "metadata": {},
   "outputs": [],
   "source": [
    "# transform the training and test data via the scaler object above. MinMaxscaler doesnt simply divide \n",
    "# by athe max or min value... it uses more complex method\n",
    "scaled_train = scaler.transform(train)\n",
    "scaled_test = scaler.transform(test)"
   ]
  },
  {
   "cell_type": "code",
   "execution_count": 90,
   "id": "bbea02a7",
   "metadata": {},
   "outputs": [],
   "source": [
    "# now everything is scaled we need to createa timeseries generator to feed the neural network\n",
    "from keras.preprocessing.sequence import TimeseriesGenerator"
   ]
  },
  {
   "cell_type": "code",
   "execution_count": 91,
   "id": "f2f5034a",
   "metadata": {},
   "outputs": [],
   "source": [
    "# define generator\n",
    "# n_input means I will take the first 2 values and predict the third and so on\n",
    "# the generatr creates this structure based on the inputs and the scaled train data\n",
    "n_input = 2\n",
    "n_features = 1\n",
    "generator = TimeseriesGenerator(scaled_train, scaled_train, length=n_input, batch_size=1)"
   ]
  },
  {
   "cell_type": "code",
   "execution_count": 92,
   "id": "411ae90e",
   "metadata": {},
   "outputs": [
    {
     "data": {
      "text/plain": [
       "80"
      ]
     },
     "execution_count": 92,
     "metadata": {},
     "output_type": "execute_result"
    }
   ],
   "source": [
    "len(scaled_train)"
   ]
  },
  {
   "cell_type": "code",
   "execution_count": 93,
   "id": "435e4613",
   "metadata": {},
   "outputs": [
    {
     "data": {
      "text/plain": [
       "78"
      ]
     },
     "execution_count": 93,
     "metadata": {},
     "output_type": "execute_result"
    }
   ],
   "source": [
    "len(generator) # n_input = 2"
   ]
  },
  {
   "cell_type": "code",
   "execution_count": 94,
   "id": "812954d3",
   "metadata": {},
   "outputs": [
    {
     "data": {
      "text/plain": [
       "array([[0.]])"
      ]
     },
     "execution_count": 94,
     "metadata": {},
     "output_type": "execute_result"
    }
   ],
   "source": [
    "# What does the first batch look like?\n",
    "X,y = generator[0]\n",
    "y"
   ]
  },
  {
   "cell_type": "code",
   "execution_count": 95,
   "id": "b11f65a4",
   "metadata": {},
   "outputs": [
    {
     "name": "stdout",
     "output_type": "stream",
     "text": [
      "Given the Array: \n",
      "[0.00046281 0.00014342]\n",
      "Predict this y: \n",
      " [[0.]]\n"
     ]
    }
   ],
   "source": [
    "print(f'Given the Array: \\n{X.flatten()}')\n",
    "print(f'Predict this y: \\n {y}')"
   ]
  },
  {
   "cell_type": "code",
   "execution_count": null,
   "id": "b3e47db9",
   "metadata": {},
   "outputs": [],
   "source": []
  },
  {
   "cell_type": "code",
   "execution_count": 159,
   "id": "773c3fc4",
   "metadata": {},
   "outputs": [],
   "source": [
    "# Redefine to get 12 months back and then predict the next month out\n",
    "n_input = 48\n",
    "n_features = 1 # for time series it is 1 as we have one output the prediction (one column of data)\n",
    "generator = TimeseriesGenerator(scaled_train, scaled_train, length=n_input, batch_size=1)"
   ]
  },
  {
   "cell_type": "code",
   "execution_count": 160,
   "id": "05b86645",
   "metadata": {},
   "outputs": [],
   "source": [
    "# What does the first batch look like?\n",
    "X,y = generator[0]"
   ]
  },
  {
   "cell_type": "code",
   "execution_count": 161,
   "id": "f2edc1fd",
   "metadata": {},
   "outputs": [
    {
     "name": "stdout",
     "output_type": "stream",
     "text": [
      "Given the Array: \n",
      "[4.62814088e-04 1.43423640e-04 0.00000000e+00 8.03914402e-05\n",
      " 4.08054411e-05 5.61856487e-05 3.31304246e-04 1.48267875e-03\n",
      " 2.36178394e-03 1.75709155e-03 2.84100249e-03 2.51137604e-03\n",
      " 2.21777807e-03 2.44089766e-03 2.71415707e-03 2.17977248e-03\n",
      " 1.67239957e-03 1.59151946e-03 2.16010264e-03 3.55493276e-03\n",
      " 1.07280630e-02 1.64264898e-02 4.76966076e-02 5.64641186e-02\n",
      " 4.88294812e-02 8.31796796e-02 6.44868363e-02 6.29027854e-02\n",
      " 1.01193608e-01 1.67239352e-01 2.38427190e-01 1.82398600e-01\n",
      " 8.52186001e-02 1.42792212e-01 1.23163854e-01 9.67864652e-02\n",
      " 9.31026167e-02 6.07228005e-02 5.00590503e-02 4.26951316e-02\n",
      " 2.43111467e-02 2.82054833e-02 2.27869398e-02 2.90751080e-02\n",
      " 3.03898475e-02 3.45219661e-02 5.76822884e-02 6.30124251e-02]\n",
      "Predict this y: \n",
      " [[0.04700319]]\n"
     ]
    }
   ],
   "source": [
    "print(f'Given the Array: \\n{X.flatten()}')\n",
    "print(f'Predict this y: \\n {y}')"
   ]
  },
  {
   "cell_type": "code",
   "execution_count": 162,
   "id": "6ef67d5d",
   "metadata": {},
   "outputs": [],
   "source": [
    "# Create the model , train it and test it\n",
    "from keras.models import Sequential\n",
    "from keras.layers import Dense\n",
    "from keras.layers import LSTM"
   ]
  },
  {
   "cell_type": "code",
   "execution_count": 163,
   "id": "9ec57d0c",
   "metadata": {},
   "outputs": [],
   "source": [
    "# define model\n",
    "model = Sequential()\n",
    "# 100 is the number of neurons. we play around to find a good number and you play around\n",
    "model.add(LSTM(300, activation='relu', input_shape=(n_input, n_features)))\n",
    "model.add(Dense(1))\n",
    "model.compile(optimizer='adam', loss='mse')"
   ]
  },
  {
   "cell_type": "code",
   "execution_count": 164,
   "id": "934a9573",
   "metadata": {},
   "outputs": [
    {
     "name": "stdout",
     "output_type": "stream",
     "text": [
      "Model: \"sequential_3\"\n",
      "_________________________________________________________________\n",
      " Layer (type)                Output Shape              Param #   \n",
      "=================================================================\n",
      " lstm_3 (LSTM)               (None, 300)               362400    \n",
      "                                                                 \n",
      " dense_3 (Dense)             (None, 1)                 301       \n",
      "                                                                 \n",
      "=================================================================\n",
      "Total params: 362,701\n",
      "Trainable params: 362,701\n",
      "Non-trainable params: 0\n",
      "_________________________________________________________________\n"
     ]
    }
   ],
   "source": [
    "model.summary()"
   ]
  },
  {
   "cell_type": "code",
   "execution_count": 165,
   "id": "2c5f5237",
   "metadata": {},
   "outputs": [
    {
     "name": "stdout",
     "output_type": "stream",
     "text": [
      "Epoch 1/100\n",
      "32/32 [==============================] - 2s 36ms/step - loss: 0.1064\n",
      "Epoch 2/100\n",
      "32/32 [==============================] - 1s 36ms/step - loss: 0.0412\n",
      "Epoch 3/100\n",
      "32/32 [==============================] - 1s 36ms/step - loss: 0.0337\n",
      "Epoch 4/100\n",
      "32/32 [==============================] - 1s 36ms/step - loss: 0.0278\n",
      "Epoch 5/100\n",
      "32/32 [==============================] - 1s 36ms/step - loss: 0.0217\n",
      "Epoch 6/100\n",
      "32/32 [==============================] - 1s 31ms/step - loss: 0.0239\n",
      "Epoch 7/100\n",
      "32/32 [==============================] - 1s 27ms/step - loss: 0.0192\n",
      "Epoch 8/100\n",
      "32/32 [==============================] - 1s 35ms/step - loss: 0.0092\n",
      "Epoch 9/100\n",
      "32/32 [==============================] - 1s 33ms/step - loss: 0.0184\n",
      "Epoch 10/100\n",
      "32/32 [==============================] - 1s 36ms/step - loss: 0.0132\n",
      "Epoch 11/100\n",
      "32/32 [==============================] - 1s 34ms/step - loss: 0.0131\n",
      "Epoch 12/100\n",
      "32/32 [==============================] - 1s 36ms/step - loss: 0.0145\n",
      "Epoch 13/100\n",
      "32/32 [==============================] - 1s 36ms/step - loss: 0.0106\n",
      "Epoch 14/100\n",
      "32/32 [==============================] - 1s 31ms/step - loss: 0.0133\n",
      "Epoch 15/100\n",
      "32/32 [==============================] - 1s 30ms/step - loss: 0.0089\n",
      "Epoch 16/100\n",
      "32/32 [==============================] - 1s 38ms/step - loss: 0.0159\n",
      "Epoch 17/100\n",
      "32/32 [==============================] - 2s 49ms/step - loss: 0.0189\n",
      "Epoch 18/100\n",
      "32/32 [==============================] - 2s 77ms/step - loss: 0.0160\n",
      "Epoch 19/100\n",
      "32/32 [==============================] - 2s 61ms/step - loss: 0.0120\n",
      "Epoch 20/100\n",
      "32/32 [==============================] - 2s 69ms/step - loss: 0.0090\n",
      "Epoch 21/100\n",
      "32/32 [==============================] - 2s 50ms/step - loss: 0.0091\n",
      "Epoch 22/100\n",
      "32/32 [==============================] - 1s 42ms/step - loss: 0.0081\n",
      "Epoch 23/100\n",
      "32/32 [==============================] - 1s 41ms/step - loss: 0.0108\n",
      "Epoch 24/100\n",
      "32/32 [==============================] - 1s 41ms/step - loss: 0.0092\n",
      "Epoch 25/100\n",
      "32/32 [==============================] - 1s 41ms/step - loss: 0.0087\n",
      "Epoch 26/100\n",
      "32/32 [==============================] - 1s 40ms/step - loss: 0.0087\n",
      "Epoch 27/100\n",
      "32/32 [==============================] - 1s 40ms/step - loss: 0.0077\n",
      "Epoch 28/100\n",
      "32/32 [==============================] - 2s 60ms/step - loss: 0.0091\n",
      "Epoch 29/100\n",
      "32/32 [==============================] - 3s 79ms/step - loss: 0.0096\n",
      "Epoch 30/100\n",
      "32/32 [==============================] - 2s 73ms/step - loss: 0.0090\n",
      "Epoch 31/100\n",
      "32/32 [==============================] - 2s 70ms/step - loss: 0.0107\n",
      "Epoch 32/100\n",
      "32/32 [==============================] - 1s 43ms/step - loss: 0.0093\n",
      "Epoch 33/100\n",
      "32/32 [==============================] - 1s 41ms/step - loss: 0.0074\n",
      "Epoch 34/100\n",
      "32/32 [==============================] - 1s 40ms/step - loss: 0.0096\n",
      "Epoch 35/100\n",
      "32/32 [==============================] - 2s 54ms/step - loss: 0.0091\n",
      "Epoch 36/100\n",
      "32/32 [==============================] - 2s 51ms/step - loss: 0.0099\n",
      "Epoch 37/100\n",
      "32/32 [==============================] - 2s 61ms/step - loss: 0.0080\n",
      "Epoch 38/100\n",
      "32/32 [==============================] - 2s 58ms/step - loss: 0.0093\n",
      "Epoch 39/100\n",
      "32/32 [==============================] - 1s 46ms/step - loss: 0.0103\n",
      "Epoch 40/100\n",
      "32/32 [==============================] - 1s 41ms/step - loss: 0.0093\n",
      "Epoch 41/100\n",
      "32/32 [==============================] - 1s 43ms/step - loss: 0.0106\n",
      "Epoch 42/100\n",
      "32/32 [==============================] - 1s 44ms/step - loss: 0.0080\n",
      "Epoch 43/100\n",
      "32/32 [==============================] - 1s 44ms/step - loss: 0.0119\n",
      "Epoch 44/100\n",
      "32/32 [==============================] - 2s 67ms/step - loss: 0.0094\n",
      "Epoch 45/100\n",
      "32/32 [==============================] - 2s 63ms/step - loss: 0.0080\n",
      "Epoch 46/100\n",
      "32/32 [==============================] - 2s 55ms/step - loss: 0.0076\n",
      "Epoch 47/100\n",
      "32/32 [==============================] - 2s 60ms/step - loss: 0.0079\n",
      "Epoch 48/100\n",
      "32/32 [==============================] - 2s 59ms/step - loss: 0.0080\n",
      "Epoch 49/100\n",
      "32/32 [==============================] - 2s 52ms/step - loss: 0.0068\n",
      "Epoch 50/100\n",
      "32/32 [==============================] - 2s 47ms/step - loss: 0.0076\n",
      "Epoch 51/100\n",
      "32/32 [==============================] - 2s 48ms/step - loss: 0.0068\n",
      "Epoch 52/100\n",
      "32/32 [==============================] - 2s 47ms/step - loss: 0.0067\n",
      "Epoch 53/100\n",
      "32/32 [==============================] - 2s 46ms/step - loss: 0.0068\n",
      "Epoch 54/100\n",
      "32/32 [==============================] - 2s 49ms/step - loss: 0.0065\n",
      "Epoch 55/100\n",
      "32/32 [==============================] - 2s 54ms/step - loss: 0.0075\n",
      "Epoch 56/100\n",
      "32/32 [==============================] - 2s 56ms/step - loss: 0.0073\n",
      "Epoch 57/100\n",
      "32/32 [==============================] - 2s 53ms/step - loss: 0.0078\n",
      "Epoch 58/100\n",
      "32/32 [==============================] - 2s 50ms/step - loss: 0.0068\n",
      "Epoch 59/100\n",
      "32/32 [==============================] - 2s 51ms/step - loss: 0.0065\n",
      "Epoch 60/100\n",
      "32/32 [==============================] - 2s 50ms/step - loss: 0.0077\n",
      "Epoch 61/100\n",
      "32/32 [==============================] - 2s 46ms/step - loss: 0.0066\n",
      "Epoch 62/100\n",
      "32/32 [==============================] - 2s 54ms/step - loss: 0.0077\n",
      "Epoch 63/100\n",
      "32/32 [==============================] - 2s 66ms/step - loss: 0.0070\n",
      "Epoch 64/100\n",
      "32/32 [==============================] - 2s 60ms/step - loss: 0.0075\n",
      "Epoch 65/100\n",
      "32/32 [==============================] - 2s 64ms/step - loss: 0.0074\n",
      "Epoch 66/100\n",
      "32/32 [==============================] - 2s 62ms/step - loss: 0.0097\n",
      "Epoch 67/100\n",
      "32/32 [==============================] - 2s 50ms/step - loss: 0.0177\n",
      "Epoch 68/100\n",
      "32/32 [==============================] - 2s 47ms/step - loss: 0.0090\n",
      "Epoch 69/100\n",
      "32/32 [==============================] - 1s 45ms/step - loss: 0.0075\n",
      "Epoch 70/100\n",
      "32/32 [==============================] - 2s 50ms/step - loss: 0.0068\n",
      "Epoch 71/100\n",
      "32/32 [==============================] - 3s 80ms/step - loss: 0.0076\n",
      "Epoch 72/100\n",
      "32/32 [==============================] - 3s 78ms/step - loss: 0.0087\n",
      "Epoch 73/100\n",
      "32/32 [==============================] - 3s 79ms/step - loss: 0.0100\n",
      "Epoch 74/100\n",
      "32/32 [==============================] - 2s 70ms/step - loss: 0.0096\n",
      "Epoch 75/100\n",
      "32/32 [==============================] - 2s 65ms/step - loss: 0.0080\n",
      "Epoch 76/100\n",
      "32/32 [==============================] - 2s 58ms/step - loss: 0.0074\n",
      "Epoch 77/100\n",
      "32/32 [==============================] - 2s 60ms/step - loss: 0.0065\n",
      "Epoch 78/100\n",
      "32/32 [==============================] - 3s 85ms/step - loss: 0.0070\n",
      "Epoch 79/100\n",
      "32/32 [==============================] - 2s 74ms/step - loss: 0.0067\n",
      "Epoch 80/100\n",
      "32/32 [==============================] - 2s 77ms/step - loss: 0.0065\n",
      "Epoch 81/100\n",
      "32/32 [==============================] - 2s 70ms/step - loss: 0.0065\n",
      "Epoch 82/100\n",
      "32/32 [==============================] - 2s 57ms/step - loss: 0.0063\n",
      "Epoch 83/100\n",
      "32/32 [==============================] - 2s 67ms/step - loss: 0.0066\n",
      "Epoch 84/100\n",
      "32/32 [==============================] - 2s 63ms/step - loss: 0.0068\n",
      "Epoch 85/100\n",
      "32/32 [==============================] - 1s 46ms/step - loss: 0.0081\n",
      "Epoch 86/100\n",
      "32/32 [==============================] - 2s 59ms/step - loss: 0.0071\n",
      "Epoch 87/100\n",
      "32/32 [==============================] - 2s 47ms/step - loss: 0.0060\n",
      "Epoch 88/100\n",
      "32/32 [==============================] - 2s 57ms/step - loss: 0.0061\n",
      "Epoch 89/100\n",
      "32/32 [==============================] - 2s 47ms/step - loss: 0.0072\n",
      "Epoch 90/100\n",
      "32/32 [==============================] - 1s 41ms/step - loss: 0.0065\n",
      "Epoch 91/100\n",
      "32/32 [==============================] - 1s 45ms/step - loss: 0.0066\n",
      "Epoch 92/100\n",
      "32/32 [==============================] - 2s 47ms/step - loss: 0.0065\n",
      "Epoch 93/100\n",
      "32/32 [==============================] - 2s 48ms/step - loss: 0.0067\n",
      "Epoch 94/100\n",
      "32/32 [==============================] - 2s 59ms/step - loss: 0.0095\n",
      "Epoch 95/100\n",
      "32/32 [==============================] - 2s 58ms/step - loss: 0.0078\n",
      "Epoch 96/100\n",
      "32/32 [==============================] - 2s 52ms/step - loss: 0.0074\n",
      "Epoch 97/100\n",
      "32/32 [==============================] - 2s 61ms/step - loss: 0.0105\n",
      "Epoch 98/100\n",
      "32/32 [==============================] - 2s 56ms/step - loss: 0.0074\n",
      "Epoch 99/100\n",
      "32/32 [==============================] - 2s 51ms/step - loss: 0.0075\n",
      "Epoch 100/100\n",
      "32/32 [==============================] - 1s 44ms/step - loss: 0.0056\n"
     ]
    },
    {
     "data": {
      "text/plain": [
       "<keras.callbacks.History at 0x1ab7322ea00>"
      ]
     },
     "execution_count": 165,
     "metadata": {},
     "output_type": "execute_result"
    }
   ],
   "source": [
    "# 1 epoch is a single run through all our data\n",
    "model.fit(generator,epochs=100)"
   ]
  },
  {
   "cell_type": "code",
   "execution_count": 166,
   "id": "c7212849",
   "metadata": {},
   "outputs": [
    {
     "data": {
      "text/plain": [
       "dict_keys(['loss'])"
      ]
     },
     "execution_count": 166,
     "metadata": {},
     "output_type": "execute_result"
    }
   ],
   "source": [
    "model.history.history.keys()"
   ]
  },
  {
   "cell_type": "code",
   "execution_count": 167,
   "id": "4ce02ecf",
   "metadata": {},
   "outputs": [
    {
     "data": {
      "text/plain": [
       "[<matplotlib.lines.Line2D at 0x1ab72fc9d90>]"
      ]
     },
     "execution_count": 167,
     "metadata": {},
     "output_type": "execute_result"
    },
    {
     "data": {
      "image/png": "[encoded data removed]",
      "text/plain": [
       "<Figure size 432x288 with 1 Axes>"
      ]
     },
     "metadata": {
      "needs_background": "light"
     },
     "output_type": "display_data"
    }
   ],
   "source": [
    "import matplotlib.pyplot as plt\n",
    "loss_per_epoch = model.history.history['loss']\n",
    "plt.plot(range(len(loss_per_epoch)),loss_per_epoch)"
   ]
  },
  {
   "cell_type": "code",
   "execution_count": 172,
   "id": "07a673d5",
   "metadata": {},
   "outputs": [],
   "source": [
    "# our model takes the last 12 history steps and predicts the next one \n",
    "first_eval_batch = scaled_train[-48:]"
   ]
  },
  {
   "cell_type": "code",
   "execution_count": 173,
   "id": "9550ca77",
   "metadata": {},
   "outputs": [
    {
     "data": {
      "text/plain": [
       "array([[0.0852186 ],\n",
       "       [0.14279221],\n",
       "       [0.12316385],\n",
       "       [0.09678647],\n",
       "       [0.09310262],\n",
       "       [0.0607228 ],\n",
       "       [0.05005905],\n",
       "       [0.04269513],\n",
       "       [0.02431115],\n",
       "       [0.02820548],\n",
       "       [0.02278694],\n",
       "       [0.02907511],\n",
       "       [0.03038985],\n",
       "       [0.03452197],\n",
       "       [0.05768229],\n",
       "       [0.06301243],\n",
       "       [0.04700319],\n",
       "       [0.03696528],\n",
       "       [0.03862263],\n",
       "       [0.03926936],\n",
       "       [0.03257891],\n",
       "       [0.02771538],\n",
       "       [0.03850874],\n",
       "       [0.04694609],\n",
       "       [0.02858891],\n",
       "       [0.044187  ],\n",
       "       [0.04996191],\n",
       "       [0.0485086 ],\n",
       "       [0.07447913],\n",
       "       [0.09382362],\n",
       "       [0.07741144],\n",
       "       [0.08307217],\n",
       "       [0.13190692],\n",
       "       [0.15915914],\n",
       "       [0.28391672],\n",
       "       [0.30540178],\n",
       "       [0.41306443],\n",
       "       [0.59873964],\n",
       "       [0.58401414],\n",
       "       [0.49146984],\n",
       "       [0.54804787],\n",
       "       [0.7419226 ],\n",
       "       [0.64981109],\n",
       "       [0.92557189],\n",
       "       [1.        ],\n",
       "       [0.79494614],\n",
       "       [0.57987108],\n",
       "       [0.62949414]])"
      ]
     },
     "execution_count": 173,
     "metadata": {},
     "output_type": "execute_result"
    }
   ],
   "source": [
    "first_eval_batch"
   ]
  },
  {
   "cell_type": "code",
   "execution_count": 174,
   "id": "7cbcba32",
   "metadata": {},
   "outputs": [],
   "source": [
    "# reshape the first eval batch\n",
    "first_eval_batch = first_eval_batch.reshape((1, n_input, n_features))"
   ]
  },
  {
   "cell_type": "code",
   "execution_count": 175,
   "id": "78c6cdf1",
   "metadata": {},
   "outputs": [
    {
     "data": {
      "text/plain": [
       "array([[[0.0852186 ],\n",
       "        [0.14279221],\n",
       "        [0.12316385],\n",
       "        [0.09678647],\n",
       "        [0.09310262],\n",
       "        [0.0607228 ],\n",
       "        [0.05005905],\n",
       "        [0.04269513],\n",
       "        [0.02431115],\n",
       "        [0.02820548],\n",
       "        [0.02278694],\n",
       "        [0.02907511],\n",
       "        [0.03038985],\n",
       "        [0.03452197],\n",
       "        [0.05768229],\n",
       "        [0.06301243],\n",
       "        [0.04700319],\n",
       "        [0.03696528],\n",
       "        [0.03862263],\n",
       "        [0.03926936],\n",
       "        [0.03257891],\n",
       "        [0.02771538],\n",
       "        [0.03850874],\n",
       "        [0.04694609],\n",
       "        [0.02858891],\n",
       "        [0.044187  ],\n",
       "        [0.04996191],\n",
       "        [0.0485086 ],\n",
       "        [0.07447913],\n",
       "        [0.09382362],\n",
       "        [0.07741144],\n",
       "        [0.08307217],\n",
       "        [0.13190692],\n",
       "        [0.15915914],\n",
       "        [0.28391672],\n",
       "        [0.30540178],\n",
       "        [0.41306443],\n",
       "        [0.59873964],\n",
       "        [0.58401414],\n",
       "        [0.49146984],\n",
       "        [0.54804787],\n",
       "        [0.7419226 ],\n",
       "        [0.64981109],\n",
       "        [0.92557189],\n",
       "        [1.        ],\n",
       "        [0.79494614],\n",
       "        [0.57987108],\n",
       "        [0.62949414]]])"
      ]
     },
     "execution_count": 175,
     "metadata": {},
     "output_type": "execute_result"
    }
   ],
   "source": [
    "first_eval_batch"
   ]
  },
  {
   "cell_type": "code",
   "execution_count": 176,
   "id": "d90481e3",
   "metadata": {},
   "outputs": [
    {
     "name": "stdout",
     "output_type": "stream",
     "text": [
      "1/1 [==============================] - 0s 186ms/step\n"
     ]
    },
    {
     "data": {
      "text/plain": [
       "array([[0.5872402]], dtype=float32)"
      ]
     },
     "execution_count": 176,
     "metadata": {},
     "output_type": "execute_result"
    }
   ],
   "source": [
    "# to predict basis this first 12 values\n",
    "model.predict(first_eval_batch)"
   ]
  },
  {
   "cell_type": "code",
   "execution_count": 177,
   "id": "ef09bb76",
   "metadata": {},
   "outputs": [
    {
     "name": "stdout",
     "output_type": "stream",
     "text": [
      "1/1 [==============================] - 0s 21ms/step\n",
      "1/1 [==============================] - 0s 30ms/step\n",
      "1/1 [==============================] - 0s 36ms/step\n",
      "1/1 [==============================] - 0s 37ms/step\n",
      "1/1 [==============================] - 0s 25ms/step\n",
      "1/1 [==============================] - 0s 36ms/step\n"
     ]
    }
   ],
   "source": [
    "# in order to actually forecast into the future\n",
    "test_predictions = [] # holding the predictions as we go along\n",
    "\n",
    "# Last n_input points from the training set\n",
    "first_eval_batch = scaled_train[-n_input:]\n",
    "current_batch = first_eval_batch.reshape((1, n_input, n_features))\n",
    "# we use the predicted points to predict further and further into the future \n",
    "# so RNN cannot work very well far into the future\n",
    "# in order to predict into the future we can change the range for example len(test)+6 to forecast another 6 months\n",
    "# or we can use the actual df2 to train and freely forecast into the future!\n",
    "for i in range(len(test)):\n",
    "    \n",
    "    # get prediction 1 time stamp ahead ([0] is for grabbing just the number instead of [array])\n",
    "    current_pred = model.predict(current_batch)[0]\n",
    "    \n",
    "    # store prediction\n",
    "    test_predictions.append(current_pred) \n",
    "    \n",
    "    # update batch to now include prediction and drop first value\n",
    "    current_batch = np.append(current_batch[:,1:,:],[[current_pred]],axis=1)"
   ]
  },
  {
   "cell_type": "code",
   "execution_count": 178,
   "id": "5a64e94c",
   "metadata": {},
   "outputs": [],
   "source": [
    "# Inverse Transformations and Compare\n",
    "true_predictions = scaler.inverse_transform(test_predictions)"
   ]
  },
  {
   "cell_type": "code",
   "execution_count": 179,
   "id": "f4e3c4c2",
   "metadata": {},
   "outputs": [
    {
     "data": {
      "text/plain": [
       "array([[2723.38739003],\n",
       "       [2409.59451434],\n",
       "       [2069.37178001],\n",
       "       [1688.08476995],\n",
       "       [1276.19414022],\n",
       "       [ 840.66412736]])"
      ]
     },
     "execution_count": 179,
     "metadata": {},
     "output_type": "execute_result"
    }
   ],
   "source": [
    "true_predictions"
   ]
  },
  {
   "cell_type": "code",
   "execution_count": 180,
   "id": "9f172504",
   "metadata": {},
   "outputs": [],
   "source": [
    "test['Predictions'] = true_predictions"
   ]
  },
  {
   "cell_type": "code",
   "execution_count": 181,
   "id": "0b468a96",
   "metadata": {},
   "outputs": [
    {
     "data": {
      "text/html": [
       "<div>\n",
       "<style scoped>\n",
       "    .dataframe tbody tr th:only-of-type {\n",
       "        vertical-align: middle;\n",
       "    }\n",
       "\n",
       "    .dataframe tbody tr th {\n",
       "        vertical-align: top;\n",
       "    }\n",
       "\n",
       "    .dataframe thead th {\n",
       "        text-align: right;\n",
       "    }\n",
       "</style>\n",
       "<table border=\"1\" class=\"dataframe\">\n",
       "  <thead>\n",
       "    <tr style=\"text-align: right;\">\n",
       "      <th></th>\n",
       "      <th>price</th>\n",
       "      <th>Predictions</th>\n",
       "    </tr>\n",
       "    <tr>\n",
       "      <th>snapped_at</th>\n",
       "      <th></th>\n",
       "      <th></th>\n",
       "    </tr>\n",
       "  </thead>\n",
       "  <tbody>\n",
       "    <tr>\n",
       "      <th>2022-04-01 00:00:00+00:00</th>\n",
       "      <td>3283.302843</td>\n",
       "      <td>2723.387390</td>\n",
       "    </tr>\n",
       "    <tr>\n",
       "      <th>2022-05-01 00:00:00+00:00</th>\n",
       "      <td>2738.174136</td>\n",
       "      <td>2409.594514</td>\n",
       "    </tr>\n",
       "    <tr>\n",
       "      <th>2022-06-01 00:00:00+00:00</th>\n",
       "      <td>1944.078767</td>\n",
       "      <td>2069.371780</td>\n",
       "    </tr>\n",
       "    <tr>\n",
       "      <th>2022-07-01 00:00:00+00:00</th>\n",
       "      <td>1057.630999</td>\n",
       "      <td>1688.084770</td>\n",
       "    </tr>\n",
       "    <tr>\n",
       "      <th>2022-08-01 00:00:00+00:00</th>\n",
       "      <td>1682.011374</td>\n",
       "      <td>1276.194140</td>\n",
       "    </tr>\n",
       "    <tr>\n",
       "      <th>2022-09-01 00:00:00+00:00</th>\n",
       "      <td>1552.562966</td>\n",
       "      <td>840.664127</td>\n",
       "    </tr>\n",
       "  </tbody>\n",
       "</table>\n",
       "</div>"
      ],
      "text/plain": [
       "                                 price  Predictions\n",
       "snapped_at                                         \n",
       "2022-04-01 00:00:00+00:00  3283.302843  2723.387390\n",
       "2022-05-01 00:00:00+00:00  2738.174136  2409.594514\n",
       "2022-06-01 00:00:00+00:00  1944.078767  2069.371780\n",
       "2022-07-01 00:00:00+00:00  1057.630999  1688.084770\n",
       "2022-08-01 00:00:00+00:00  1682.011374  1276.194140\n",
       "2022-09-01 00:00:00+00:00  1552.562966   840.664127"
      ]
     },
     "execution_count": 181,
     "metadata": {},
     "output_type": "execute_result"
    }
   ],
   "source": [
    "test"
   ]
  },
  {
   "cell_type": "code",
   "execution_count": 182,
   "id": "006f9888",
   "metadata": {},
   "outputs": [
    {
     "data": {
      "text/plain": [
       "<AxesSubplot:xlabel='snapped_at'>"
      ]
     },
     "execution_count": 182,
     "metadata": {},
     "output_type": "execute_result"
    },
    {
     "data": {
      "image/png": "[encoded data removed]",
      "text/plain": [
       "<Figure size 864x576 with 1 Axes>"
      ]
     },
     "metadata": {
      "needs_background": "light"
     },
     "output_type": "display_data"
    }
   ],
   "source": [
    "test.plot(figsize=(12,8))"
   ]
  },
  {
   "cell_type": "code",
   "execution_count": 183,
   "id": "430f8c7e",
   "metadata": {},
   "outputs": [],
   "source": [
    "# in order not to retrain every time we can save the model\n",
    "model.save('my_rnn_model.h5')"
   ]
  },
  {
   "cell_type": "code",
   "execution_count": 184,
   "id": "0256e728",
   "metadata": {},
   "outputs": [
    {
     "name": "stdout",
     "output_type": "stream",
     "text": [
      "Model: \"sequential_3\"\n",
      "_________________________________________________________________\n",
      " Layer (type)                Output Shape              Param #   \n",
      "=================================================================\n",
      " lstm_3 (LSTM)               (None, 300)               362400    \n",
      "                                                                 \n",
      " dense_3 (Dense)             (None, 1)                 301       \n",
      "                                                                 \n",
      "=================================================================\n",
      "Total params: 362,701\n",
      "Trainable params: 362,701\n",
      "Non-trainable params: 0\n",
      "_________________________________________________________________\n"
     ]
    }
   ],
   "source": [
    "# and in order to reload \n",
    "from keras.models import load_model\n",
    "new_model = load_model('my_rnn_model.h5')\n",
    "new_model.summary()"
   ]
  },
  {
   "cell_type": "code",
   "execution_count": null,
   "id": "2144155b",
   "metadata": {},
   "outputs": [],
   "source": []
  }
 ],
 "metadata": {
  "kernelspec": {
   "display_name": "Python 3",
   "language": "python",
   "name": "python3"
  },
  "language_info": {
   "codemirror_mode": {
    "name": "ipython",
    "version": 3
   },
   "file_extension": ".py",
   "mimetype": "text/x-python",
   "name": "python",
   "nbconvert_exporter": "python",
   "pygments_lexer": "ipython3",
   "version": "3.8.8"
  }
 },
 "nbformat": 4,
 "nbformat_minor": 5
}
