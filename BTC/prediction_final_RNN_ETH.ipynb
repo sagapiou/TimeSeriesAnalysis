{
 "cells": [
  {
   "cell_type": "code",
   "execution_count": 1,
   "id": "d79f9807",
   "metadata": {},
   "outputs": [
    {
     "name": "stderr",
     "output_type": "stream",
     "text": [
      "C:\\Users\\sagap\\anaconda3\\lib\\site-packages\\scipy\\__init__.py:138: UserWarning:\n",
      "\n",
      "A NumPy version >=1.16.5 and <1.23.0 is required for this version of SciPy (detected version 1.23.3)\n",
      "\n"
     ]
    },
    {
     "data": {
      "text/html": [
       "        <script type=\"text/javascript\">\n",
       "        window.PlotlyConfig = {MathJaxConfig: 'local'};\n",
       "        if (window.MathJax && window.MathJax.Hub && window.MathJax.Hub.Config) {window.MathJax.Hub.Config({SVG: {font: \"STIX-Web\"}});}\n",
       "        if (typeof require !== 'undefined') {\n",
       "        require.undef(\"plotly\");\n",
       "        requirejs.config({\n",
       "            paths: {\n",
       "                'plotly': ['https://cdn.plot.ly/plotly-2.14.0.min']\n",
       "            }\n",
       "        });\n",
       "        require(['plotly'], function(Plotly) {\n",
       "            window._Plotly = Plotly;\n",
       "        });\n",
       "        }\n",
       "        </script>\n",
       "        "
      ]
     },
     "metadata": {},
     "output_type": "display_data"
    },
    {
     "data": {
      "text/html": [
       "        <script type=\"text/javascript\">\n",
       "        window.PlotlyConfig = {MathJaxConfig: 'local'};\n",
       "        if (window.MathJax && window.MathJax.Hub && window.MathJax.Hub.Config) {window.MathJax.Hub.Config({SVG: {font: \"STIX-Web\"}});}\n",
       "        if (typeof require !== 'undefined') {\n",
       "        require.undef(\"plotly\");\n",
       "        requirejs.config({\n",
       "            paths: {\n",
       "                'plotly': ['https://cdn.plot.ly/plotly-2.14.0.min']\n",
       "            }\n",
       "        });\n",
       "        require(['plotly'], function(Plotly) {\n",
       "            window._Plotly = Plotly;\n",
       "        });\n",
       "        }\n",
       "        </script>\n",
       "        "
      ]
     },
     "metadata": {},
     "output_type": "display_data"
    },
    {
     "data": {
      "text/html": [
       "        <script type=\"text/javascript\">\n",
       "        window.PlotlyConfig = {MathJaxConfig: 'local'};\n",
       "        if (window.MathJax && window.MathJax.Hub && window.MathJax.Hub.Config) {window.MathJax.Hub.Config({SVG: {font: \"STIX-Web\"}});}\n",
       "        if (typeof require !== 'undefined') {\n",
       "        require.undef(\"plotly\");\n",
       "        requirejs.config({\n",
       "            paths: {\n",
       "                'plotly': ['https://cdn.plot.ly/plotly-2.14.0.min']\n",
       "            }\n",
       "        });\n",
       "        require(['plotly'], function(Plotly) {\n",
       "            window._Plotly = Plotly;\n",
       "        });\n",
       "        }\n",
       "        </script>\n",
       "        "
      ]
     },
     "metadata": {},
     "output_type": "display_data"
    }
   ],
   "source": [
    "import numpy as np\n",
    "import pandas as pd\n",
    "import cufflinks as cf\n",
    "from plotly import __version__\n",
    "from plotly.offline import download_plotlyjs, init_notebook_mode, plot, iplot \n",
    "import plotly.express as px\n",
    "from datetime import datetime,date\n",
    "\n",
    "%matplotlib inline\n",
    "init_notebook_mode(connected=True)\n",
    "cf.set_config_file(sharing='private',theme='pearl',offline=True)\n",
    "#print(\"Cufflinks Version : {}\".format(cf.__version__))\n",
    "\n",
    "df = pd.read_csv('./data/eth-usd-max latest.csv',index_col=0,parse_dates=True )\n",
    "df.drop([\"market_cap\", \"total_volume\"], axis=1, inplace=True)\n",
    "df = df.resample('D').first()\n",
    "df['price'].fillna(method='ffill', inplace=True)\n",
    "# to get the log price\n",
    "# df['price'] = np.log(df['price'])"
   ]
  },
  {
   "cell_type": "code",
   "execution_count": 2,
   "id": "feee149f",
   "metadata": {},
   "outputs": [],
   "source": [
    "def first_day(entry):\n",
    "    \"\"\"\n",
    "    Returns the first instance of the period, regardless of sampling rate.\n",
    "    \"\"\"\n",
    "    if len(entry):  # handles the case of missing data\n",
    "        return entry[0]"
   ]
  },
  {
   "cell_type": "code",
   "execution_count": 3,
   "id": "41eb2776",
   "metadata": {},
   "outputs": [],
   "source": [
    "# here i will use monthly data\n",
    "df= df.resample(rule='MS').apply(first_day)"
   ]
  },
  {
   "cell_type": "code",
   "execution_count": 4,
   "id": "31052e58",
   "metadata": {},
   "outputs": [],
   "source": [
    "from statsmodels.tsa.seasonal import seasonal_decompose"
   ]
  },
  {
   "cell_type": "code",
   "execution_count": 5,
   "id": "c4484bac",
   "metadata": {},
   "outputs": [
    {
     "data": {
      "text/plain": [
       "<AxesSubplot:xlabel='snapped_at'>"
      ]
     },
     "execution_count": 5,
     "metadata": {},
     "output_type": "execute_result"
    },
    {
     "data": {
      "image/png": "[encoded data removed]",
      "text/plain": [
       "<Figure size 1200x200 with 1 Axes>"
      ]
     },
     "metadata": {},
     "output_type": "display_data"
    }
   ],
   "source": [
    "results = seasonal_decompose(df['price'])\n",
    "results.observed.plot(figsize=(12,2))"
   ]
  },
  {
   "cell_type": "code",
   "execution_count": 6,
   "id": "194782b4",
   "metadata": {},
   "outputs": [
    {
     "data": {
      "text/plain": [
       "<AxesSubplot:xlabel='snapped_at'>"
      ]
     },
     "execution_count": 6,
     "metadata": {},
     "output_type": "execute_result"
    },
    {
     "data": {
      "image/png": "[encoded data removed]",
      "text/plain": [
       "<Figure size 1200x200 with 1 Axes>"
      ]
     },
     "metadata": {},
     "output_type": "display_data"
    }
   ],
   "source": [
    "results.trend.plot(figsize=(12,2))"
   ]
  },
  {
   "cell_type": "code",
   "execution_count": 7,
   "id": "026533be",
   "metadata": {},
   "outputs": [
    {
     "data": {
      "text/plain": [
       "<AxesSubplot:xlabel='snapped_at'>"
      ]
     },
     "execution_count": 7,
     "metadata": {},
     "output_type": "execute_result"
    },
    {
     "data": {
      "image/png": "[encoded data removed]",
      "text/plain": [
       "<Figure size 1200x200 with 1 Axes>"
      ]
     },
     "metadata": {},
     "output_type": "display_data"
    }
   ],
   "source": [
    "results.seasonal.plot(figsize=(12,2))"
   ]
  },
  {
   "cell_type": "code",
   "execution_count": 8,
   "id": "8cf6ade0",
   "metadata": {},
   "outputs": [
    {
     "data": {
      "text/plain": [
       "88"
      ]
     },
     "execution_count": 8,
     "metadata": {},
     "output_type": "execute_result"
    }
   ],
   "source": [
    "len(df)"
   ]
  },
  {
   "cell_type": "code",
   "execution_count": 9,
   "id": "8864cdb0",
   "metadata": {},
   "outputs": [],
   "source": [
    "train = df"
   ]
  },
  {
   "cell_type": "code",
   "execution_count": 10,
   "id": "66461d10",
   "metadata": {},
   "outputs": [],
   "source": [
    "from sklearn.preprocessing import MinMaxScaler"
   ]
  },
  {
   "cell_type": "code",
   "execution_count": 11,
   "id": "96a3ba52",
   "metadata": {},
   "outputs": [],
   "source": [
    "scaler = MinMaxScaler(feature_range=(0, 1))"
   ]
  },
  {
   "cell_type": "code",
   "execution_count": 12,
   "id": "42dcc148",
   "metadata": {},
   "outputs": [
    {
     "data": {
      "text/html": [
       "<style>#sk-container-id-1 {color: black;background-color: white;}#sk-container-id-1 pre{padding: 0;}#sk-container-id-1 div.sk-toggleable {background-color: white;}#sk-container-id-1 label.sk-toggleable__label {cursor: pointer;display: block;width: 100%;margin-bottom: 0;padding: 0.3em;box-sizing: border-box;text-align: center;}#sk-container-id-1 label.sk-toggleable__label-arrow:before {content: \"▸\";float: left;margin-right: 0.25em;color: #696969;}#sk-container-id-1 label.sk-toggleable__label-arrow:hover:before {color: black;}#sk-container-id-1 div.sk-estimator:hover label.sk-toggleable__label-arrow:before {color: black;}#sk-container-id-1 div.sk-toggleable__content {max-height: 0;max-width: 0;overflow: hidden;text-align: left;background-color: #f0f8ff;}#sk-container-id-1 div.sk-toggleable__content pre {margin: 0.2em;color: black;border-radius: 0.25em;background-color: #f0f8ff;}#sk-container-id-1 input.sk-toggleable__control:checked~div.sk-toggleable__content {max-height: 200px;max-width: 100%;overflow: auto;}#sk-container-id-1 input.sk-toggleable__control:checked~label.sk-toggleable__label-arrow:before {content: \"▾\";}#sk-container-id-1 div.sk-estimator input.sk-toggleable__control:checked~label.sk-toggleable__label {background-color: #d4ebff;}#sk-container-id-1 div.sk-label input.sk-toggleable__control:checked~label.sk-toggleable__label {background-color: #d4ebff;}#sk-container-id-1 input.sk-hidden--visually {border: 0;clip: rect(1px 1px 1px 1px);clip: rect(1px, 1px, 1px, 1px);height: 1px;margin: -1px;overflow: hidden;padding: 0;position: absolute;width: 1px;}#sk-container-id-1 div.sk-estimator {font-family: monospace;background-color: #f0f8ff;border: 1px dotted black;border-radius: 0.25em;box-sizing: border-box;margin-bottom: 0.5em;}#sk-container-id-1 div.sk-estimator:hover {background-color: #d4ebff;}#sk-container-id-1 div.sk-parallel-item::after {content: \"\";width: 100%;border-bottom: 1px solid gray;flex-grow: 1;}#sk-container-id-1 div.sk-label:hover label.sk-toggleable__label {background-color: #d4ebff;}#sk-container-id-1 div.sk-serial::before {content: \"\";position: absolute;border-left: 1px solid gray;box-sizing: border-box;top: 0;bottom: 0;left: 50%;z-index: 0;}#sk-container-id-1 div.sk-serial {display: flex;flex-direction: column;align-items: center;background-color: white;padding-right: 0.2em;padding-left: 0.2em;position: relative;}#sk-container-id-1 div.sk-item {position: relative;z-index: 1;}#sk-container-id-1 div.sk-parallel {display: flex;align-items: stretch;justify-content: center;background-color: white;position: relative;}#sk-container-id-1 div.sk-item::before, #sk-container-id-1 div.sk-parallel-item::before {content: \"\";position: absolute;border-left: 1px solid gray;box-sizing: border-box;top: 0;bottom: 0;left: 50%;z-index: -1;}#sk-container-id-1 div.sk-parallel-item {display: flex;flex-direction: column;z-index: 1;position: relative;background-color: white;}#sk-container-id-1 div.sk-parallel-item:first-child::after {align-self: flex-end;width: 50%;}#sk-container-id-1 div.sk-parallel-item:last-child::after {align-self: flex-start;width: 50%;}#sk-container-id-1 div.sk-parallel-item:only-child::after {width: 0;}#sk-container-id-1 div.sk-dashed-wrapped {border: 1px dashed gray;margin: 0 0.4em 0.5em 0.4em;box-sizing: border-box;padding-bottom: 0.4em;background-color: white;}#sk-container-id-1 div.sk-label label {font-family: monospace;font-weight: bold;display: inline-block;line-height: 1.2em;}#sk-container-id-1 div.sk-label-container {text-align: center;}#sk-container-id-1 div.sk-container {/* jupyter's `normalize.less` sets `[hidden] { display: none; }` but bootstrap.min.css set `[hidden] { display: none !important; }` so we also need the `!important` here to be able to override the default hidden behavior on the sphinx rendered scikit-learn.org. See: https://github.com/scikit-learn/scikit-learn/issues/21755 */display: inline-block !important;position: relative;}#sk-container-id-1 div.sk-text-repr-fallback {display: none;}</style><div id=\"sk-container-id-1\" class=\"sk-top-container\"><div class=\"sk-text-repr-fallback\"><pre>MinMaxScaler()</pre><b>In a Jupyter environment, please rerun this cell to show the HTML representation or trust the notebook. <br />On GitHub, the HTML representation is unable to render, please try loading this page with nbviewer.org.</b></div><div class=\"sk-container\" hidden><div class=\"sk-item\"><div class=\"sk-estimator sk-toggleable\"><input class=\"sk-toggleable__control sk-hidden--visually\" id=\"sk-estimator-id-1\" type=\"checkbox\" checked><label for=\"sk-estimator-id-1\" class=\"sk-toggleable__label sk-toggleable__label-arrow\">MinMaxScaler</label><div class=\"sk-toggleable__content\"><pre>MinMaxScaler()</pre></div></div></div></div></div>"
      ],
      "text/plain": [
       "MinMaxScaler()"
      ]
     },
     "execution_count": 12,
     "metadata": {},
     "output_type": "execute_result"
    }
   ],
   "source": [
    "# we do this just on the training data as in real life we have no idea of the actual datra to fit for the test set\n",
    "scaler.fit(train) # finds the max value in the training set"
   ]
  },
  {
   "cell_type": "code",
   "execution_count": 13,
   "id": "2b58fb2e",
   "metadata": {},
   "outputs": [],
   "source": [
    "# transform the training and test data via the scaler object above. MinMaxscaler doesnt simply divide \n",
    "# by athe max or min value... it uses more complex method\n",
    "scaled_train = scaler.transform(train)"
   ]
  },
  {
   "cell_type": "code",
   "execution_count": 14,
   "id": "18506e52",
   "metadata": {},
   "outputs": [],
   "source": [
    "# now everything is scaled we need to createa timeseries generator to feed the neural network\n",
    "from keras.preprocessing.sequence import TimeseriesGenerator"
   ]
  },
  {
   "cell_type": "code",
   "execution_count": 15,
   "id": "fe2ef681",
   "metadata": {},
   "outputs": [],
   "source": [
    "# Redefine to get 70 last days back and then predict the nextday out\n",
    "n_input =45 # using this number so as to catch the 60 day cyclicality\n",
    "n_features = 1 # for time series it is 1 as we have one output the prediction (one column of data)\n",
    "generator = TimeseriesGenerator(scaled_train, scaled_train, length=n_input, batch_size=1)"
   ]
  },
  {
   "cell_type": "code",
   "execution_count": 16,
   "id": "c15b5b31",
   "metadata": {},
   "outputs": [],
   "source": [
    "# Create the model , train it and test it\n",
    "from keras.models import Sequential\n",
    "from keras.layers import Dense\n",
    "from keras.layers import LSTM"
   ]
  },
  {
   "cell_type": "code",
   "execution_count": 17,
   "id": "fd925177",
   "metadata": {},
   "outputs": [],
   "source": [
    "## define model\n",
    "#model = Sequential()\n",
    "## 100 is the number of neurons. we play around to find a good number and you play around\n",
    "#model.add(LSTM(500, activation='relu', input_shape=(n_input, n_features)))\n",
    "#model.add(Dense(1))\n",
    "#model.compile(optimizer='adam', loss='mse')"
   ]
  },
  {
   "cell_type": "code",
   "execution_count": 18,
   "id": "9dde6c99",
   "metadata": {},
   "outputs": [
    {
     "name": "stdout",
     "output_type": "stream",
     "text": [
      "Model: \"sequential\"\n",
      "_________________________________________________________________\n",
      " Layer (type)                Output Shape              Param #   \n",
      "=================================================================\n",
      " lstm (LSTM)                 (None, 45, 64)            16896     \n",
      "                                                                 \n",
      " lstm_1 (LSTM)               (None, 64)                33024     \n",
      "                                                                 \n",
      " dense (Dense)               (None, 1)                 65        \n",
      "                                                                 \n",
      "=================================================================\n",
      "Total params: 49,985\n",
      "Trainable params: 49,985\n",
      "Non-trainable params: 0\n",
      "_________________________________________________________________\n"
     ]
    }
   ],
   "source": [
    "# define model 2\n",
    "model = Sequential()\n",
    "model.add(LSTM(64, activation='relu', return_sequences=True, input_shape=(n_input, n_features)))\n",
    "model.add(LSTM(64, activation='relu'))\n",
    "model.add(Dense(1))\n",
    "model.compile(optimizer='adam', loss='mse')\n",
    "model.summary()"
   ]
  },
  {
   "cell_type": "code",
   "execution_count": 19,
   "id": "d91e6c1b",
   "metadata": {},
   "outputs": [
    {
     "name": "stdout",
     "output_type": "stream",
     "text": [
      "Model: \"sequential\"\n",
      "_________________________________________________________________\n",
      " Layer (type)                Output Shape              Param #   \n",
      "=================================================================\n",
      " lstm (LSTM)                 (None, 45, 64)            16896     \n",
      "                                                                 \n",
      " lstm_1 (LSTM)               (None, 64)                33024     \n",
      "                                                                 \n",
      " dense (Dense)               (None, 1)                 65        \n",
      "                                                                 \n",
      "=================================================================\n",
      "Total params: 49,985\n",
      "Trainable params: 49,985\n",
      "Non-trainable params: 0\n",
      "_________________________________________________________________\n"
     ]
    }
   ],
   "source": [
    "model.summary()"
   ]
  },
  {
   "cell_type": "code",
   "execution_count": 20,
   "id": "d332e6d9",
   "metadata": {},
   "outputs": [
    {
     "name": "stdout",
     "output_type": "stream",
     "text": [
      "Epoch 1/10\n",
      "43/43 [==============================] - 7s 52ms/step - loss: 0.0842\n",
      "Epoch 2/10\n",
      "43/43 [==============================] - 2s 43ms/step - loss: 0.0515\n",
      "Epoch 3/10\n",
      "43/43 [==============================] - 2s 40ms/step - loss: 0.0599\n",
      "Epoch 4/10\n",
      "43/43 [==============================] - 2s 41ms/step - loss: 0.0403\n",
      "Epoch 5/10\n",
      "43/43 [==============================] - 2s 49ms/step - loss: 0.0288\n",
      "Epoch 6/10\n",
      "43/43 [==============================] - 2s 39ms/step - loss: 0.0283\n",
      "Epoch 7/10\n",
      "43/43 [==============================] - 1s 33ms/step - loss: 0.0221\n",
      "Epoch 8/10\n",
      "43/43 [==============================] - 2s 42ms/step - loss: 0.0193\n",
      "Epoch 9/10\n",
      "43/43 [==============================] - 2s 42ms/step - loss: 0.0177\n",
      "Epoch 10/10\n",
      "43/43 [==============================] - 2s 48ms/step - loss: 0.0142\n"
     ]
    },
    {
     "data": {
      "text/plain": [
       "<keras.callbacks.History at 0x144652803a0>"
      ]
     },
     "execution_count": 20,
     "metadata": {},
     "output_type": "execute_result"
    }
   ],
   "source": [
    "# 1 epoch is a single run through all our data\n",
    "model.fit(generator,epochs=10)"
   ]
  },
  {
   "cell_type": "code",
   "execution_count": 21,
   "id": "74ece615",
   "metadata": {},
   "outputs": [
    {
     "data": {
      "text/plain": [
       "dict_keys(['loss'])"
      ]
     },
     "execution_count": 21,
     "metadata": {},
     "output_type": "execute_result"
    }
   ],
   "source": [
    "model.history.history.keys()"
   ]
  },
  {
   "cell_type": "code",
   "execution_count": 22,
   "id": "1717552f",
   "metadata": {},
   "outputs": [
    {
     "data": {
      "text/plain": [
       "[<matplotlib.lines.Line2D at 0x144698024c0>]"
      ]
     },
     "execution_count": 22,
     "metadata": {},
     "output_type": "execute_result"
    },
    {
     "data": {
      "image/png": "[encoded data removed]",
      "text/plain": [
       "<Figure size 640x480 with 1 Axes>"
      ]
     },
     "metadata": {},
     "output_type": "display_data"
    }
   ],
   "source": [
    "import matplotlib.pyplot as plt\n",
    "loss_per_epoch = model.history.history['loss']\n",
    "plt.plot(range(len(loss_per_epoch)),loss_per_epoch)"
   ]
  },
  {
   "cell_type": "code",
   "execution_count": 23,
   "id": "fe9d7e52",
   "metadata": {},
   "outputs": [],
   "source": [
    "# our model takes the last 12 history steps and predicts the next one \n",
    "first_eval_batch = scaled_train[-45:]"
   ]
  },
  {
   "cell_type": "code",
   "execution_count": 24,
   "id": "cff5dda8",
   "metadata": {},
   "outputs": [
    {
     "name": "stdout",
     "output_type": "stream",
     "text": [
      "1/1 [==============================] - 1s 838ms/step\n",
      "1/1 [==============================] - 0s 55ms/step\n",
      "1/1 [==============================] - 0s 54ms/step\n",
      "1/1 [==============================] - 0s 38ms/step\n",
      "1/1 [==============================] - 0s 80ms/step\n",
      "1/1 [==============================] - 0s 68ms/step\n",
      "1/1 [==============================] - 0s 59ms/step\n",
      "1/1 [==============================] - 0s 44ms/step\n",
      "1/1 [==============================] - 0s 61ms/step\n",
      "1/1 [==============================] - 0s 60ms/step\n",
      "1/1 [==============================] - 0s 60ms/step\n",
      "1/1 [==============================] - 0s 62ms/step\n",
      "1/1 [==============================] - 0s 67ms/step\n",
      "1/1 [==============================] - 0s 53ms/step\n",
      "1/1 [==============================] - 0s 42ms/step\n",
      "1/1 [==============================] - 0s 53ms/step\n",
      "1/1 [==============================] - 0s 49ms/step\n",
      "1/1 [==============================] - 0s 57ms/step\n",
      "1/1 [==============================] - 0s 52ms/step\n",
      "1/1 [==============================] - 0s 55ms/step\n",
      "1/1 [==============================] - 0s 48ms/step\n",
      "1/1 [==============================] - 0s 50ms/step\n",
      "1/1 [==============================] - 0s 41ms/step\n",
      "1/1 [==============================] - 0s 38ms/step\n",
      "1/1 [==============================] - 0s 40ms/step\n",
      "1/1 [==============================] - 0s 42ms/step\n",
      "1/1 [==============================] - 0s 33ms/step\n",
      "1/1 [==============================] - 0s 38ms/step\n",
      "1/1 [==============================] - 0s 34ms/step\n",
      "1/1 [==============================] - 0s 31ms/step\n",
      "1/1 [==============================] - 0s 30ms/step\n",
      "1/1 [==============================] - 0s 35ms/step\n",
      "1/1 [==============================] - 0s 36ms/step\n",
      "1/1 [==============================] - 0s 28ms/step\n",
      "1/1 [==============================] - 0s 39ms/step\n",
      "1/1 [==============================] - 0s 37ms/step\n",
      "1/1 [==============================] - 0s 66ms/step\n",
      "1/1 [==============================] - 0s 46ms/step\n",
      "1/1 [==============================] - 0s 43ms/step\n",
      "1/1 [==============================] - 0s 54ms/step\n",
      "1/1 [==============================] - 0s 49ms/step\n",
      "1/1 [==============================] - 0s 45ms/step\n",
      "1/1 [==============================] - 0s 39ms/step\n",
      "1/1 [==============================] - 0s 36ms/step\n",
      "1/1 [==============================] - 0s 37ms/step\n",
      "1/1 [==============================] - 0s 34ms/step\n",
      "1/1 [==============================] - 0s 35ms/step\n",
      "1/1 [==============================] - 0s 40ms/step\n"
     ]
    }
   ],
   "source": [
    "# in order to actually forecast into the future\n",
    "test_predictions = [] # holding the predictions as we go along\n",
    "\n",
    "# Last n_input points from the training set\n",
    "first_eval_batch = scaled_train[-n_input:]\n",
    "current_batch = first_eval_batch.reshape((1, n_input, n_features))\n",
    "# we use the predicted points to predict further and further into the future \n",
    "# so RNN cannot work very well far into the future\n",
    "# in order to predict into the future we can change the range for example len(test)+6 to forecast another 6 months\n",
    "# or we can use the actual df2 to train and freely forecast into the future!\n",
    "for i in range(48):\n",
    "    \n",
    "    # get prediction 1 time stamp ahead ([0] is for grabbing just the number instead of [array])\n",
    "    current_pred = model.predict(current_batch)[0]\n",
    "    \n",
    "    # store prediction\n",
    "    test_predictions.append(current_pred) \n",
    "    \n",
    "    # update batch to now include prediction and drop first value\n",
    "    current_batch = np.append(current_batch[:,1:,:],[[current_pred]],axis=1)"
   ]
  },
  {
   "cell_type": "code",
   "execution_count": 25,
   "id": "8d1095fe",
   "metadata": {},
   "outputs": [],
   "source": [
    "# Inverse Transformations and Compare\n",
    "true_predictions = scaler.inverse_transform(test_predictions)"
   ]
  },
  {
   "cell_type": "code",
   "execution_count": 26,
   "id": "6a81af95",
   "metadata": {},
   "outputs": [
    {
     "data": {
      "text/plain": [
       "array([[1253.24218545],\n",
       "       [1172.93010298],\n",
       "       [1121.24550818],\n",
       "       [1093.71756045],\n",
       "       [1090.34467075],\n",
       "       [1112.72795992],\n",
       "       [1160.64855628],\n",
       "       [1236.79903728],\n",
       "       [1340.84985182],\n",
       "       [1471.90837936],\n",
       "       [1629.48464585],\n",
       "       [1812.68547804],\n",
       "       [2019.9762871 ],\n",
       "       [2250.47191403],\n",
       "       [2501.84919642],\n",
       "       [2771.46758031],\n",
       "       [3055.42482162],\n",
       "       [3347.1605739 ],\n",
       "       [3639.38243129],\n",
       "       [3922.42964181],\n",
       "       [4184.79734918],\n",
       "       [4413.05562134],\n",
       "       [4590.91427157],\n",
       "       [4701.29136148],\n",
       "       [4728.06389799],\n",
       "       [4662.49414849],\n",
       "       [4507.30142757],\n",
       "       [4272.2343675 ],\n",
       "       [3981.1093556 ],\n",
       "       [3660.13710249],\n",
       "       [3332.1844462 ],\n",
       "       [3015.55950386],\n",
       "       [2722.75343599],\n",
       "       [2460.45260608],\n",
       "       [2235.51789459],\n",
       "       [2046.70073817],\n",
       "       [1889.93390993],\n",
       "       [1762.72111225],\n",
       "       [1663.82207237],\n",
       "       [1592.43688622],\n",
       "       [1547.47409718],\n",
       "       [1527.530246  ],\n",
       "       [1533.21952746],\n",
       "       [1564.45820656],\n",
       "       [1621.54819909],\n",
       "       [1704.19366903],\n",
       "       [1811.9914172 ],\n",
       "       [1943.78684032]])"
      ]
     },
     "execution_count": 26,
     "metadata": {},
     "output_type": "execute_result"
    }
   ],
   "source": [
    "true_predictions"
   ]
  },
  {
   "cell_type": "code",
   "execution_count": 27,
   "id": "443bf358",
   "metadata": {},
   "outputs": [
    {
     "data": {
      "text/html": [
       "<div>\n",
       "<style scoped>\n",
       "    .dataframe tbody tr th:only-of-type {\n",
       "        vertical-align: middle;\n",
       "    }\n",
       "\n",
       "    .dataframe tbody tr th {\n",
       "        vertical-align: top;\n",
       "    }\n",
       "\n",
       "    .dataframe thead th {\n",
       "        text-align: right;\n",
       "    }\n",
       "</style>\n",
       "<table border=\"1\" class=\"dataframe\">\n",
       "  <thead>\n",
       "    <tr style=\"text-align: right;\">\n",
       "      <th></th>\n",
       "      <th>Prediction</th>\n",
       "    </tr>\n",
       "  </thead>\n",
       "  <tbody>\n",
       "    <tr>\n",
       "      <th>2022-12-01 00:00:00+00:00</th>\n",
       "      <td>1253.242185</td>\n",
       "    </tr>\n",
       "    <tr>\n",
       "      <th>2023-01-01 00:00:00+00:00</th>\n",
       "      <td>1172.930103</td>\n",
       "    </tr>\n",
       "    <tr>\n",
       "      <th>2023-02-01 00:00:00+00:00</th>\n",
       "      <td>1121.245508</td>\n",
       "    </tr>\n",
       "    <tr>\n",
       "      <th>2023-03-01 00:00:00+00:00</th>\n",
       "      <td>1093.717560</td>\n",
       "    </tr>\n",
       "    <tr>\n",
       "      <th>2023-04-01 00:00:00+00:00</th>\n",
       "      <td>1090.344671</td>\n",
       "    </tr>\n",
       "    <tr>\n",
       "      <th>2023-05-01 00:00:00+00:00</th>\n",
       "      <td>1112.727960</td>\n",
       "    </tr>\n",
       "    <tr>\n",
       "      <th>2023-06-01 00:00:00+00:00</th>\n",
       "      <td>1160.648556</td>\n",
       "    </tr>\n",
       "    <tr>\n",
       "      <th>2023-07-01 00:00:00+00:00</th>\n",
       "      <td>1236.799037</td>\n",
       "    </tr>\n",
       "    <tr>\n",
       "      <th>2023-08-01 00:00:00+00:00</th>\n",
       "      <td>1340.849852</td>\n",
       "    </tr>\n",
       "    <tr>\n",
       "      <th>2023-09-01 00:00:00+00:00</th>\n",
       "      <td>1471.908379</td>\n",
       "    </tr>\n",
       "    <tr>\n",
       "      <th>2023-10-01 00:00:00+00:00</th>\n",
       "      <td>1629.484646</td>\n",
       "    </tr>\n",
       "    <tr>\n",
       "      <th>2023-11-01 00:00:00+00:00</th>\n",
       "      <td>1812.685478</td>\n",
       "    </tr>\n",
       "    <tr>\n",
       "      <th>2023-12-01 00:00:00+00:00</th>\n",
       "      <td>2019.976287</td>\n",
       "    </tr>\n",
       "    <tr>\n",
       "      <th>2024-01-01 00:00:00+00:00</th>\n",
       "      <td>2250.471914</td>\n",
       "    </tr>\n",
       "    <tr>\n",
       "      <th>2024-02-01 00:00:00+00:00</th>\n",
       "      <td>2501.849196</td>\n",
       "    </tr>\n",
       "    <tr>\n",
       "      <th>2024-03-01 00:00:00+00:00</th>\n",
       "      <td>2771.467580</td>\n",
       "    </tr>\n",
       "    <tr>\n",
       "      <th>2024-04-01 00:00:00+00:00</th>\n",
       "      <td>3055.424822</td>\n",
       "    </tr>\n",
       "    <tr>\n",
       "      <th>2024-05-01 00:00:00+00:00</th>\n",
       "      <td>3347.160574</td>\n",
       "    </tr>\n",
       "    <tr>\n",
       "      <th>2024-06-01 00:00:00+00:00</th>\n",
       "      <td>3639.382431</td>\n",
       "    </tr>\n",
       "    <tr>\n",
       "      <th>2024-07-01 00:00:00+00:00</th>\n",
       "      <td>3922.429642</td>\n",
       "    </tr>\n",
       "    <tr>\n",
       "      <th>2024-08-01 00:00:00+00:00</th>\n",
       "      <td>4184.797349</td>\n",
       "    </tr>\n",
       "    <tr>\n",
       "      <th>2024-09-01 00:00:00+00:00</th>\n",
       "      <td>4413.055621</td>\n",
       "    </tr>\n",
       "    <tr>\n",
       "      <th>2024-10-01 00:00:00+00:00</th>\n",
       "      <td>4590.914272</td>\n",
       "    </tr>\n",
       "    <tr>\n",
       "      <th>2024-11-01 00:00:00+00:00</th>\n",
       "      <td>4701.291361</td>\n",
       "    </tr>\n",
       "    <tr>\n",
       "      <th>2024-12-01 00:00:00+00:00</th>\n",
       "      <td>4728.063898</td>\n",
       "    </tr>\n",
       "    <tr>\n",
       "      <th>2025-01-01 00:00:00+00:00</th>\n",
       "      <td>4662.494148</td>\n",
       "    </tr>\n",
       "    <tr>\n",
       "      <th>2025-02-01 00:00:00+00:00</th>\n",
       "      <td>4507.301428</td>\n",
       "    </tr>\n",
       "    <tr>\n",
       "      <th>2025-03-01 00:00:00+00:00</th>\n",
       "      <td>4272.234368</td>\n",
       "    </tr>\n",
       "    <tr>\n",
       "      <th>2025-04-01 00:00:00+00:00</th>\n",
       "      <td>3981.109356</td>\n",
       "    </tr>\n",
       "    <tr>\n",
       "      <th>2025-05-01 00:00:00+00:00</th>\n",
       "      <td>3660.137102</td>\n",
       "    </tr>\n",
       "    <tr>\n",
       "      <th>2025-06-01 00:00:00+00:00</th>\n",
       "      <td>3332.184446</td>\n",
       "    </tr>\n",
       "    <tr>\n",
       "      <th>2025-07-01 00:00:00+00:00</th>\n",
       "      <td>3015.559504</td>\n",
       "    </tr>\n",
       "    <tr>\n",
       "      <th>2025-08-01 00:00:00+00:00</th>\n",
       "      <td>2722.753436</td>\n",
       "    </tr>\n",
       "    <tr>\n",
       "      <th>2025-09-01 00:00:00+00:00</th>\n",
       "      <td>2460.452606</td>\n",
       "    </tr>\n",
       "    <tr>\n",
       "      <th>2025-10-01 00:00:00+00:00</th>\n",
       "      <td>2235.517895</td>\n",
       "    </tr>\n",
       "    <tr>\n",
       "      <th>2025-11-01 00:00:00+00:00</th>\n",
       "      <td>2046.700738</td>\n",
       "    </tr>\n",
       "    <tr>\n",
       "      <th>2025-12-01 00:00:00+00:00</th>\n",
       "      <td>1889.933910</td>\n",
       "    </tr>\n",
       "    <tr>\n",
       "      <th>2026-01-01 00:00:00+00:00</th>\n",
       "      <td>1762.721112</td>\n",
       "    </tr>\n",
       "    <tr>\n",
       "      <th>2026-02-01 00:00:00+00:00</th>\n",
       "      <td>1663.822072</td>\n",
       "    </tr>\n",
       "    <tr>\n",
       "      <th>2026-03-01 00:00:00+00:00</th>\n",
       "      <td>1592.436886</td>\n",
       "    </tr>\n",
       "    <tr>\n",
       "      <th>2026-04-01 00:00:00+00:00</th>\n",
       "      <td>1547.474097</td>\n",
       "    </tr>\n",
       "    <tr>\n",
       "      <th>2026-05-01 00:00:00+00:00</th>\n",
       "      <td>1527.530246</td>\n",
       "    </tr>\n",
       "    <tr>\n",
       "      <th>2026-06-01 00:00:00+00:00</th>\n",
       "      <td>1533.219527</td>\n",
       "    </tr>\n",
       "    <tr>\n",
       "      <th>2026-07-01 00:00:00+00:00</th>\n",
       "      <td>1564.458207</td>\n",
       "    </tr>\n",
       "    <tr>\n",
       "      <th>2026-08-01 00:00:00+00:00</th>\n",
       "      <td>1621.548199</td>\n",
       "    </tr>\n",
       "    <tr>\n",
       "      <th>2026-09-01 00:00:00+00:00</th>\n",
       "      <td>1704.193669</td>\n",
       "    </tr>\n",
       "    <tr>\n",
       "      <th>2026-10-01 00:00:00+00:00</th>\n",
       "      <td>1811.991417</td>\n",
       "    </tr>\n",
       "    <tr>\n",
       "      <th>2026-11-01 00:00:00+00:00</th>\n",
       "      <td>1943.786840</td>\n",
       "    </tr>\n",
       "  </tbody>\n",
       "</table>\n",
       "</div>"
      ],
      "text/plain": [
       "                            Prediction\n",
       "2022-12-01 00:00:00+00:00  1253.242185\n",
       "2023-01-01 00:00:00+00:00  1172.930103\n",
       "2023-02-01 00:00:00+00:00  1121.245508\n",
       "2023-03-01 00:00:00+00:00  1093.717560\n",
       "2023-04-01 00:00:00+00:00  1090.344671\n",
       "2023-05-01 00:00:00+00:00  1112.727960\n",
       "2023-06-01 00:00:00+00:00  1160.648556\n",
       "2023-07-01 00:00:00+00:00  1236.799037\n",
       "2023-08-01 00:00:00+00:00  1340.849852\n",
       "2023-09-01 00:00:00+00:00  1471.908379\n",
       "2023-10-01 00:00:00+00:00  1629.484646\n",
       "2023-11-01 00:00:00+00:00  1812.685478\n",
       "2023-12-01 00:00:00+00:00  2019.976287\n",
       "2024-01-01 00:00:00+00:00  2250.471914\n",
       "2024-02-01 00:00:00+00:00  2501.849196\n",
       "2024-03-01 00:00:00+00:00  2771.467580\n",
       "2024-04-01 00:00:00+00:00  3055.424822\n",
       "2024-05-01 00:00:00+00:00  3347.160574\n",
       "2024-06-01 00:00:00+00:00  3639.382431\n",
       "2024-07-01 00:00:00+00:00  3922.429642\n",
       "2024-08-01 00:00:00+00:00  4184.797349\n",
       "2024-09-01 00:00:00+00:00  4413.055621\n",
       "2024-10-01 00:00:00+00:00  4590.914272\n",
       "2024-11-01 00:00:00+00:00  4701.291361\n",
       "2024-12-01 00:00:00+00:00  4728.063898\n",
       "2025-01-01 00:00:00+00:00  4662.494148\n",
       "2025-02-01 00:00:00+00:00  4507.301428\n",
       "2025-03-01 00:00:00+00:00  4272.234368\n",
       "2025-04-01 00:00:00+00:00  3981.109356\n",
       "2025-05-01 00:00:00+00:00  3660.137102\n",
       "2025-06-01 00:00:00+00:00  3332.184446\n",
       "2025-07-01 00:00:00+00:00  3015.559504\n",
       "2025-08-01 00:00:00+00:00  2722.753436\n",
       "2025-09-01 00:00:00+00:00  2460.452606\n",
       "2025-10-01 00:00:00+00:00  2235.517895\n",
       "2025-11-01 00:00:00+00:00  2046.700738\n",
       "2025-12-01 00:00:00+00:00  1889.933910\n",
       "2026-01-01 00:00:00+00:00  1762.721112\n",
       "2026-02-01 00:00:00+00:00  1663.822072\n",
       "2026-03-01 00:00:00+00:00  1592.436886\n",
       "2026-04-01 00:00:00+00:00  1547.474097\n",
       "2026-05-01 00:00:00+00:00  1527.530246\n",
       "2026-06-01 00:00:00+00:00  1533.219527\n",
       "2026-07-01 00:00:00+00:00  1564.458207\n",
       "2026-08-01 00:00:00+00:00  1621.548199\n",
       "2026-09-01 00:00:00+00:00  1704.193669\n",
       "2026-10-01 00:00:00+00:00  1811.991417\n",
       "2026-11-01 00:00:00+00:00  1943.786840"
      ]
     },
     "execution_count": 27,
     "metadata": {},
     "output_type": "execute_result"
    }
   ],
   "source": [
    "# to add an extra period\n",
    "#predictionsIndex = pd.date_range(pd.to_datetime(df.index[len(df)-1])+pd.DateOffset(months=1), periods=48, freq='M')\n",
    "predictionsIndex = pd.date_range(pd.to_datetime(df.index[len(df)-1])+pd.DateOffset(months=1), periods=48, freq='MS')\n",
    "#predictionsIndex = pd.date_range(pd.to_datetime(df.index[len(df)-1]), periods=120, freq='d')\n",
    "predictions = pd.DataFrame(true_predictions,index=predictionsIndex, columns=['Prediction'])\n",
    "predictions"
   ]
  },
  {
   "cell_type": "code",
   "execution_count": 28,
   "id": "24d8fcf2",
   "metadata": {},
   "outputs": [
    {
     "data": {
      "image/png": "[encoded data removed]",
      "text/plain": [
       "<Figure size 1200x600 with 1 Axes>"
      ]
     },
     "metadata": {},
     "output_type": "display_data"
    }
   ],
   "source": [
    "# Plot predictions against known values\n",
    "import matplotlib.ticker as ticker\n",
    "formatter = ticker.StrMethodFormatter('{x:,.0f}')\n",
    "title = 'Ethereum Price chart'\n",
    "ylabel='Price in USD'\n",
    "xlabel='' # we don't really need a label here\n",
    "\n",
    "ax = df['price'].plot(legend=True,figsize=(12,6),title=title)\n",
    "predictions['Prediction'].plot(legend=True)\n",
    "ax.autoscale(axis='x',tight=True)\n",
    "ax.set(xlabel=xlabel, ylabel=ylabel)\n",
    "ax.yaxis.set_major_formatter(formatter);"
   ]
  },
  {
   "cell_type": "code",
   "execution_count": 29,
   "id": "a857c0dd",
   "metadata": {},
   "outputs": [
    {
     "data": {
      "application/vnd.plotly.v1+json": {
       "config": {
        "linkText": "Export to plot.ly",
        "plotlyServerURL": "https://plot.ly",
        "showLink": true
       },
       "data": [
        {
         "line": {
          "color": "rgba(255, 153, 51, 1.0)",
          "dash": "solid",
          "shape": "linear",
          "width": 1.3
         },
         "mode": "lines",
         "name": "price",
         "text": "",
         "type": "scatter",
         "x": [
          "2015-08-01 00:00:00+00:00",
          "2015-09-01 00:00:00+00:00",
          "2015-10-01 00:00:00+00:00",
          "2015-11-01 00:00:00+00:00",
          "2015-12-01 00:00:00+00:00",
          "2016-01-01 00:00:00+00:00",
          "2016-02-01 00:00:00+00:00",
          "2016-03-01 00:00:00+00:00",
          "2016-04-01 00:00:00+00:00",
          "2016-05-01 00:00:00+00:00",
          "2016-06-01 00:00:00+00:00",
          "2016-07-01 00:00:00+00:00",
          "2016-08-01 00:00:00+00:00",
          "2016-09-01 00:00:00+00:00",
          "2016-10-01 00:00:00+00:00",
          "2016-11-01 00:00:00+00:00",
          "2016-12-01 00:00:00+00:00",
          "2017-01-01 00:00:00+00:00",
          "2017-02-01 00:00:00+00:00",
          "2017-03-01 00:00:00+00:00",
          "2017-04-01 00:00:00+00:00",
          "2017-05-01 00:00:00+00:00",
          "2017-06-01 00:00:00+00:00",
          "2017-07-01 00:00:00+00:00",
          "2017-08-01 00:00:00+00:00",
          "2017-09-01 00:00:00+00:00",
          "2017-10-01 00:00:00+00:00",
          "2017-11-01 00:00:00+00:00",
          "2017-12-01 00:00:00+00:00",
          "2018-01-01 00:00:00+00:00",
          "2018-02-01 00:00:00+00:00",
          "2018-03-01 00:00:00+00:00",
          "2018-04-01 00:00:00+00:00",
          "2018-05-01 00:00:00+00:00",
          "2018-06-01 00:00:00+00:00",
          "2018-07-01 00:00:00+00:00",
          "2018-08-01 00:00:00+00:00",
          "2018-09-01 00:00:00+00:00",
          "2018-10-01 00:00:00+00:00",
          "2018-11-01 00:00:00+00:00",
          "2018-12-01 00:00:00+00:00",
          "2019-01-01 00:00:00+00:00",
          "2019-02-01 00:00:00+00:00",
          "2019-03-01 00:00:00+00:00",
          "2019-04-01 00:00:00+00:00",
          "2019-05-01 00:00:00+00:00",
          "2019-06-01 00:00:00+00:00",
          "2019-07-01 00:00:00+00:00",
          "2019-08-01 00:00:00+00:00",
          "2019-09-01 00:00:00+00:00",
          "2019-10-01 00:00:00+00:00",
          "2019-11-01 00:00:00+00:00",
          "2019-12-01 00:00:00+00:00",
          "2020-01-01 00:00:00+00:00",
          "2020-02-01 00:00:00+00:00",
          "2020-03-01 00:00:00+00:00",
          "2020-04-01 00:00:00+00:00",
          "2020-05-01 00:00:00+00:00",
          "2020-06-01 00:00:00+00:00",
          "2020-07-01 00:00:00+00:00",
          "2020-08-01 00:00:00+00:00",
          "2020-09-01 00:00:00+00:00",
          "2020-10-01 00:00:00+00:00",
          "2020-11-01 00:00:00+00:00",
          "2020-12-01 00:00:00+00:00",
          "2021-01-01 00:00:00+00:00",
          "2021-02-01 00:00:00+00:00",
          "2021-03-01 00:00:00+00:00",
          "2021-04-01 00:00:00+00:00",
          "2021-05-01 00:00:00+00:00",
          "2021-06-01 00:00:00+00:00",
          "2021-07-01 00:00:00+00:00",
          "2021-08-01 00:00:00+00:00",
          "2021-09-01 00:00:00+00:00",
          "2021-10-01 00:00:00+00:00",
          "2021-11-01 00:00:00+00:00",
          "2021-12-01 00:00:00+00:00",
          "2022-01-01 00:00:00+00:00",
          "2022-02-01 00:00:00+00:00",
          "2022-03-01 00:00:00+00:00",
          "2022-04-01 00:00:00+00:00",
          "2022-05-01 00:00:00+00:00",
          "2022-06-01 00:00:00+00:00",
          "2022-07-01 00:00:00+00:00",
          "2022-08-01 00:00:00+00:00",
          "2022-09-01 00:00:00+00:00",
          "2022-10-01 00:00:00+00:00",
          "2022-11-01 00:00:00+00:00",
          "2022-12-01 00:00:00+00:00",
          "2023-01-01 00:00:00+00:00",
          "2023-02-01 00:00:00+00:00",
          "2023-03-01 00:00:00+00:00",
          "2023-04-01 00:00:00+00:00",
          "2023-05-01 00:00:00+00:00",
          "2023-06-01 00:00:00+00:00",
          "2023-07-01 00:00:00+00:00",
          "2023-08-01 00:00:00+00:00",
          "2023-09-01 00:00:00+00:00",
          "2023-10-01 00:00:00+00:00",
          "2023-11-01 00:00:00+00:00",
          "2023-12-01 00:00:00+00:00",
          "2024-01-01 00:00:00+00:00",
          "2024-02-01 00:00:00+00:00",
          "2024-03-01 00:00:00+00:00",
          "2024-04-01 00:00:00+00:00",
          "2024-05-01 00:00:00+00:00",
          "2024-06-01 00:00:00+00:00",
          "2024-07-01 00:00:00+00:00",
          "2024-08-01 00:00:00+00:00",
          "2024-09-01 00:00:00+00:00",
          "2024-10-01 00:00:00+00:00",
          "2024-11-01 00:00:00+00:00",
          "2024-12-01 00:00:00+00:00",
          "2025-01-01 00:00:00+00:00",
          "2025-02-01 00:00:00+00:00",
          "2025-03-01 00:00:00+00:00",
          "2025-04-01 00:00:00+00:00",
          "2025-05-01 00:00:00+00:00",
          "2025-06-01 00:00:00+00:00",
          "2025-07-01 00:00:00+00:00",
          "2025-08-01 00:00:00+00:00",
          "2025-09-01 00:00:00+00:00",
          "2025-10-01 00:00:00+00:00",
          "2025-11-01 00:00:00+00:00",
          "2025-12-01 00:00:00+00:00",
          "2026-01-01 00:00:00+00:00",
          "2026-02-01 00:00:00+00:00",
          "2026-03-01 00:00:00+00:00",
          "2026-04-01 00:00:00+00:00",
          "2026-05-01 00:00:00+00:00",
          "2026-06-01 00:00:00+00:00",
          "2026-07-01 00:00:00+00:00",
          "2026-08-01 00:00:00+00:00",
          "2026-09-01 00:00:00+00:00",
          "2026-10-01 00:00:00+00:00",
          "2026-11-01 00:00:00+00:00"
         ],
         "y": [
          2.83162,
          1.350786688734447,
          0.6858121897138929,
          1.058541941291151,
          0.8750039976447704,
          0.9463133430749894,
          2.221883059355513,
          7.560157049617909,
          11.63607180334684,
          8.832454372832895,
          13.857937834861248,
          12.329645963731734,
          10.968397852276404,
          12.002877477501157,
          13.269827224677638,
          10.792187379279612,
          8.439785438702646,
          8.064789989459687,
          10.700989418222472,
          17.168029711638418,
          50.42578760723248,
          76.84617780144701,
          221.82807122254025,
          262.47807335859795,
          227.08056705038587,
          386.3430570009356,
          299.6748890236153,
          292.33053872865435,
          469.863479570669,
          776.080330355968,
          1106.1381723552724,
          846.3652117960792,
          395.7963809578212,
          662.732735837356,
          571.7271134994469,
          449.4300450718509,
          432.3501179219696,
          282.22317870221497,
          232.78138524562493,
          198.6390488336609,
          113.4028831522645,
          131.45872465603802,
          106.33599581366398,
          135.4906837644075,
          141.586389044902,
          160.74469184721738,
          268.12603920482644,
          292.83887601724456,
          218.6130855362096,
          172.07296929356409,
          179.75716197925505,
          182.75570124695295,
          151.73585404476006,
          129.18638529253852,
          179.22910385240368,
          218.34835692985288,
          133.2364468438201,
          205.55600541063677,
          232.3310030389668,
          225.59281496891896,
          346.00350607288686,
          435.6930232991007,
          359.59898475085777,
          385.8445887975079,
          612.2637856122055,
          738.6169381520413,
          1317.0474362291775,
          1416.661552837565,
          1915.8325358462237,
          2776.70371169874,
          2708.429865793973,
          2279.354161419647,
          2541.674599365905,
          3440.5623358869034,
          3013.493232032077,
          4292.04047236198,
          4637.121616831405,
          3686.4025423019352,
          2689.220867220449,
          2919.294962425658,
          3283.3028425717257,
          2738.1741359527714,
          1944.078766836179,
          1057.6309990608015,
          1682.011373614746,
          1552.5629662281335,
          1329.1460320707963,
          1572.979514885975,
          "",
          "",
          "",
          "",
          "",
          "",
          "",
          "",
          "",
          "",
          "",
          "",
          "",
          "",
          "",
          "",
          "",
          "",
          "",
          "",
          "",
          "",
          "",
          "",
          "",
          "",
          "",
          "",
          "",
          "",
          "",
          "",
          "",
          "",
          "",
          "",
          "",
          "",
          "",
          "",
          "",
          "",
          "",
          "",
          "",
          "",
          "",
          ""
         ]
        },
        {
         "line": {
          "color": "rgba(55, 128, 191, 1.0)",
          "dash": "solid",
          "shape": "linear",
          "width": 1.3
         },
         "mode": "lines",
         "name": "Prediction",
         "text": "",
         "type": "scatter",
         "x": [
          "2015-08-01 00:00:00+00:00",
          "2015-09-01 00:00:00+00:00",
          "2015-10-01 00:00:00+00:00",
          "2015-11-01 00:00:00+00:00",
          "2015-12-01 00:00:00+00:00",
          "2016-01-01 00:00:00+00:00",
          "2016-02-01 00:00:00+00:00",
          "2016-03-01 00:00:00+00:00",
          "2016-04-01 00:00:00+00:00",
          "2016-05-01 00:00:00+00:00",
          "2016-06-01 00:00:00+00:00",
          "2016-07-01 00:00:00+00:00",
          "2016-08-01 00:00:00+00:00",
          "2016-09-01 00:00:00+00:00",
          "2016-10-01 00:00:00+00:00",
          "2016-11-01 00:00:00+00:00",
          "2016-12-01 00:00:00+00:00",
          "2017-01-01 00:00:00+00:00",
          "2017-02-01 00:00:00+00:00",
          "2017-03-01 00:00:00+00:00",
          "2017-04-01 00:00:00+00:00",
          "2017-05-01 00:00:00+00:00",
          "2017-06-01 00:00:00+00:00",
          "2017-07-01 00:00:00+00:00",
          "2017-08-01 00:00:00+00:00",
          "2017-09-01 00:00:00+00:00",
          "2017-10-01 00:00:00+00:00",
          "2017-11-01 00:00:00+00:00",
          "2017-12-01 00:00:00+00:00",
          "2018-01-01 00:00:00+00:00",
          "2018-02-01 00:00:00+00:00",
          "2018-03-01 00:00:00+00:00",
          "2018-04-01 00:00:00+00:00",
          "2018-05-01 00:00:00+00:00",
          "2018-06-01 00:00:00+00:00",
          "2018-07-01 00:00:00+00:00",
          "2018-08-01 00:00:00+00:00",
          "2018-09-01 00:00:00+00:00",
          "2018-10-01 00:00:00+00:00",
          "2018-11-01 00:00:00+00:00",
          "2018-12-01 00:00:00+00:00",
          "2019-01-01 00:00:00+00:00",
          "2019-02-01 00:00:00+00:00",
          "2019-03-01 00:00:00+00:00",
          "2019-04-01 00:00:00+00:00",
          "2019-05-01 00:00:00+00:00",
          "2019-06-01 00:00:00+00:00",
          "2019-07-01 00:00:00+00:00",
          "2019-08-01 00:00:00+00:00",
          "2019-09-01 00:00:00+00:00",
          "2019-10-01 00:00:00+00:00",
          "2019-11-01 00:00:00+00:00",
          "2019-12-01 00:00:00+00:00",
          "2020-01-01 00:00:00+00:00",
          "2020-02-01 00:00:00+00:00",
          "2020-03-01 00:00:00+00:00",
          "2020-04-01 00:00:00+00:00",
          "2020-05-01 00:00:00+00:00",
          "2020-06-01 00:00:00+00:00",
          "2020-07-01 00:00:00+00:00",
          "2020-08-01 00:00:00+00:00",
          "2020-09-01 00:00:00+00:00",
          "2020-10-01 00:00:00+00:00",
          "2020-11-01 00:00:00+00:00",
          "2020-12-01 00:00:00+00:00",
          "2021-01-01 00:00:00+00:00",
          "2021-02-01 00:00:00+00:00",
          "2021-03-01 00:00:00+00:00",
          "2021-04-01 00:00:00+00:00",
          "2021-05-01 00:00:00+00:00",
          "2021-06-01 00:00:00+00:00",
          "2021-07-01 00:00:00+00:00",
          "2021-08-01 00:00:00+00:00",
          "2021-09-01 00:00:00+00:00",
          "2021-10-01 00:00:00+00:00",
          "2021-11-01 00:00:00+00:00",
          "2021-12-01 00:00:00+00:00",
          "2022-01-01 00:00:00+00:00",
          "2022-02-01 00:00:00+00:00",
          "2022-03-01 00:00:00+00:00",
          "2022-04-01 00:00:00+00:00",
          "2022-05-01 00:00:00+00:00",
          "2022-06-01 00:00:00+00:00",
          "2022-07-01 00:00:00+00:00",
          "2022-08-01 00:00:00+00:00",
          "2022-09-01 00:00:00+00:00",
          "2022-10-01 00:00:00+00:00",
          "2022-11-01 00:00:00+00:00",
          "2022-12-01 00:00:00+00:00",
          "2023-01-01 00:00:00+00:00",
          "2023-02-01 00:00:00+00:00",
          "2023-03-01 00:00:00+00:00",
          "2023-04-01 00:00:00+00:00",
          "2023-05-01 00:00:00+00:00",
          "2023-06-01 00:00:00+00:00",
          "2023-07-01 00:00:00+00:00",
          "2023-08-01 00:00:00+00:00",
          "2023-09-01 00:00:00+00:00",
          "2023-10-01 00:00:00+00:00",
          "2023-11-01 00:00:00+00:00",
          "2023-12-01 00:00:00+00:00",
          "2024-01-01 00:00:00+00:00",
          "2024-02-01 00:00:00+00:00",
          "2024-03-01 00:00:00+00:00",
          "2024-04-01 00:00:00+00:00",
          "2024-05-01 00:00:00+00:00",
          "2024-06-01 00:00:00+00:00",
          "2024-07-01 00:00:00+00:00",
          "2024-08-01 00:00:00+00:00",
          "2024-09-01 00:00:00+00:00",
          "2024-10-01 00:00:00+00:00",
          "2024-11-01 00:00:00+00:00",
          "2024-12-01 00:00:00+00:00",
          "2025-01-01 00:00:00+00:00",
          "2025-02-01 00:00:00+00:00",
          "2025-03-01 00:00:00+00:00",
          "2025-04-01 00:00:00+00:00",
          "2025-05-01 00:00:00+00:00",
          "2025-06-01 00:00:00+00:00",
          "2025-07-01 00:00:00+00:00",
          "2025-08-01 00:00:00+00:00",
          "2025-09-01 00:00:00+00:00",
          "2025-10-01 00:00:00+00:00",
          "2025-11-01 00:00:00+00:00",
          "2025-12-01 00:00:00+00:00",
          "2026-01-01 00:00:00+00:00",
          "2026-02-01 00:00:00+00:00",
          "2026-03-01 00:00:00+00:00",
          "2026-04-01 00:00:00+00:00",
          "2026-05-01 00:00:00+00:00",
          "2026-06-01 00:00:00+00:00",
          "2026-07-01 00:00:00+00:00",
          "2026-08-01 00:00:00+00:00",
          "2026-09-01 00:00:00+00:00",
          "2026-10-01 00:00:00+00:00",
          "2026-11-01 00:00:00+00:00"
         ],
         "y": [
          "",
          "",
          "",
          "",
          "",
          "",
          "",
          "",
          "",
          "",
          "",
          "",
          "",
          "",
          "",
          "",
          "",
          "",
          "",
          "",
          "",
          "",
          "",
          "",
          "",
          "",
          "",
          "",
          "",
          "",
          "",
          "",
          "",
          "",
          "",
          "",
          "",
          "",
          "",
          "",
          "",
          "",
          "",
          "",
          "",
          "",
          "",
          "",
          "",
          "",
          "",
          "",
          "",
          "",
          "",
          "",
          "",
          "",
          "",
          "",
          "",
          "",
          "",
          "",
          "",
          "",
          "",
          "",
          "",
          "",
          "",
          "",
          "",
          "",
          "",
          "",
          "",
          "",
          "",
          "",
          "",
          "",
          "",
          "",
          "",
          "",
          "",
          "",
          1253.2421854468996,
          1172.9301029816002,
          1121.245508182418,
          1093.7175604493696,
          1090.3446707520768,
          1112.7279599167337,
          1160.6485562808853,
          1236.7990372753507,
          1340.849851817457,
          1471.9083793646191,
          1629.484645854297,
          1812.685478037687,
          2019.9762870996258,
          2250.4719140314755,
          2501.849196421086,
          2771.467580310438,
          3055.424821621643,
          3347.1605738963626,
          3639.382431290094,
          3922.4296418128365,
          4184.797349177168,
          4413.055621337262,
          4590.914271567489,
          4701.291361484476,
          4728.063897993636,
          4662.4941484895635,
          4507.301427566387,
          4272.23436750282,
          3981.109355599343,
          3660.137102494196,
          3332.184446204787,
          3015.559503859829,
          2722.7534359933347,
          2460.452606081419,
          2235.5178945886328,
          2046.700738167793,
          1889.9339099348433,
          1762.7211122547458,
          1663.822072373592,
          1592.4368862169197,
          1547.474097180103,
          1527.5302459982752,
          1533.2195274565431,
          1564.458206562832,
          1621.548199088898,
          1704.1936690313862,
          1811.9914172040328,
          1943.7868403167688
         ]
        }
       ],
       "layout": {
        "legend": {
         "bgcolor": "#F5F6F9",
         "font": {
          "color": "#4D5663"
         }
        },
        "paper_bgcolor": "#F5F6F9",
        "plot_bgcolor": "#F5F6F9",
        "template": {
         "data": {
          "bar": [
           {
            "error_x": {
             "color": "#2a3f5f"
            },
            "error_y": {
             "color": "#2a3f5f"
            },
            "marker": {
             "line": {
              "color": "#E5ECF6",
              "width": 0.5
             },
             "pattern": {
              "fillmode": "overlay",
              "size": 10,
              "solidity": 0.2
             }
            },
            "type": "bar"
           }
          ],
          "barpolar": [
           {
            "marker": {
             "line": {
              "color": "#E5ECF6",
              "width": 0.5
             },
             "pattern": {
              "fillmode": "overlay",
              "size": 10,
              "solidity": 0.2
             }
            },
            "type": "barpolar"
           }
          ],
          "carpet": [
           {
            "aaxis": {
             "endlinecolor": "#2a3f5f",
             "gridcolor": "white",
             "linecolor": "white",
             "minorgridcolor": "white",
             "startlinecolor": "#2a3f5f"
            },
            "baxis": {
             "endlinecolor": "#2a3f5f",
             "gridcolor": "white",
             "linecolor": "white",
             "minorgridcolor": "white",
             "startlinecolor": "#2a3f5f"
            },
            "type": "carpet"
           }
          ],
          "choropleth": [
           {
            "colorbar": {
             "outlinewidth": 0,
             "ticks": ""
            },
            "type": "choropleth"
           }
          ],
          "contour": [
           {
            "colorbar": {
             "outlinewidth": 0,
             "ticks": ""
            },
            "colorscale": [
             [
              0,
              "#0d0887"
             ],
             [
              0.1111111111111111,
              "#46039f"
             ],
             [
              0.2222222222222222,
              "#7201a8"
             ],
             [
              0.3333333333333333,
              "#9c179e"
             ],
             [
              0.4444444444444444,
              "#bd3786"
             ],
             [
              0.5555555555555556,
              "#d8576b"
             ],
             [
              0.6666666666666666,
              "#ed7953"
             ],
             [
              0.7777777777777778,
              "#fb9f3a"
             ],
             [
              0.8888888888888888,
              "#fdca26"
             ],
             [
              1,
              "#f0f921"
             ]
            ],
            "type": "contour"
           }
          ],
          "contourcarpet": [
           {
            "colorbar": {
             "outlinewidth": 0,
             "ticks": ""
            },
            "type": "contourcarpet"
           }
          ],
          "heatmap": [
           {
            "colorbar": {
             "outlinewidth": 0,
             "ticks": ""
            },
            "colorscale": [
             [
              0,
              "#0d0887"
             ],
             [
              0.1111111111111111,
              "#46039f"
             ],
             [
              0.2222222222222222,
              "#7201a8"
             ],
             [
              0.3333333333333333,
              "#9c179e"
             ],
             [
              0.4444444444444444,
              "#bd3786"
             ],
             [
              0.5555555555555556,
              "#d8576b"
             ],
             [
              0.6666666666666666,
              "#ed7953"
             ],
             [
              0.7777777777777778,
              "#fb9f3a"
             ],
             [
              0.8888888888888888,
              "#fdca26"
             ],
             [
              1,
              "#f0f921"
             ]
            ],
            "type": "heatmap"
           }
          ],
          "heatmapgl": [
           {
            "colorbar": {
             "outlinewidth": 0,
             "ticks": ""
            },
            "colorscale": [
             [
              0,
              "#0d0887"
             ],
             [
              0.1111111111111111,
              "#46039f"
             ],
             [
              0.2222222222222222,
              "#7201a8"
             ],
             [
              0.3333333333333333,
              "#9c179e"
             ],
             [
              0.4444444444444444,
              "#bd3786"
             ],
             [
              0.5555555555555556,
              "#d8576b"
             ],
             [
              0.6666666666666666,
              "#ed7953"
             ],
             [
              0.7777777777777778,
              "#fb9f3a"
             ],
             [
              0.8888888888888888,
              "#fdca26"
             ],
             [
              1,
              "#f0f921"
             ]
            ],
            "type": "heatmapgl"
           }
          ],
          "histogram": [
           {
            "marker": {
             "pattern": {
              "fillmode": "overlay",
              "size": 10,
              "solidity": 0.2
             }
            },
            "type": "histogram"
           }
          ],
          "histogram2d": [
           {
            "colorbar": {
             "outlinewidth": 0,
             "ticks": ""
            },
            "colorscale": [
             [
              0,
              "#0d0887"
             ],
             [
              0.1111111111111111,
              "#46039f"
             ],
             [
              0.2222222222222222,
              "#7201a8"
             ],
             [
              0.3333333333333333,
              "#9c179e"
             ],
             [
              0.4444444444444444,
              "#bd3786"
             ],
             [
              0.5555555555555556,
              "#d8576b"
             ],
             [
              0.6666666666666666,
              "#ed7953"
             ],
             [
              0.7777777777777778,
              "#fb9f3a"
             ],
             [
              0.8888888888888888,
              "#fdca26"
             ],
             [
              1,
              "#f0f921"
             ]
            ],
            "type": "histogram2d"
           }
          ],
          "histogram2dcontour": [
           {
            "colorbar": {
             "outlinewidth": 0,
             "ticks": ""
            },
            "colorscale": [
             [
              0,
              "#0d0887"
             ],
             [
              0.1111111111111111,
              "#46039f"
             ],
             [
              0.2222222222222222,
              "#7201a8"
             ],
             [
              0.3333333333333333,
              "#9c179e"
             ],
             [
              0.4444444444444444,
              "#bd3786"
             ],
             [
              0.5555555555555556,
              "#d8576b"
             ],
             [
              0.6666666666666666,
              "#ed7953"
             ],
             [
              0.7777777777777778,
              "#fb9f3a"
             ],
             [
              0.8888888888888888,
              "#fdca26"
             ],
             [
              1,
              "#f0f921"
             ]
            ],
            "type": "histogram2dcontour"
           }
          ],
          "mesh3d": [
           {
            "colorbar": {
             "outlinewidth": 0,
             "ticks": ""
            },
            "type": "mesh3d"
           }
          ],
          "parcoords": [
           {
            "line": {
             "colorbar": {
              "outlinewidth": 0,
              "ticks": ""
             }
            },
            "type": "parcoords"
           }
          ],
          "pie": [
           {
            "automargin": true,
            "type": "pie"
           }
          ],
          "scatter": [
           {
            "fillpattern": {
             "fillmode": "overlay",
             "size": 10,
             "solidity": 0.2
            },
            "type": "scatter"
           }
          ],
          "scatter3d": [
           {
            "line": {
             "colorbar": {
              "outlinewidth": 0,
              "ticks": ""
             }
            },
            "marker": {
             "colorbar": {
              "outlinewidth": 0,
              "ticks": ""
             }
            },
            "type": "scatter3d"
           }
          ],
          "scattercarpet": [
           {
            "marker": {
             "colorbar": {
              "outlinewidth": 0,
              "ticks": ""
             }
            },
            "type": "scattercarpet"
           }
          ],
          "scattergeo": [
           {
            "marker": {
             "colorbar": {
              "outlinewidth": 0,
              "ticks": ""
             }
            },
            "type": "scattergeo"
           }
          ],
          "scattergl": [
           {
            "marker": {
             "colorbar": {
              "outlinewidth": 0,
              "ticks": ""
             }
            },
            "type": "scattergl"
           }
          ],
          "scattermapbox": [
           {
            "marker": {
             "colorbar": {
              "outlinewidth": 0,
              "ticks": ""
             }
            },
            "type": "scattermapbox"
           }
          ],
          "scatterpolar": [
           {
            "marker": {
             "colorbar": {
              "outlinewidth": 0,
              "ticks": ""
             }
            },
            "type": "scatterpolar"
           }
          ],
          "scatterpolargl": [
           {
            "marker": {
             "colorbar": {
              "outlinewidth": 0,
              "ticks": ""
             }
            },
            "type": "scatterpolargl"
           }
          ],
          "scatterternary": [
           {
            "marker": {
             "colorbar": {
              "outlinewidth": 0,
              "ticks": ""
             }
            },
            "type": "scatterternary"
           }
          ],
          "surface": [
           {
            "colorbar": {
             "outlinewidth": 0,
             "ticks": ""
            },
            "colorscale": [
             [
              0,
              "#0d0887"
             ],
             [
              0.1111111111111111,
              "#46039f"
             ],
             [
              0.2222222222222222,
              "#7201a8"
             ],
             [
              0.3333333333333333,
              "#9c179e"
             ],
             [
              0.4444444444444444,
              "#bd3786"
             ],
             [
              0.5555555555555556,
              "#d8576b"
             ],
             [
              0.6666666666666666,
              "#ed7953"
             ],
             [
              0.7777777777777778,
              "#fb9f3a"
             ],
             [
              0.8888888888888888,
              "#fdca26"
             ],
             [
              1,
              "#f0f921"
             ]
            ],
            "type": "surface"
           }
          ],
          "table": [
           {
            "cells": {
             "fill": {
              "color": "#EBF0F8"
             },
             "line": {
              "color": "white"
             }
            },
            "header": {
             "fill": {
              "color": "#C8D4E3"
             },
             "line": {
              "color": "white"
             }
            },
            "type": "table"
           }
          ]
         },
         "layout": {
          "annotationdefaults": {
           "arrowcolor": "#2a3f5f",
           "arrowhead": 0,
           "arrowwidth": 1
          },
          "autotypenumbers": "strict",
          "coloraxis": {
           "colorbar": {
            "outlinewidth": 0,
            "ticks": ""
           }
          },
          "colorscale": {
           "diverging": [
            [
             0,
             "#8e0152"
            ],
            [
             0.1,
             "#c51b7d"
            ],
            [
             0.2,
             "#de77ae"
            ],
            [
             0.3,
             "#f1b6da"
            ],
            [
             0.4,
             "#fde0ef"
            ],
            [
             0.5,
             "#f7f7f7"
            ],
            [
             0.6,
             "#e6f5d0"
            ],
            [
             0.7,
             "#b8e186"
            ],
            [
             0.8,
             "#7fbc41"
            ],
            [
             0.9,
             "#4d9221"
            ],
            [
             1,
             "#276419"
            ]
           ],
           "sequential": [
            [
             0,
             "#0d0887"
            ],
            [
             0.1111111111111111,
             "#46039f"
            ],
            [
             0.2222222222222222,
             "#7201a8"
            ],
            [
             0.3333333333333333,
             "#9c179e"
            ],
            [
             0.4444444444444444,
             "#bd3786"
            ],
            [
             0.5555555555555556,
             "#d8576b"
            ],
            [
             0.6666666666666666,
             "#ed7953"
            ],
            [
             0.7777777777777778,
             "#fb9f3a"
            ],
            [
             0.8888888888888888,
             "#fdca26"
            ],
            [
             1,
             "#f0f921"
            ]
           ],
           "sequentialminus": [
            [
             0,
             "#0d0887"
            ],
            [
             0.1111111111111111,
             "#46039f"
            ],
            [
             0.2222222222222222,
             "#7201a8"
            ],
            [
             0.3333333333333333,
             "#9c179e"
            ],
            [
             0.4444444444444444,
             "#bd3786"
            ],
            [
             0.5555555555555556,
             "#d8576b"
            ],
            [
             0.6666666666666666,
             "#ed7953"
            ],
            [
             0.7777777777777778,
             "#fb9f3a"
            ],
            [
             0.8888888888888888,
             "#fdca26"
            ],
            [
             1,
             "#f0f921"
            ]
           ]
          },
          "colorway": [
           "#636efa",
           "#EF553B",
           "#00cc96",
           "#ab63fa",
           "#FFA15A",
           "#19d3f3",
           "#FF6692",
           "#B6E880",
           "#FF97FF",
           "#FECB52"
          ],
          "font": {
           "color": "#2a3f5f"
          },
          "geo": {
           "bgcolor": "white",
           "lakecolor": "white",
           "landcolor": "#E5ECF6",
           "showlakes": true,
           "showland": true,
           "subunitcolor": "white"
          },
          "hoverlabel": {
           "align": "left"
          },
          "hovermode": "closest",
          "mapbox": {
           "style": "light"
          },
          "paper_bgcolor": "white",
          "plot_bgcolor": "#E5ECF6",
          "polar": {
           "angularaxis": {
            "gridcolor": "white",
            "linecolor": "white",
            "ticks": ""
           },
           "bgcolor": "#E5ECF6",
           "radialaxis": {
            "gridcolor": "white",
            "linecolor": "white",
            "ticks": ""
           }
          },
          "scene": {
           "xaxis": {
            "backgroundcolor": "#E5ECF6",
            "gridcolor": "white",
            "gridwidth": 2,
            "linecolor": "white",
            "showbackground": true,
            "ticks": "",
            "zerolinecolor": "white"
           },
           "yaxis": {
            "backgroundcolor": "#E5ECF6",
            "gridcolor": "white",
            "gridwidth": 2,
            "linecolor": "white",
            "showbackground": true,
            "ticks": "",
            "zerolinecolor": "white"
           },
           "zaxis": {
            "backgroundcolor": "#E5ECF6",
            "gridcolor": "white",
            "gridwidth": 2,
            "linecolor": "white",
            "showbackground": true,
            "ticks": "",
            "zerolinecolor": "white"
           }
          },
          "shapedefaults": {
           "line": {
            "color": "#2a3f5f"
           }
          },
          "ternary": {
           "aaxis": {
            "gridcolor": "white",
            "linecolor": "white",
            "ticks": ""
           },
           "baxis": {
            "gridcolor": "white",
            "linecolor": "white",
            "ticks": ""
           },
           "bgcolor": "#E5ECF6",
           "caxis": {
            "gridcolor": "white",
            "linecolor": "white",
            "ticks": ""
           }
          },
          "title": {
           "x": 0.05
          },
          "xaxis": {
           "automargin": true,
           "gridcolor": "white",
           "linecolor": "white",
           "ticks": "",
           "title": {
            "standoff": 15
           },
           "zerolinecolor": "white",
           "zerolinewidth": 2
          },
          "yaxis": {
           "automargin": true,
           "gridcolor": "white",
           "linecolor": "white",
           "ticks": "",
           "title": {
            "standoff": 15
           },
           "zerolinecolor": "white",
           "zerolinewidth": 2
          }
         }
        },
        "title": {
         "font": {
          "color": "#4D5663"
         }
        },
        "xaxis": {
         "gridcolor": "#E1E5ED",
         "showgrid": true,
         "tickfont": {
          "color": "#4D5663"
         },
         "title": {
          "font": {
           "color": "#4D5663"
          },
          "text": ""
         },
         "zerolinecolor": "#E1E5ED"
        },
        "yaxis": {
         "gridcolor": "#E1E5ED",
         "showgrid": true,
         "tickfont": {
          "color": "#4D5663"
         },
         "title": {
          "font": {
           "color": "#4D5663"
          },
          "text": ""
         },
         "zerolinecolor": "#E1E5ED"
        }
       }
      },
      "text/html": [
       "<div>                            <div id=\"6431f3d5-e248-400e-b935-c1125ef54c2b\" class=\"plotly-graph-div\" style=\"height:525px; width:100%;\"></div>            <script type=\"text/javascript\">                require([\"plotly\"], function(Plotly) {                    window.PLOTLYENV=window.PLOTLYENV || {};\n",
       "                    window.PLOTLYENV.BASE_URL='https://plot.ly';                                    if (document.getElementById(\"6431f3d5-e248-400e-b935-c1125ef54c2b\")) {                    Plotly.newPlot(                        \"6431f3d5-e248-400e-b935-c1125ef54c2b\",                        [{\"line\":{\"color\":\"rgba(255, 153, 51, 1.0)\",\"dash\":\"solid\",\"shape\":\"linear\",\"width\":1.3},\"mode\":\"lines\",\"name\":\"price\",\"text\":\"\",\"x\":[\"2015-08-01 00:00:00+00:00\",\"2015-09-01 00:00:00+00:00\",\"2015-10-01 00:00:00+00:00\",\"2015-11-01 00:00:00+00:00\",\"2015-12-01 00:00:00+00:00\",\"2016-01-01 00:00:00+00:00\",\"2016-02-01 00:00:00+00:00\",\"2016-03-01 00:00:00+00:00\",\"2016-04-01 00:00:00+00:00\",\"2016-05-01 00:00:00+00:00\",\"2016-06-01 00:00:00+00:00\",\"2016-07-01 00:00:00+00:00\",\"2016-08-01 00:00:00+00:00\",\"2016-09-01 00:00:00+00:00\",\"2016-10-01 00:00:00+00:00\",\"2016-11-01 00:00:00+00:00\",\"2016-12-01 00:00:00+00:00\",\"2017-01-01 00:00:00+00:00\",\"2017-02-01 00:00:00+00:00\",\"2017-03-01 00:00:00+00:00\",\"2017-04-01 00:00:00+00:00\",\"2017-05-01 00:00:00+00:00\",\"2017-06-01 00:00:00+00:00\",\"2017-07-01 00:00:00+00:00\",\"2017-08-01 00:00:00+00:00\",\"2017-09-01 00:00:00+00:00\",\"2017-10-01 00:00:00+00:00\",\"2017-11-01 00:00:00+00:00\",\"2017-12-01 00:00:00+00:00\",\"2018-01-01 00:00:00+00:00\",\"2018-02-01 00:00:00+00:00\",\"2018-03-01 00:00:00+00:00\",\"2018-04-01 00:00:00+00:00\",\"2018-05-01 00:00:00+00:00\",\"2018-06-01 00:00:00+00:00\",\"2018-07-01 00:00:00+00:00\",\"2018-08-01 00:00:00+00:00\",\"2018-09-01 00:00:00+00:00\",\"2018-10-01 00:00:00+00:00\",\"2018-11-01 00:00:00+00:00\",\"2018-12-01 00:00:00+00:00\",\"2019-01-01 00:00:00+00:00\",\"2019-02-01 00:00:00+00:00\",\"2019-03-01 00:00:00+00:00\",\"2019-04-01 00:00:00+00:00\",\"2019-05-01 00:00:00+00:00\",\"2019-06-01 00:00:00+00:00\",\"2019-07-01 00:00:00+00:00\",\"2019-08-01 00:00:00+00:00\",\"2019-09-01 00:00:00+00:00\",\"2019-10-01 00:00:00+00:00\",\"2019-11-01 00:00:00+00:00\",\"2019-12-01 00:00:00+00:00\",\"2020-01-01 00:00:00+00:00\",\"2020-02-01 00:00:00+00:00\",\"2020-03-01 00:00:00+00:00\",\"2020-04-01 00:00:00+00:00\",\"2020-05-01 00:00:00+00:00\",\"2020-06-01 00:00:00+00:00\",\"2020-07-01 00:00:00+00:00\",\"2020-08-01 00:00:00+00:00\",\"2020-09-01 00:00:00+00:00\",\"2020-10-01 00:00:00+00:00\",\"2020-11-01 00:00:00+00:00\",\"2020-12-01 00:00:00+00:00\",\"2021-01-01 00:00:00+00:00\",\"2021-02-01 00:00:00+00:00\",\"2021-03-01 00:00:00+00:00\",\"2021-04-01 00:00:00+00:00\",\"2021-05-01 00:00:00+00:00\",\"2021-06-01 00:00:00+00:00\",\"2021-07-01 00:00:00+00:00\",\"2021-08-01 00:00:00+00:00\",\"2021-09-01 00:00:00+00:00\",\"2021-10-01 00:00:00+00:00\",\"2021-11-01 00:00:00+00:00\",\"2021-12-01 00:00:00+00:00\",\"2022-01-01 00:00:00+00:00\",\"2022-02-01 00:00:00+00:00\",\"2022-03-01 00:00:00+00:00\",\"2022-04-01 00:00:00+00:00\",\"2022-05-01 00:00:00+00:00\",\"2022-06-01 00:00:00+00:00\",\"2022-07-01 00:00:00+00:00\",\"2022-08-01 00:00:00+00:00\",\"2022-09-01 00:00:00+00:00\",\"2022-10-01 00:00:00+00:00\",\"2022-11-01 00:00:00+00:00\",\"2022-12-01 00:00:00+00:00\",\"2023-01-01 00:00:00+00:00\",\"2023-02-01 00:00:00+00:00\",\"2023-03-01 00:00:00+00:00\",\"2023-04-01 00:00:00+00:00\",\"2023-05-01 00:00:00+00:00\",\"2023-06-01 00:00:00+00:00\",\"2023-07-01 00:00:00+00:00\",\"2023-08-01 00:00:00+00:00\",\"2023-09-01 00:00:00+00:00\",\"2023-10-01 00:00:00+00:00\",\"2023-11-01 00:00:00+00:00\",\"2023-12-01 00:00:00+00:00\",\"2024-01-01 00:00:00+00:00\",\"2024-02-01 00:00:00+00:00\",\"2024-03-01 00:00:00+00:00\",\"2024-04-01 00:00:00+00:00\",\"2024-05-01 00:00:00+00:00\",\"2024-06-01 00:00:00+00:00\",\"2024-07-01 00:00:00+00:00\",\"2024-08-01 00:00:00+00:00\",\"2024-09-01 00:00:00+00:00\",\"2024-10-01 00:00:00+00:00\",\"2024-11-01 00:00:00+00:00\",\"2024-12-01 00:00:00+00:00\",\"2025-01-01 00:00:00+00:00\",\"2025-02-01 00:00:00+00:00\",\"2025-03-01 00:00:00+00:00\",\"2025-04-01 00:00:00+00:00\",\"2025-05-01 00:00:00+00:00\",\"2025-06-01 00:00:00+00:00\",\"2025-07-01 00:00:00+00:00\",\"2025-08-01 00:00:00+00:00\",\"2025-09-01 00:00:00+00:00\",\"2025-10-01 00:00:00+00:00\",\"2025-11-01 00:00:00+00:00\",\"2025-12-01 00:00:00+00:00\",\"2026-01-01 00:00:00+00:00\",\"2026-02-01 00:00:00+00:00\",\"2026-03-01 00:00:00+00:00\",\"2026-04-01 00:00:00+00:00\",\"2026-05-01 00:00:00+00:00\",\"2026-06-01 00:00:00+00:00\",\"2026-07-01 00:00:00+00:00\",\"2026-08-01 00:00:00+00:00\",\"2026-09-01 00:00:00+00:00\",\"2026-10-01 00:00:00+00:00\",\"2026-11-01 00:00:00+00:00\"],\"y\":[2.83162,1.350786688734447,0.6858121897138929,1.058541941291151,0.8750039976447704,0.9463133430749894,2.221883059355513,7.560157049617909,11.63607180334684,8.832454372832895,13.857937834861248,12.329645963731734,10.968397852276404,12.002877477501157,13.269827224677638,10.792187379279612,8.439785438702646,8.064789989459687,10.700989418222472,17.168029711638418,50.42578760723248,76.84617780144701,221.82807122254025,262.47807335859795,227.08056705038587,386.3430570009356,299.6748890236153,292.33053872865435,469.863479570669,776.080330355968,1106.1381723552724,846.3652117960792,395.7963809578212,662.732735837356,571.7271134994469,449.4300450718509,432.3501179219696,282.22317870221497,232.78138524562493,198.6390488336609,113.4028831522645,131.45872465603802,106.33599581366398,135.4906837644075,141.586389044902,160.74469184721738,268.12603920482644,292.83887601724456,218.6130855362096,172.07296929356409,179.75716197925505,182.75570124695295,151.73585404476006,129.18638529253852,179.22910385240368,218.34835692985288,133.2364468438201,205.55600541063677,232.3310030389668,225.59281496891896,346.00350607288686,435.6930232991007,359.59898475085777,385.8445887975079,612.2637856122055,738.6169381520413,1317.0474362291775,1416.661552837565,1915.8325358462237,2776.70371169874,2708.429865793973,2279.354161419647,2541.674599365905,3440.5623358869034,3013.493232032077,4292.04047236198,4637.121616831405,3686.4025423019352,2689.220867220449,2919.294962425658,3283.3028425717257,2738.1741359527714,1944.078766836179,1057.6309990608015,1682.011373614746,1552.5629662281335,1329.1460320707963,1572.979514885975,\"\",\"\",\"\",\"\",\"\",\"\",\"\",\"\",\"\",\"\",\"\",\"\",\"\",\"\",\"\",\"\",\"\",\"\",\"\",\"\",\"\",\"\",\"\",\"\",\"\",\"\",\"\",\"\",\"\",\"\",\"\",\"\",\"\",\"\",\"\",\"\",\"\",\"\",\"\",\"\",\"\",\"\",\"\",\"\",\"\",\"\",\"\",\"\"],\"type\":\"scatter\"},{\"line\":{\"color\":\"rgba(55, 128, 191, 1.0)\",\"dash\":\"solid\",\"shape\":\"linear\",\"width\":1.3},\"mode\":\"lines\",\"name\":\"Prediction\",\"text\":\"\",\"x\":[\"2015-08-01 00:00:00+00:00\",\"2015-09-01 00:00:00+00:00\",\"2015-10-01 00:00:00+00:00\",\"2015-11-01 00:00:00+00:00\",\"2015-12-01 00:00:00+00:00\",\"2016-01-01 00:00:00+00:00\",\"2016-02-01 00:00:00+00:00\",\"2016-03-01 00:00:00+00:00\",\"2016-04-01 00:00:00+00:00\",\"2016-05-01 00:00:00+00:00\",\"2016-06-01 00:00:00+00:00\",\"2016-07-01 00:00:00+00:00\",\"2016-08-01 00:00:00+00:00\",\"2016-09-01 00:00:00+00:00\",\"2016-10-01 00:00:00+00:00\",\"2016-11-01 00:00:00+00:00\",\"2016-12-01 00:00:00+00:00\",\"2017-01-01 00:00:00+00:00\",\"2017-02-01 00:00:00+00:00\",\"2017-03-01 00:00:00+00:00\",\"2017-04-01 00:00:00+00:00\",\"2017-05-01 00:00:00+00:00\",\"2017-06-01 00:00:00+00:00\",\"2017-07-01 00:00:00+00:00\",\"2017-08-01 00:00:00+00:00\",\"2017-09-01 00:00:00+00:00\",\"2017-10-01 00:00:00+00:00\",\"2017-11-01 00:00:00+00:00\",\"2017-12-01 00:00:00+00:00\",\"2018-01-01 00:00:00+00:00\",\"2018-02-01 00:00:00+00:00\",\"2018-03-01 00:00:00+00:00\",\"2018-04-01 00:00:00+00:00\",\"2018-05-01 00:00:00+00:00\",\"2018-06-01 00:00:00+00:00\",\"2018-07-01 00:00:00+00:00\",\"2018-08-01 00:00:00+00:00\",\"2018-09-01 00:00:00+00:00\",\"2018-10-01 00:00:00+00:00\",\"2018-11-01 00:00:00+00:00\",\"2018-12-01 00:00:00+00:00\",\"2019-01-01 00:00:00+00:00\",\"2019-02-01 00:00:00+00:00\",\"2019-03-01 00:00:00+00:00\",\"2019-04-01 00:00:00+00:00\",\"2019-05-01 00:00:00+00:00\",\"2019-06-01 00:00:00+00:00\",\"2019-07-01 00:00:00+00:00\",\"2019-08-01 00:00:00+00:00\",\"2019-09-01 00:00:00+00:00\",\"2019-10-01 00:00:00+00:00\",\"2019-11-01 00:00:00+00:00\",\"2019-12-01 00:00:00+00:00\",\"2020-01-01 00:00:00+00:00\",\"2020-02-01 00:00:00+00:00\",\"2020-03-01 00:00:00+00:00\",\"2020-04-01 00:00:00+00:00\",\"2020-05-01 00:00:00+00:00\",\"2020-06-01 00:00:00+00:00\",\"2020-07-01 00:00:00+00:00\",\"2020-08-01 00:00:00+00:00\",\"2020-09-01 00:00:00+00:00\",\"2020-10-01 00:00:00+00:00\",\"2020-11-01 00:00:00+00:00\",\"2020-12-01 00:00:00+00:00\",\"2021-01-01 00:00:00+00:00\",\"2021-02-01 00:00:00+00:00\",\"2021-03-01 00:00:00+00:00\",\"2021-04-01 00:00:00+00:00\",\"2021-05-01 00:00:00+00:00\",\"2021-06-01 00:00:00+00:00\",\"2021-07-01 00:00:00+00:00\",\"2021-08-01 00:00:00+00:00\",\"2021-09-01 00:00:00+00:00\",\"2021-10-01 00:00:00+00:00\",\"2021-11-01 00:00:00+00:00\",\"2021-12-01 00:00:00+00:00\",\"2022-01-01 00:00:00+00:00\",\"2022-02-01 00:00:00+00:00\",\"2022-03-01 00:00:00+00:00\",\"2022-04-01 00:00:00+00:00\",\"2022-05-01 00:00:00+00:00\",\"2022-06-01 00:00:00+00:00\",\"2022-07-01 00:00:00+00:00\",\"2022-08-01 00:00:00+00:00\",\"2022-09-01 00:00:00+00:00\",\"2022-10-01 00:00:00+00:00\",\"2022-11-01 00:00:00+00:00\",\"2022-12-01 00:00:00+00:00\",\"2023-01-01 00:00:00+00:00\",\"2023-02-01 00:00:00+00:00\",\"2023-03-01 00:00:00+00:00\",\"2023-04-01 00:00:00+00:00\",\"2023-05-01 00:00:00+00:00\",\"2023-06-01 00:00:00+00:00\",\"2023-07-01 00:00:00+00:00\",\"2023-08-01 00:00:00+00:00\",\"2023-09-01 00:00:00+00:00\",\"2023-10-01 00:00:00+00:00\",\"2023-11-01 00:00:00+00:00\",\"2023-12-01 00:00:00+00:00\",\"2024-01-01 00:00:00+00:00\",\"2024-02-01 00:00:00+00:00\",\"2024-03-01 00:00:00+00:00\",\"2024-04-01 00:00:00+00:00\",\"2024-05-01 00:00:00+00:00\",\"2024-06-01 00:00:00+00:00\",\"2024-07-01 00:00:00+00:00\",\"2024-08-01 00:00:00+00:00\",\"2024-09-01 00:00:00+00:00\",\"2024-10-01 00:00:00+00:00\",\"2024-11-01 00:00:00+00:00\",\"2024-12-01 00:00:00+00:00\",\"2025-01-01 00:00:00+00:00\",\"2025-02-01 00:00:00+00:00\",\"2025-03-01 00:00:00+00:00\",\"2025-04-01 00:00:00+00:00\",\"2025-05-01 00:00:00+00:00\",\"2025-06-01 00:00:00+00:00\",\"2025-07-01 00:00:00+00:00\",\"2025-08-01 00:00:00+00:00\",\"2025-09-01 00:00:00+00:00\",\"2025-10-01 00:00:00+00:00\",\"2025-11-01 00:00:00+00:00\",\"2025-12-01 00:00:00+00:00\",\"2026-01-01 00:00:00+00:00\",\"2026-02-01 00:00:00+00:00\",\"2026-03-01 00:00:00+00:00\",\"2026-04-01 00:00:00+00:00\",\"2026-05-01 00:00:00+00:00\",\"2026-06-01 00:00:00+00:00\",\"2026-07-01 00:00:00+00:00\",\"2026-08-01 00:00:00+00:00\",\"2026-09-01 00:00:00+00:00\",\"2026-10-01 00:00:00+00:00\",\"2026-11-01 00:00:00+00:00\"],\"y\":[\"\",\"\",\"\",\"\",\"\",\"\",\"\",\"\",\"\",\"\",\"\",\"\",\"\",\"\",\"\",\"\",\"\",\"\",\"\",\"\",\"\",\"\",\"\",\"\",\"\",\"\",\"\",\"\",\"\",\"\",\"\",\"\",\"\",\"\",\"\",\"\",\"\",\"\",\"\",\"\",\"\",\"\",\"\",\"\",\"\",\"\",\"\",\"\",\"\",\"\",\"\",\"\",\"\",\"\",\"\",\"\",\"\",\"\",\"\",\"\",\"\",\"\",\"\",\"\",\"\",\"\",\"\",\"\",\"\",\"\",\"\",\"\",\"\",\"\",\"\",\"\",\"\",\"\",\"\",\"\",\"\",\"\",\"\",\"\",\"\",\"\",\"\",\"\",1253.2421854468996,1172.9301029816002,1121.245508182418,1093.7175604493696,1090.3446707520768,1112.7279599167337,1160.6485562808853,1236.7990372753507,1340.849851817457,1471.9083793646191,1629.484645854297,1812.685478037687,2019.9762870996258,2250.4719140314755,2501.849196421086,2771.467580310438,3055.424821621643,3347.1605738963626,3639.382431290094,3922.4296418128365,4184.797349177168,4413.055621337262,4590.914271567489,4701.291361484476,4728.063897993636,4662.4941484895635,4507.301427566387,4272.23436750282,3981.109355599343,3660.137102494196,3332.184446204787,3015.559503859829,2722.7534359933347,2460.452606081419,2235.5178945886328,2046.700738167793,1889.9339099348433,1762.7211122547458,1663.822072373592,1592.4368862169197,1547.474097180103,1527.5302459982752,1533.2195274565431,1564.458206562832,1621.548199088898,1704.1936690313862,1811.9914172040328,1943.7868403167688],\"type\":\"scatter\"}],                        {\"legend\":{\"bgcolor\":\"#F5F6F9\",\"font\":{\"color\":\"#4D5663\"}},\"paper_bgcolor\":\"#F5F6F9\",\"plot_bgcolor\":\"#F5F6F9\",\"template\":{\"data\":{\"barpolar\":[{\"marker\":{\"line\":{\"color\":\"#E5ECF6\",\"width\":0.5},\"pattern\":{\"fillmode\":\"overlay\",\"size\":10,\"solidity\":0.2}},\"type\":\"barpolar\"}],\"bar\":[{\"error_x\":{\"color\":\"#2a3f5f\"},\"error_y\":{\"color\":\"#2a3f5f\"},\"marker\":{\"line\":{\"color\":\"#E5ECF6\",\"width\":0.5},\"pattern\":{\"fillmode\":\"overlay\",\"size\":10,\"solidity\":0.2}},\"type\":\"bar\"}],\"carpet\":[{\"aaxis\":{\"endlinecolor\":\"#2a3f5f\",\"gridcolor\":\"white\",\"linecolor\":\"white\",\"minorgridcolor\":\"white\",\"startlinecolor\":\"#2a3f5f\"},\"baxis\":{\"endlinecolor\":\"#2a3f5f\",\"gridcolor\":\"white\",\"linecolor\":\"white\",\"minorgridcolor\":\"white\",\"startlinecolor\":\"#2a3f5f\"},\"type\":\"carpet\"}],\"choropleth\":[{\"colorbar\":{\"outlinewidth\":0,\"ticks\":\"\"},\"type\":\"choropleth\"}],\"contourcarpet\":[{\"colorbar\":{\"outlinewidth\":0,\"ticks\":\"\"},\"type\":\"contourcarpet\"}],\"contour\":[{\"colorbar\":{\"outlinewidth\":0,\"ticks\":\"\"},\"colorscale\":[[0.0,\"#0d0887\"],[0.1111111111111111,\"#46039f\"],[0.2222222222222222,\"#7201a8\"],[0.3333333333333333,\"#9c179e\"],[0.4444444444444444,\"#bd3786\"],[0.5555555555555556,\"#d8576b\"],[0.6666666666666666,\"#ed7953\"],[0.7777777777777778,\"#fb9f3a\"],[0.8888888888888888,\"#fdca26\"],[1.0,\"#f0f921\"]],\"type\":\"contour\"}],\"heatmapgl\":[{\"colorbar\":{\"outlinewidth\":0,\"ticks\":\"\"},\"colorscale\":[[0.0,\"#0d0887\"],[0.1111111111111111,\"#46039f\"],[0.2222222222222222,\"#7201a8\"],[0.3333333333333333,\"#9c179e\"],[0.4444444444444444,\"#bd3786\"],[0.5555555555555556,\"#d8576b\"],[0.6666666666666666,\"#ed7953\"],[0.7777777777777778,\"#fb9f3a\"],[0.8888888888888888,\"#fdca26\"],[1.0,\"#f0f921\"]],\"type\":\"heatmapgl\"}],\"heatmap\":[{\"colorbar\":{\"outlinewidth\":0,\"ticks\":\"\"},\"colorscale\":[[0.0,\"#0d0887\"],[0.1111111111111111,\"#46039f\"],[0.2222222222222222,\"#7201a8\"],[0.3333333333333333,\"#9c179e\"],[0.4444444444444444,\"#bd3786\"],[0.5555555555555556,\"#d8576b\"],[0.6666666666666666,\"#ed7953\"],[0.7777777777777778,\"#fb9f3a\"],[0.8888888888888888,\"#fdca26\"],[1.0,\"#f0f921\"]],\"type\":\"heatmap\"}],\"histogram2dcontour\":[{\"colorbar\":{\"outlinewidth\":0,\"ticks\":\"\"},\"colorscale\":[[0.0,\"#0d0887\"],[0.1111111111111111,\"#46039f\"],[0.2222222222222222,\"#7201a8\"],[0.3333333333333333,\"#9c179e\"],[0.4444444444444444,\"#bd3786\"],[0.5555555555555556,\"#d8576b\"],[0.6666666666666666,\"#ed7953\"],[0.7777777777777778,\"#fb9f3a\"],[0.8888888888888888,\"#fdca26\"],[1.0,\"#f0f921\"]],\"type\":\"histogram2dcontour\"}],\"histogram2d\":[{\"colorbar\":{\"outlinewidth\":0,\"ticks\":\"\"},\"colorscale\":[[0.0,\"#0d0887\"],[0.1111111111111111,\"#46039f\"],[0.2222222222222222,\"#7201a8\"],[0.3333333333333333,\"#9c179e\"],[0.4444444444444444,\"#bd3786\"],[0.5555555555555556,\"#d8576b\"],[0.6666666666666666,\"#ed7953\"],[0.7777777777777778,\"#fb9f3a\"],[0.8888888888888888,\"#fdca26\"],[1.0,\"#f0f921\"]],\"type\":\"histogram2d\"}],\"histogram\":[{\"marker\":{\"pattern\":{\"fillmode\":\"overlay\",\"size\":10,\"solidity\":0.2}},\"type\":\"histogram\"}],\"mesh3d\":[{\"colorbar\":{\"outlinewidth\":0,\"ticks\":\"\"},\"type\":\"mesh3d\"}],\"parcoords\":[{\"line\":{\"colorbar\":{\"outlinewidth\":0,\"ticks\":\"\"}},\"type\":\"parcoords\"}],\"pie\":[{\"automargin\":true,\"type\":\"pie\"}],\"scatter3d\":[{\"line\":{\"colorbar\":{\"outlinewidth\":0,\"ticks\":\"\"}},\"marker\":{\"colorbar\":{\"outlinewidth\":0,\"ticks\":\"\"}},\"type\":\"scatter3d\"}],\"scattercarpet\":[{\"marker\":{\"colorbar\":{\"outlinewidth\":0,\"ticks\":\"\"}},\"type\":\"scattercarpet\"}],\"scattergeo\":[{\"marker\":{\"colorbar\":{\"outlinewidth\":0,\"ticks\":\"\"}},\"type\":\"scattergeo\"}],\"scattergl\":[{\"marker\":{\"colorbar\":{\"outlinewidth\":0,\"ticks\":\"\"}},\"type\":\"scattergl\"}],\"scattermapbox\":[{\"marker\":{\"colorbar\":{\"outlinewidth\":0,\"ticks\":\"\"}},\"type\":\"scattermapbox\"}],\"scatterpolargl\":[{\"marker\":{\"colorbar\":{\"outlinewidth\":0,\"ticks\":\"\"}},\"type\":\"scatterpolargl\"}],\"scatterpolar\":[{\"marker\":{\"colorbar\":{\"outlinewidth\":0,\"ticks\":\"\"}},\"type\":\"scatterpolar\"}],\"scatter\":[{\"fillpattern\":{\"fillmode\":\"overlay\",\"size\":10,\"solidity\":0.2},\"type\":\"scatter\"}],\"scatterternary\":[{\"marker\":{\"colorbar\":{\"outlinewidth\":0,\"ticks\":\"\"}},\"type\":\"scatterternary\"}],\"surface\":[{\"colorbar\":{\"outlinewidth\":0,\"ticks\":\"\"},\"colorscale\":[[0.0,\"#0d0887\"],[0.1111111111111111,\"#46039f\"],[0.2222222222222222,\"#7201a8\"],[0.3333333333333333,\"#9c179e\"],[0.4444444444444444,\"#bd3786\"],[0.5555555555555556,\"#d8576b\"],[0.6666666666666666,\"#ed7953\"],[0.7777777777777778,\"#fb9f3a\"],[0.8888888888888888,\"#fdca26\"],[1.0,\"#f0f921\"]],\"type\":\"surface\"}],\"table\":[{\"cells\":{\"fill\":{\"color\":\"#EBF0F8\"},\"line\":{\"color\":\"white\"}},\"header\":{\"fill\":{\"color\":\"#C8D4E3\"},\"line\":{\"color\":\"white\"}},\"type\":\"table\"}]},\"layout\":{\"annotationdefaults\":{\"arrowcolor\":\"#2a3f5f\",\"arrowhead\":0,\"arrowwidth\":1},\"autotypenumbers\":\"strict\",\"coloraxis\":{\"colorbar\":{\"outlinewidth\":0,\"ticks\":\"\"}},\"colorscale\":{\"diverging\":[[0,\"#8e0152\"],[0.1,\"#c51b7d\"],[0.2,\"#de77ae\"],[0.3,\"#f1b6da\"],[0.4,\"#fde0ef\"],[0.5,\"#f7f7f7\"],[0.6,\"#e6f5d0\"],[0.7,\"#b8e186\"],[0.8,\"#7fbc41\"],[0.9,\"#4d9221\"],[1,\"#276419\"]],\"sequential\":[[0.0,\"#0d0887\"],[0.1111111111111111,\"#46039f\"],[0.2222222222222222,\"#7201a8\"],[0.3333333333333333,\"#9c179e\"],[0.4444444444444444,\"#bd3786\"],[0.5555555555555556,\"#d8576b\"],[0.6666666666666666,\"#ed7953\"],[0.7777777777777778,\"#fb9f3a\"],[0.8888888888888888,\"#fdca26\"],[1.0,\"#f0f921\"]],\"sequentialminus\":[[0.0,\"#0d0887\"],[0.1111111111111111,\"#46039f\"],[0.2222222222222222,\"#7201a8\"],[0.3333333333333333,\"#9c179e\"],[0.4444444444444444,\"#bd3786\"],[0.5555555555555556,\"#d8576b\"],[0.6666666666666666,\"#ed7953\"],[0.7777777777777778,\"#fb9f3a\"],[0.8888888888888888,\"#fdca26\"],[1.0,\"#f0f921\"]]},\"colorway\":[\"#636efa\",\"#EF553B\",\"#00cc96\",\"#ab63fa\",\"#FFA15A\",\"#19d3f3\",\"#FF6692\",\"#B6E880\",\"#FF97FF\",\"#FECB52\"],\"font\":{\"color\":\"#2a3f5f\"},\"geo\":{\"bgcolor\":\"white\",\"lakecolor\":\"white\",\"landcolor\":\"#E5ECF6\",\"showlakes\":true,\"showland\":true,\"subunitcolor\":\"white\"},\"hoverlabel\":{\"align\":\"left\"},\"hovermode\":\"closest\",\"mapbox\":{\"style\":\"light\"},\"paper_bgcolor\":\"white\",\"plot_bgcolor\":\"#E5ECF6\",\"polar\":{\"angularaxis\":{\"gridcolor\":\"white\",\"linecolor\":\"white\",\"ticks\":\"\"},\"bgcolor\":\"#E5ECF6\",\"radialaxis\":{\"gridcolor\":\"white\",\"linecolor\":\"white\",\"ticks\":\"\"}},\"scene\":{\"xaxis\":{\"backgroundcolor\":\"#E5ECF6\",\"gridcolor\":\"white\",\"gridwidth\":2,\"linecolor\":\"white\",\"showbackground\":true,\"ticks\":\"\",\"zerolinecolor\":\"white\"},\"yaxis\":{\"backgroundcolor\":\"#E5ECF6\",\"gridcolor\":\"white\",\"gridwidth\":2,\"linecolor\":\"white\",\"showbackground\":true,\"ticks\":\"\",\"zerolinecolor\":\"white\"},\"zaxis\":{\"backgroundcolor\":\"#E5ECF6\",\"gridcolor\":\"white\",\"gridwidth\":2,\"linecolor\":\"white\",\"showbackground\":true,\"ticks\":\"\",\"zerolinecolor\":\"white\"}},\"shapedefaults\":{\"line\":{\"color\":\"#2a3f5f\"}},\"ternary\":{\"aaxis\":{\"gridcolor\":\"white\",\"linecolor\":\"white\",\"ticks\":\"\"},\"baxis\":{\"gridcolor\":\"white\",\"linecolor\":\"white\",\"ticks\":\"\"},\"bgcolor\":\"#E5ECF6\",\"caxis\":{\"gridcolor\":\"white\",\"linecolor\":\"white\",\"ticks\":\"\"}},\"title\":{\"x\":0.05},\"xaxis\":{\"automargin\":true,\"gridcolor\":\"white\",\"linecolor\":\"white\",\"ticks\":\"\",\"title\":{\"standoff\":15},\"zerolinecolor\":\"white\",\"zerolinewidth\":2},\"yaxis\":{\"automargin\":true,\"gridcolor\":\"white\",\"linecolor\":\"white\",\"ticks\":\"\",\"title\":{\"standoff\":15},\"zerolinecolor\":\"white\",\"zerolinewidth\":2}}},\"title\":{\"font\":{\"color\":\"#4D5663\"}},\"xaxis\":{\"gridcolor\":\"#E1E5ED\",\"showgrid\":true,\"tickfont\":{\"color\":\"#4D5663\"},\"title\":{\"font\":{\"color\":\"#4D5663\"},\"text\":\"\"},\"zerolinecolor\":\"#E1E5ED\"},\"yaxis\":{\"gridcolor\":\"#E1E5ED\",\"showgrid\":true,\"tickfont\":{\"color\":\"#4D5663\"},\"title\":{\"font\":{\"color\":\"#4D5663\"},\"text\":\"\"},\"zerolinecolor\":\"#E1E5ED\"}},                        {\"showLink\": true, \"linkText\": \"Export to plot.ly\", \"plotlyServerURL\": \"https://plot.ly\", \"responsive\": true}                    ).then(function(){\n",
       "                            \n",
       "var gd = document.getElementById('6431f3d5-e248-400e-b935-c1125ef54c2b');\n",
       "var x = new MutationObserver(function (mutations, observer) {{\n",
       "        var display = window.getComputedStyle(gd).display;\n",
       "        if (!display || display === 'none') {{\n",
       "            console.log([gd, 'removed!']);\n",
       "            Plotly.purge(gd);\n",
       "            observer.disconnect();\n",
       "        }}\n",
       "}});\n",
       "\n",
       "// Listen for the removal of the full notebook cells\n",
       "var notebookContainer = gd.closest('#notebook-container');\n",
       "if (notebookContainer) {{\n",
       "    x.observe(notebookContainer, {childList: true});\n",
       "}}\n",
       "\n",
       "// Listen for the clearing of the current output cell\n",
       "var outputEl = gd.closest('.output');\n",
       "if (outputEl) {{\n",
       "    x.observe(outputEl, {childList: true});\n",
       "}}\n",
       "\n",
       "                        })                };                });            </script>        </div>"
      ]
     },
     "metadata": {},
     "output_type": "display_data"
    }
   ],
   "source": [
    "# same plot as above but with plotly\n",
    "result = df.join(predictions['Prediction'], how='outer')\n",
    "result[['price','Prediction']].iplot()"
   ]
  },
  {
   "cell_type": "code",
   "execution_count": 30,
   "id": "e2c5606d",
   "metadata": {},
   "outputs": [],
   "source": [
    "# in order not to retrain every time we can save the model\n",
    "model.save('ETH_rnn_daily_model.h5')"
   ]
  },
  {
   "cell_type": "code",
   "execution_count": 31,
   "id": "c5d088e5",
   "metadata": {},
   "outputs": [],
   "source": [
    "# and in order to reload \n",
    "# from keras.models import load_model\n",
    "# model = load_model('BTC_rnn_model.h5')\n",
    "# model.summary()"
   ]
  },
  {
   "cell_type": "code",
   "execution_count": null,
   "id": "b06fded5",
   "metadata": {},
   "outputs": [],
   "source": []
  },
  {
   "cell_type": "code",
   "execution_count": null,
   "id": "446e295c",
   "metadata": {},
   "outputs": [],
   "source": []
  }
 ],
 "metadata": {
  "kernelspec": {
   "display_name": "Python 3 (ipykernel)",
   "language": "python",
   "name": "python3"
  },
  "language_info": {
   "codemirror_mode": {
    "name": "ipython",
    "version": 3
   },
   "file_extension": ".py",
   "mimetype": "text/x-python",
   "name": "python",
   "nbconvert_exporter": "python",
   "pygments_lexer": "ipython3",
   "version": "3.8.8"
  }
 },
 "nbformat": 4,
 "nbformat_minor": 5
}
